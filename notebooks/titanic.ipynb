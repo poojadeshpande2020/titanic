{
 "cells": [
  {
   "cell_type": "code",
   "execution_count": 1,
   "metadata": {
    "colab": {},
    "colab_type": "code",
    "id": "1PYTgAEwHrqV"
   },
   "outputs": [],
   "source": [
    "import pandas as pd\n",
    "import numpy as np\n",
    "import seaborn as sns\n",
    "import matplotlib.pyplot as plt\n",
    "import string\n",
    "from fancyimpute import KNN\n",
    "from sklearn.preprocessing import OrdinalEncoder\n",
    "from sklearn.model_selection import cross_validate\n",
    "from sklearn.linear_model import LogisticRegression\n",
    "from sklearn.metrics import f1_score\n",
    "\n",
    "from sklearn.metrics import roc_auc_score\n",
    "from sklearn.naive_bayes import GaussianNB\n",
    "from sklearn.svm import SVC\n",
    "from sklearn.tree import DecisionTreeClassifier\n",
    "from sklearn.ensemble import RandomForestClassifier\n",
    "from sklearn.neighbors import KNeighborsClassifier\n",
    "from sklearn.metrics import plot_confusion_matrix\n",
    "from sklearn.model_selection import train_test_split\n",
    "from sklearn.model_selection import GridSearchCV\n",
    "from sklearn.metrics import accuracy_score\n",
    "from sklearn.metrics import roc_auc_score\n",
    "from sklearn.metrics import roc_curve\n",
    "from sklearn.metrics import classification_report\n",
    "from sklearn.metrics import confusion_matrix\n",
    "from sklearn.model_selection import learning_curve\n",
    "import pickle\n",
    "\n",
    "np.set_printoptions(suppress = True)\n",
    "\n",
    "plt.rcParams['figure.figsize'] = 8,5"
   ]
  },
  {
   "cell_type": "code",
   "execution_count": 2,
   "metadata": {
    "colab": {},
    "colab_type": "code",
    "id": "RJGRXeCnIXxI"
   },
   "outputs": [],
   "source": [
    "train_df = pd.read_csv('../data/train.csv')\n",
    "test_df = pd.read_csv('../data/test.csv')\n"
   ]
  },
  {
   "cell_type": "code",
   "execution_count": 3,
   "metadata": {
    "colab": {},
    "colab_type": "code",
    "id": "FglIXce0lSNT"
   },
   "outputs": [],
   "source": [
    "df = train_df"
   ]
  },
  {
   "cell_type": "code",
   "execution_count": 4,
   "metadata": {
    "colab": {
     "base_uri": "https://localhost:8080/",
     "height": 238
    },
    "colab_type": "code",
    "id": "Z20ufnZ0IsE5",
    "outputId": "54e49414-99c5-4cad-d056-07e48440a51b"
   },
   "outputs": [
    {
     "data": {
      "text/html": [
       "<div>\n",
       "<style scoped>\n",
       "    .dataframe tbody tr th:only-of-type {\n",
       "        vertical-align: middle;\n",
       "    }\n",
       "\n",
       "    .dataframe tbody tr th {\n",
       "        vertical-align: top;\n",
       "    }\n",
       "\n",
       "    .dataframe thead th {\n",
       "        text-align: right;\n",
       "    }\n",
       "</style>\n",
       "<table border=\"1\" class=\"dataframe\">\n",
       "  <thead>\n",
       "    <tr style=\"text-align: right;\">\n",
       "      <th></th>\n",
       "      <th>PassengerId</th>\n",
       "      <th>Survived</th>\n",
       "      <th>Pclass</th>\n",
       "      <th>Name</th>\n",
       "      <th>Sex</th>\n",
       "      <th>Age</th>\n",
       "      <th>SibSp</th>\n",
       "      <th>Parch</th>\n",
       "      <th>Ticket</th>\n",
       "      <th>Fare</th>\n",
       "      <th>Cabin</th>\n",
       "      <th>Embarked</th>\n",
       "    </tr>\n",
       "  </thead>\n",
       "  <tbody>\n",
       "    <tr>\n",
       "      <th>0</th>\n",
       "      <td>1</td>\n",
       "      <td>0</td>\n",
       "      <td>3</td>\n",
       "      <td>Braund, Mr. Owen Harris</td>\n",
       "      <td>male</td>\n",
       "      <td>22.0</td>\n",
       "      <td>1</td>\n",
       "      <td>0</td>\n",
       "      <td>A/5 21171</td>\n",
       "      <td>7.2500</td>\n",
       "      <td>NaN</td>\n",
       "      <td>S</td>\n",
       "    </tr>\n",
       "    <tr>\n",
       "      <th>1</th>\n",
       "      <td>2</td>\n",
       "      <td>1</td>\n",
       "      <td>1</td>\n",
       "      <td>Cumings, Mrs. John Bradley (Florence Briggs Th...</td>\n",
       "      <td>female</td>\n",
       "      <td>38.0</td>\n",
       "      <td>1</td>\n",
       "      <td>0</td>\n",
       "      <td>PC 17599</td>\n",
       "      <td>71.2833</td>\n",
       "      <td>C85</td>\n",
       "      <td>C</td>\n",
       "    </tr>\n",
       "    <tr>\n",
       "      <th>2</th>\n",
       "      <td>3</td>\n",
       "      <td>1</td>\n",
       "      <td>3</td>\n",
       "      <td>Heikkinen, Miss. Laina</td>\n",
       "      <td>female</td>\n",
       "      <td>26.0</td>\n",
       "      <td>0</td>\n",
       "      <td>0</td>\n",
       "      <td>STON/O2. 3101282</td>\n",
       "      <td>7.9250</td>\n",
       "      <td>NaN</td>\n",
       "      <td>S</td>\n",
       "    </tr>\n",
       "    <tr>\n",
       "      <th>3</th>\n",
       "      <td>4</td>\n",
       "      <td>1</td>\n",
       "      <td>1</td>\n",
       "      <td>Futrelle, Mrs. Jacques Heath (Lily May Peel)</td>\n",
       "      <td>female</td>\n",
       "      <td>35.0</td>\n",
       "      <td>1</td>\n",
       "      <td>0</td>\n",
       "      <td>113803</td>\n",
       "      <td>53.1000</td>\n",
       "      <td>C123</td>\n",
       "      <td>S</td>\n",
       "    </tr>\n",
       "    <tr>\n",
       "      <th>4</th>\n",
       "      <td>5</td>\n",
       "      <td>0</td>\n",
       "      <td>3</td>\n",
       "      <td>Allen, Mr. William Henry</td>\n",
       "      <td>male</td>\n",
       "      <td>35.0</td>\n",
       "      <td>0</td>\n",
       "      <td>0</td>\n",
       "      <td>373450</td>\n",
       "      <td>8.0500</td>\n",
       "      <td>NaN</td>\n",
       "      <td>S</td>\n",
       "    </tr>\n",
       "  </tbody>\n",
       "</table>\n",
       "</div>"
      ],
      "text/plain": [
       "   PassengerId  Survived  Pclass  \\\n",
       "0            1         0       3   \n",
       "1            2         1       1   \n",
       "2            3         1       3   \n",
       "3            4         1       1   \n",
       "4            5         0       3   \n",
       "\n",
       "                                                Name     Sex   Age  SibSp  \\\n",
       "0                            Braund, Mr. Owen Harris    male  22.0      1   \n",
       "1  Cumings, Mrs. John Bradley (Florence Briggs Th...  female  38.0      1   \n",
       "2                             Heikkinen, Miss. Laina  female  26.0      0   \n",
       "3       Futrelle, Mrs. Jacques Heath (Lily May Peel)  female  35.0      1   \n",
       "4                           Allen, Mr. William Henry    male  35.0      0   \n",
       "\n",
       "   Parch            Ticket     Fare Cabin Embarked  \n",
       "0      0         A/5 21171   7.2500   NaN        S  \n",
       "1      0          PC 17599  71.2833   C85        C  \n",
       "2      0  STON/O2. 3101282   7.9250   NaN        S  \n",
       "3      0            113803  53.1000  C123        S  \n",
       "4      0            373450   8.0500   NaN        S  "
      ]
     },
     "execution_count": 4,
     "metadata": {},
     "output_type": "execute_result"
    }
   ],
   "source": [
    "df.head()"
   ]
  },
  {
   "cell_type": "markdown",
   "metadata": {
    "colab_type": "text",
    "id": "jC1cZQcbKiyy"
   },
   "source": [
    "## **Basic EDA and Visualizations**"
   ]
  },
  {
   "cell_type": "code",
   "execution_count": 5,
   "metadata": {
    "colab": {
     "base_uri": "https://localhost:8080/",
     "height": 34
    },
    "colab_type": "code",
    "id": "7f8thSJoJ-UU",
    "outputId": "c98ff259-b4d9-4dd5-cc1f-c500f32b81e2"
   },
   "outputs": [
    {
     "data": {
      "text/plain": [
       "(891, 12)"
      ]
     },
     "execution_count": 5,
     "metadata": {},
     "output_type": "execute_result"
    }
   ],
   "source": [
    "df.shape"
   ]
  },
  {
   "cell_type": "code",
   "execution_count": 6,
   "metadata": {
    "colab": {
     "base_uri": "https://localhost:8080/",
     "height": 340
    },
    "colab_type": "code",
    "id": "61DyiXYuKPpc",
    "outputId": "70267345-2dc3-416e-f433-16d3fe20d037"
   },
   "outputs": [
    {
     "name": "stdout",
     "output_type": "stream",
     "text": [
      "<class 'pandas.core.frame.DataFrame'>\n",
      "RangeIndex: 891 entries, 0 to 890\n",
      "Data columns (total 12 columns):\n",
      " #   Column       Non-Null Count  Dtype  \n",
      "---  ------       --------------  -----  \n",
      " 0   PassengerId  891 non-null    int64  \n",
      " 1   Survived     891 non-null    int64  \n",
      " 2   Pclass       891 non-null    int64  \n",
      " 3   Name         891 non-null    object \n",
      " 4   Sex          891 non-null    object \n",
      " 5   Age          714 non-null    float64\n",
      " 6   SibSp        891 non-null    int64  \n",
      " 7   Parch        891 non-null    int64  \n",
      " 8   Ticket       891 non-null    object \n",
      " 9   Fare         891 non-null    float64\n",
      " 10  Cabin        204 non-null    object \n",
      " 11  Embarked     889 non-null    object \n",
      "dtypes: float64(2), int64(5), object(5)\n",
      "memory usage: 83.7+ KB\n"
     ]
    }
   ],
   "source": [
    "df.info()"
   ]
  },
  {
   "cell_type": "code",
   "execution_count": 7,
   "metadata": {
    "colab": {
     "base_uri": "https://localhost:8080/",
     "height": 297
    },
    "colab_type": "code",
    "id": "O-E4JNRNLMNS",
    "outputId": "18337cb2-9857-4fdc-a1c8-3dc462be33da"
   },
   "outputs": [
    {
     "data": {
      "text/html": [
       "<div>\n",
       "<style scoped>\n",
       "    .dataframe tbody tr th:only-of-type {\n",
       "        vertical-align: middle;\n",
       "    }\n",
       "\n",
       "    .dataframe tbody tr th {\n",
       "        vertical-align: top;\n",
       "    }\n",
       "\n",
       "    .dataframe thead th {\n",
       "        text-align: right;\n",
       "    }\n",
       "</style>\n",
       "<table border=\"1\" class=\"dataframe\">\n",
       "  <thead>\n",
       "    <tr style=\"text-align: right;\">\n",
       "      <th></th>\n",
       "      <th>PassengerId</th>\n",
       "      <th>Survived</th>\n",
       "      <th>Pclass</th>\n",
       "      <th>Age</th>\n",
       "      <th>SibSp</th>\n",
       "      <th>Parch</th>\n",
       "      <th>Fare</th>\n",
       "    </tr>\n",
       "  </thead>\n",
       "  <tbody>\n",
       "    <tr>\n",
       "      <th>count</th>\n",
       "      <td>891.000000</td>\n",
       "      <td>891.000000</td>\n",
       "      <td>891.000000</td>\n",
       "      <td>714.000000</td>\n",
       "      <td>891.000000</td>\n",
       "      <td>891.000000</td>\n",
       "      <td>891.000000</td>\n",
       "    </tr>\n",
       "    <tr>\n",
       "      <th>mean</th>\n",
       "      <td>446.000000</td>\n",
       "      <td>0.383838</td>\n",
       "      <td>2.308642</td>\n",
       "      <td>29.699118</td>\n",
       "      <td>0.523008</td>\n",
       "      <td>0.381594</td>\n",
       "      <td>32.204208</td>\n",
       "    </tr>\n",
       "    <tr>\n",
       "      <th>std</th>\n",
       "      <td>257.353842</td>\n",
       "      <td>0.486592</td>\n",
       "      <td>0.836071</td>\n",
       "      <td>14.526497</td>\n",
       "      <td>1.102743</td>\n",
       "      <td>0.806057</td>\n",
       "      <td>49.693429</td>\n",
       "    </tr>\n",
       "    <tr>\n",
       "      <th>min</th>\n",
       "      <td>1.000000</td>\n",
       "      <td>0.000000</td>\n",
       "      <td>1.000000</td>\n",
       "      <td>0.420000</td>\n",
       "      <td>0.000000</td>\n",
       "      <td>0.000000</td>\n",
       "      <td>0.000000</td>\n",
       "    </tr>\n",
       "    <tr>\n",
       "      <th>25%</th>\n",
       "      <td>223.500000</td>\n",
       "      <td>0.000000</td>\n",
       "      <td>2.000000</td>\n",
       "      <td>20.125000</td>\n",
       "      <td>0.000000</td>\n",
       "      <td>0.000000</td>\n",
       "      <td>7.910400</td>\n",
       "    </tr>\n",
       "    <tr>\n",
       "      <th>50%</th>\n",
       "      <td>446.000000</td>\n",
       "      <td>0.000000</td>\n",
       "      <td>3.000000</td>\n",
       "      <td>28.000000</td>\n",
       "      <td>0.000000</td>\n",
       "      <td>0.000000</td>\n",
       "      <td>14.454200</td>\n",
       "    </tr>\n",
       "    <tr>\n",
       "      <th>75%</th>\n",
       "      <td>668.500000</td>\n",
       "      <td>1.000000</td>\n",
       "      <td>3.000000</td>\n",
       "      <td>38.000000</td>\n",
       "      <td>1.000000</td>\n",
       "      <td>0.000000</td>\n",
       "      <td>31.000000</td>\n",
       "    </tr>\n",
       "    <tr>\n",
       "      <th>max</th>\n",
       "      <td>891.000000</td>\n",
       "      <td>1.000000</td>\n",
       "      <td>3.000000</td>\n",
       "      <td>80.000000</td>\n",
       "      <td>8.000000</td>\n",
       "      <td>6.000000</td>\n",
       "      <td>512.329200</td>\n",
       "    </tr>\n",
       "  </tbody>\n",
       "</table>\n",
       "</div>"
      ],
      "text/plain": [
       "       PassengerId    Survived      Pclass         Age       SibSp  \\\n",
       "count   891.000000  891.000000  891.000000  714.000000  891.000000   \n",
       "mean    446.000000    0.383838    2.308642   29.699118    0.523008   \n",
       "std     257.353842    0.486592    0.836071   14.526497    1.102743   \n",
       "min       1.000000    0.000000    1.000000    0.420000    0.000000   \n",
       "25%     223.500000    0.000000    2.000000   20.125000    0.000000   \n",
       "50%     446.000000    0.000000    3.000000   28.000000    0.000000   \n",
       "75%     668.500000    1.000000    3.000000   38.000000    1.000000   \n",
       "max     891.000000    1.000000    3.000000   80.000000    8.000000   \n",
       "\n",
       "            Parch        Fare  \n",
       "count  891.000000  891.000000  \n",
       "mean     0.381594   32.204208  \n",
       "std      0.806057   49.693429  \n",
       "min      0.000000    0.000000  \n",
       "25%      0.000000    7.910400  \n",
       "50%      0.000000   14.454200  \n",
       "75%      0.000000   31.000000  \n",
       "max      6.000000  512.329200  "
      ]
     },
     "execution_count": 7,
     "metadata": {},
     "output_type": "execute_result"
    }
   ],
   "source": [
    "df.describe()"
   ]
  },
  {
   "cell_type": "code",
   "execution_count": 8,
   "metadata": {
    "colab": {
     "base_uri": "https://localhost:8080/",
     "height": 374
    },
    "colab_type": "code",
    "id": "r0YK-jk5X1ID",
    "outputId": "c6289228-7bd2-4c1d-a832-51b9e307e807"
   },
   "outputs": [
    {
     "data": {
      "image/png": "[encoded data removed]",
      "text/plain": [
       "<Figure size 576x360 with 2 Axes>"
      ]
     },
     "metadata": {
      "needs_background": "light"
     },
     "output_type": "display_data"
    }
   ],
   "source": [
    "#Check for null values\n",
    "sns.heatmap(df.isnull(),yticklabels='None')\n",
    "plt.show()"
   ]
  },
  {
   "cell_type": "code",
   "execution_count": 9,
   "metadata": {
    "colab": {
     "base_uri": "https://localhost:8080/",
     "height": 334
    },
    "colab_type": "code",
    "id": "Iu0tLKqiKUTk",
    "outputId": "135c498f-fb5e-4f49-e2f3-8a122f0f10d3"
   },
   "outputs": [
    {
     "data": {
      "image/png": "[encoded data removed]",
      "text/plain": [
       "<Figure size 576x360 with 1 Axes>"
      ]
     },
     "metadata": {
      "needs_background": "light"
     },
     "output_type": "display_data"
    }
   ],
   "source": [
    "#Check how many travellers survived and how many didn't\n",
    "sns.countplot('Survived',data = df,palette='inferno')\n",
    "plt.show()"
   ]
  },
  {
   "cell_type": "markdown",
   "metadata": {
    "colab_type": "text",
    "id": "NedoPS7APrP4"
   },
   "source": [
    "\n",
    "\n",
    "\n",
    "\n",
    "Imbalanced dataset. Positive class is lower than the negative"
   ]
  },
  {
   "cell_type": "code",
   "execution_count": 10,
   "metadata": {
    "colab": {
     "base_uri": "https://localhost:8080/",
     "height": 350
    },
    "colab_type": "code",
    "id": "gx5EXAFPKp99",
    "outputId": "95d38b9b-4059-4fc3-f908-b084fcbcb78a"
   },
   "outputs": [
    {
     "data": {
      "image/png": "[encoded data removed]",
      "text/plain": [
       "<Figure size 1080x360 with 2 Axes>"
      ]
     },
     "metadata": {
      "needs_background": "light"
     },
     "output_type": "display_data"
    }
   ],
   "source": [
    "#Analysis of Sex and Survived\n",
    "fig = plt.figure(figsize=(15,5))\n",
    "ax1 = fig.add_subplot(1,2,1)\n",
    "sns.countplot('Sex',data=df,ax=ax1,palette='RdBu')\n",
    "ax1.set_title(\"Ratio of males to females on titanic\")\n",
    "ax2 = fig.add_subplot(1,2,2)\n",
    "sns.barplot('Sex','Survived',data = df,ax=ax2,palette='icefire')\n",
    "\n",
    "ax2.set_title(\"Number of male and female survivors\")\n",
    "\n",
    "plt.show()"
   ]
  },
  {
   "cell_type": "markdown",
   "metadata": {
    "colab_type": "text",
    "id": "4BKzfGcWP79M"
   },
   "source": [
    "More males in the dataset but more number of female survivors. Let's see the male and female survival rate"
   ]
  },
  {
   "cell_type": "code",
   "execution_count": 11,
   "metadata": {
    "colab": {
     "base_uri": "https://localhost:8080/",
     "height": 51
    },
    "colab_type": "code",
    "id": "oaJgvP--VcuF",
    "outputId": "38ae965a-93c0-4a89-b22a-7f3f806a12b1"
   },
   "outputs": [
    {
     "name": "stdout",
     "output_type": "stream",
     "text": [
      "Male survival rate : 18.89%\n",
      "Female survival rate : 74.20%\n"
     ]
    }
   ],
   "source": [
    "#Calculating the male and female survival rate\n",
    "total_male = (train_df['Sex']=='male').sum()\n",
    "total_male_survived = ((train_df['Sex']=='male')&(train_df['Survived']==1)).sum()\n",
    "\n",
    "total_female = (train_df['Sex']=='female').sum()\n",
    "total_female_survived = ((train_df['Sex']=='female')&(train_df['Survived']==1)).sum()\n",
    "\n",
    "print(\"Male survival rate : {:.2f}%\".format(total_male_survived*100/total_male))\n",
    "print(\"Female survival rate : {:.2f}%\".format(total_female_survived*100/total_female))"
   ]
  },
  {
   "cell_type": "code",
   "execution_count": 12,
   "metadata": {
    "colab": {
     "base_uri": "https://localhost:8080/",
     "height": 334
    },
    "colab_type": "code",
    "id": "aWy945g5XDFG",
    "outputId": "85ffaeb7-a14a-49da-d10d-ce3b32efa7d6"
   },
   "outputs": [
    {
     "data": {
      "image/png": "[encoded data removed]",
      "text/plain": [
       "<Figure size 576x360 with 1 Axes>"
      ]
     },
     "metadata": {
      "needs_background": "light"
     },
     "output_type": "display_data"
    }
   ],
   "source": [
    "#Amongst the people that survived, how many male and female\n",
    "survived = train_df[train_df['Survived']==1][['Survived','Sex']]\n",
    "\n",
    "sns.countplot('Sex',data=survived,palette='muted')\n",
    "plt.show()"
   ]
  },
  {
   "cell_type": "code",
   "execution_count": 13,
   "metadata": {
    "colab": {
     "base_uri": "https://localhost:8080/",
     "height": 334
    },
    "colab_type": "code",
    "id": "DcOrjG0jLxxz",
    "outputId": "543fbc6a-e8ef-4a33-d307-c781c9b0c830"
   },
   "outputs": [
    {
     "data": {
      "image/png": "[encoded data removed]",
      "text/plain": [
       "<Figure size 576x360 with 1 Axes>"
      ]
     },
     "metadata": {
      "needs_background": "light"
     },
     "output_type": "display_data"
    }
   ],
   "source": [
    "#Age of the people that survived and that didn't\n",
    "sns.boxplot('Survived','Age',data=df,palette='Set3')\n",
    "plt.show()"
   ]
  },
  {
   "cell_type": "markdown",
   "metadata": {
    "colab_type": "text",
    "id": "nSHDTTMMQBlc"
   },
   "source": [
    "Most of the people between the ages of 20 and 40"
   ]
  },
  {
   "cell_type": "code",
   "execution_count": 14,
   "metadata": {
    "colab": {},
    "colab_type": "code",
    "id": "dZsm7xxPNB9r"
   },
   "outputs": [],
   "source": [
    "#Analyzing the distribution of fare amongst survivors and non survivors\n",
    "survived_fare = train_df[train_df['Survived']==1]['Fare']\n",
    "notsurvived_fare = train_df[train_df['Survived']==0]['Fare']"
   ]
  },
  {
   "cell_type": "code",
   "execution_count": 15,
   "metadata": {
    "colab": {
     "base_uri": "https://localhost:8080/",
     "height": 350
    },
    "colab_type": "code",
    "id": "AhZtF3uONbJT",
    "outputId": "4a3fa6a7-9614-4137-a27c-60a7de0e2955"
   },
   "outputs": [
    {
     "data": {
      "image/png": "[encoded data removed]",
      "text/plain": [
       "<Figure size 1080x360 with 2 Axes>"
      ]
     },
     "metadata": {
      "needs_background": "light"
     },
     "output_type": "display_data"
    }
   ],
   "source": [
    "fig = plt.figure(figsize=(15,5))\n",
    "ax1 = fig.add_subplot(1,2,1)\n",
    "sns.distplot(survived_fare,kde=False,hist_kws=dict(edgecolor=\"k\", linewidth=2),bins =20,ax=ax1,color='darkblue')\n",
    "ax1.set_title(\"Survived = 1\")\n",
    "ax2 = fig.add_subplot(1,2,2)\n",
    "sns.distplot(notsurvived_fare,kde=False,hist_kws=dict(edgecolor=\"k\", linewidth=2),bins =20,ax=ax2,color='darkred')\n",
    "ax2.set_title(\"Survived = 0\")\n",
    "ax2.set_xlim(0,500)\n",
    "plt.show()"
   ]
  },
  {
   "cell_type": "markdown",
   "metadata": {
    "colab_type": "text",
    "id": "hojRWTOGQGel"
   },
   "source": [
    "People who paid higher fare have survived than the ones who paid lower fare or you could say richer people survived."
   ]
  },
  {
   "cell_type": "code",
   "execution_count": 16,
   "metadata": {
    "colab": {
     "base_uri": "https://localhost:8080/",
     "height": 334
    },
    "colab_type": "code",
    "id": "09cnEhY7OebP",
    "outputId": "3d4d2f2b-8b33-42e3-ef73-a53bdb7f8f7d"
   },
   "outputs": [
    {
     "data": {
      "image/png": "[encoded data removed]",
      "text/plain": [
       "<Figure size 576x360 with 1 Axes>"
      ]
     },
     "metadata": {
      "needs_background": "light"
     },
     "output_type": "display_data"
    }
   ],
   "source": [
    "#Analyzing Pclass\n",
    "sns.barplot('Sex','Survived',hue='Pclass',data=train_df,palette='Set1')\n",
    "plt.show()"
   ]
  },
  {
   "cell_type": "markdown",
   "metadata": {
    "colab_type": "text",
    "id": "Vf6q11TuWzYi"
   },
   "source": [
    "As expected, 1st class travellers have survived more than second/third class survivors"
   ]
  },
  {
   "cell_type": "code",
   "execution_count": 17,
   "metadata": {
    "colab": {
     "base_uri": "https://localhost:8080/",
     "height": 334
    },
    "colab_type": "code",
    "id": "Gecm_6hXRZej",
    "outputId": "46bf823e-638b-4874-9ed5-f8034b1c2525"
   },
   "outputs": [
    {
     "data": {
      "image/png": "[encoded data removed]",
      "text/plain": [
       "<Figure size 576x360 with 1 Axes>"
      ]
     },
     "metadata": {
      "needs_background": "light"
     },
     "output_type": "display_data"
    }
   ],
   "source": [
    "#Where did the survivors embark\n",
    "sns.barplot('Sex','Survived',hue='Embarked',data=train_df,palette='Set2')\n",
    "plt.show()"
   ]
  },
  {
   "cell_type": "markdown",
   "metadata": {
    "colab_type": "text",
    "id": "nuP0qBfYXl3x"
   },
   "source": [
    "People who embarked on Cherbourg have higher survival percentage"
   ]
  },
  {
   "cell_type": "code",
   "execution_count": 18,
   "metadata": {
    "colab": {
     "base_uri": "https://localhost:8080/",
     "height": 351
    },
    "colab_type": "code",
    "id": "z41ZCzJwTlJM",
    "outputId": "ff4754da-b53a-4929-9926-826ab369e9cd"
   },
   "outputs": [
    {
     "data": {
      "text/plain": [
       "<matplotlib.axes._subplots.AxesSubplot at 0x141c9a130>"
      ]
     },
     "execution_count": 18,
     "metadata": {},
     "output_type": "execute_result"
    },
    {
     "data": {
      "image/png": "[encoded data removed]",
      "text/plain": [
       "<Figure size 576x360 with 1 Axes>"
      ]
     },
     "metadata": {
      "needs_background": "light"
     },
     "output_type": "display_data"
    }
   ],
   "source": [
    "sns.barplot('Embarked','Survived',hue = 'Pclass',data = train_df,palette='Set1')"
   ]
  },
  {
   "cell_type": "code",
   "execution_count": 19,
   "metadata": {
    "colab": {
     "base_uri": "https://localhost:8080/",
     "height": 333
    },
    "colab_type": "code",
    "id": "DJ4WEkhKRrAx",
    "outputId": "6c30d57e-3b8c-4f56-d55b-eae239b6c7c6"
   },
   "outputs": [
    {
     "data": {
      "image/png": "[encoded data removed]",
      "text/plain": [
       "<Figure size 432x324 with 3 Axes>"
      ]
     },
     "metadata": {
      "needs_background": "light"
     },
     "output_type": "display_data"
    }
   ],
   "source": [
    "sns.catplot(x=\"Fare\", y=\"Survived\", row=\"Pclass\",\n",
    "                kind=\"box\", orient=\"h\", height=1.5, aspect=4,\n",
    "                data=train_df.query(\"Fare > 0\"),palette='husl')\n",
    "plt.show()"
   ]
  },
  {
   "cell_type": "code",
   "execution_count": 20,
   "metadata": {
    "colab": {
     "base_uri": "https://localhost:8080/",
     "height": 350
    },
    "colab_type": "code",
    "id": "qgFdY4N-R1bk",
    "outputId": "b078f3e5-bb83-4582-852b-5c6e159bc943"
   },
   "outputs": [
    {
     "data": {
      "image/png": "[encoded data removed]",
      "text/plain": [
       "<Figure size 576x360 with 1 Axes>"
      ]
     },
     "metadata": {
      "needs_background": "light"
     },
     "output_type": "display_data"
    }
   ],
   "source": [
    "sns.scatterplot('Age','Fare',hue = 'Survived',data=train_df,palette = 'gist_earth')\n",
    "plt.title(\"Age vs Fare\")\n",
    "plt.show()"
   ]
  },
  {
   "cell_type": "markdown",
   "metadata": {
    "colab_type": "text",
    "id": "naEZZ37-9HY9"
   },
   "source": [
    "A few outliers in Fare. These could be influential for the problem. May consider removing those while building the models"
   ]
  },
  {
   "cell_type": "code",
   "execution_count": 21,
   "metadata": {
    "colab": {
     "base_uri": "https://localhost:8080/",
     "height": 350
    },
    "colab_type": "code",
    "id": "V8labv9AdBcx",
    "outputId": "cc12d5f3-1336-4bed-96c1-a67a25045cd0"
   },
   "outputs": [
    {
     "data": {
      "image/png": "[encoded data removed]",
      "text/plain": [
       "<Figure size 576x360 with 1 Axes>"
      ]
     },
     "metadata": {
      "needs_background": "light"
     },
     "output_type": "display_data"
    }
   ],
   "source": [
    "sns.distplot(train_df[train_df['Age'].notnull()]['Age'],bins=20,kde=True,hist_kws=dict(edgecolor=\"k\", linewidth=2),color='DarkBlue')\n",
    "plt.title(\"Histogram of Age\")\n",
    "plt.show()"
   ]
  },
  {
   "cell_type": "code",
   "execution_count": 22,
   "metadata": {
    "colab": {
     "base_uri": "https://localhost:8080/",
     "height": 350
    },
    "colab_type": "code",
    "id": "cWcJIZ8FX6u9",
    "outputId": "7500cd22-eb38-4578-e416-3d157503f99b"
   },
   "outputs": [
    {
     "data": {
      "image/png": "[encoded data removed]",
      "text/plain": [
       "<Figure size 576x360 with 1 Axes>"
      ]
     },
     "metadata": {
      "needs_background": "light"
     },
     "output_type": "display_data"
    }
   ],
   "source": [
    "sns.pointplot('Pclass','Age',hue = 'Survived',data = train_df)\n",
    "plt.title(\"Mean age of the survivors and non survivors per Class\")\n",
    "plt.show()"
   ]
  },
  {
   "cell_type": "markdown",
   "metadata": {
    "colab_type": "text",
    "id": "H1hYmd9S93aB"
   },
   "source": [
    "### **Creating new features**\n"
   ]
  },
  {
   "cell_type": "code",
   "execution_count": 23,
   "metadata": {
    "colab": {
     "base_uri": "https://localhost:8080/",
     "height": 221
    },
    "colab_type": "code",
    "id": "lYtM0E6OD-v4",
    "outputId": "adb0572b-03ca-496f-9b0e-86ffbb65fd0f"
   },
   "outputs": [
    {
     "data": {
      "text/plain": [
       "PassengerId      0\n",
       "Pclass           0\n",
       "Name             0\n",
       "Sex              0\n",
       "Age             86\n",
       "SibSp            0\n",
       "Parch            0\n",
       "Ticket           0\n",
       "Fare             1\n",
       "Cabin          327\n",
       "Embarked         0\n",
       "dtype: int64"
      ]
     },
     "execution_count": 23,
     "metadata": {},
     "output_type": "execute_result"
    }
   ],
   "source": [
    "test_df.isna().sum()"
   ]
  },
  {
   "cell_type": "code",
   "execution_count": 24,
   "metadata": {
    "colab": {},
    "colab_type": "code",
    "id": "h1N23HDZeHyH"
   },
   "outputs": [],
   "source": [
    "#Create family size as a linear combination of sibling, spouse, parents and children\n",
    "df['family_size'] = df['SibSp']+df['Parch']\n"
   ]
  },
  {
   "cell_type": "code",
   "execution_count": 25,
   "metadata": {
    "colab": {
     "base_uri": "https://localhost:8080/",
     "height": 351
    },
    "colab_type": "code",
    "id": "IIqsKeoN9dy1",
    "outputId": "22c1942e-24eb-483b-e67a-d00024b12458"
   },
   "outputs": [
    {
     "data": {
      "image/png": "[encoded data removed]",
      "text/plain": [
       "<Figure size 576x360 with 1 Axes>"
      ]
     },
     "metadata": {
      "needs_background": "light"
     },
     "output_type": "display_data"
    }
   ],
   "source": [
    "#Relationship of family size and survived\n",
    "sns.barplot('family_size','Survived',data = train_df)\n",
    "plt.title(\"Family size and survived\")\n",
    "plt.show()"
   ]
  },
  {
   "cell_type": "markdown",
   "metadata": {
    "colab_type": "text",
    "id": "1-bWjJEp_pwt"
   },
   "source": [
    "Family size of 3 have had a higher survival rate than family sizes of zero. Family size of 5 had the lowest survival percentage. Family sizes of over 6 have not survived."
   ]
  },
  {
   "cell_type": "code",
   "execution_count": 26,
   "metadata": {
    "colab": {},
    "colab_type": "code",
    "id": "xzR0Ajjb-abX"
   },
   "outputs": [],
   "source": [
    "#Create title feature\n",
    "def find_substrings(main_string,substrings):\n",
    "  for substring in substrings:\n",
    "    if (main_string.find(substring))!=-1:\n",
    "      return substring\n",
    "  return np.nan\n"
   ]
  },
  {
   "cell_type": "code",
   "execution_count": 27,
   "metadata": {
    "colab": {},
    "colab_type": "code",
    "id": "C29SS3bnEq-j"
   },
   "outputs": [],
   "source": [
    "titles_list = ['Mrs', 'Mr', 'Master', 'Miss', 'Major', 'Rev',\n",
    "                    'Dr', 'Ms', 'Mlle','Col', 'Capt', 'Mme', 'Countess',\n",
    "                    'Don', 'Jonkheer']"
   ]
  },
  {
   "cell_type": "code",
   "execution_count": 28,
   "metadata": {
    "colab": {},
    "colab_type": "code",
    "id": "XU7YVu6Y_Zfq"
   },
   "outputs": [],
   "source": [
    "df['title'] = df['Name'].apply(lambda x: find_substrings(x,titles_list))"
   ]
  },
  {
   "cell_type": "code",
   "execution_count": 29,
   "metadata": {
    "colab": {},
    "colab_type": "code",
    "id": "rclqKoAUAn4S"
   },
   "outputs": [],
   "source": [
    "def replace_title(x):\n",
    "  title = x['title']\n",
    "  if title in ['Don', 'Major', 'Capt', 'Jonkheer', 'Rev', 'Col']:\n",
    "      return 'Mr'\n",
    "  elif title in ['Countess', 'Mme']:\n",
    "      return 'Mrs'\n",
    "  elif title in ['Mlle', 'Ms']:\n",
    "      return 'Miss'\n",
    "  elif title =='Dr':\n",
    "      if x['Sex']=='Male':\n",
    "          return 'Mr'\n",
    "      else:\n",
    "          return 'Mrs'\n",
    "  else:\n",
    "      return title"
   ]
  },
  {
   "cell_type": "code",
   "execution_count": 30,
   "metadata": {
    "colab": {},
    "colab_type": "code",
    "id": "9CQwYbc_A30B"
   },
   "outputs": [],
   "source": [
    "df['title'] = df.apply(replace_title,axis = 1)"
   ]
  },
  {
   "cell_type": "markdown",
   "metadata": {
    "colab_type": "text",
    "id": "c-LfsUS6hAwX"
   },
   "source": [
    "# Dropping rows with extreme outliers in 'Fare' column. After doing this, noticed an increase in cross validation scores but the test case scores for the three selected models have decreased "
   ]
  },
  {
   "cell_type": "code",
   "execution_count": 31,
   "metadata": {
    "colab": {},
    "colab_type": "code",
    "id": "_rr-kVXegPwx"
   },
   "outputs": [],
   "source": [
    "# indices = df['Fare'][df['Fare']>400].index\n",
    "# df.drop(indices,inplace = True)"
   ]
  },
  {
   "cell_type": "code",
   "execution_count": 32,
   "metadata": {
    "colab": {},
    "colab_type": "code",
    "id": "zOjP-Xl7LOJl"
   },
   "outputs": [],
   "source": [
    "#Drop 'Name','PassengerId', 'Ticket'\n",
    "df.drop(columns = ['Name','PassengerId','Ticket','Cabin'],inplace = True)"
   ]
  },
  {
   "cell_type": "code",
   "execution_count": 33,
   "metadata": {
    "colab": {},
    "colab_type": "code",
    "id": "huRqFgZ-GOwy"
   },
   "outputs": [],
   "source": [
    "#Encoding 'Sex' column\n",
    "sex_dict = {'male':0,'female':1}\n",
    "df['Sex'] = df['Sex'].map(sex_dict)"
   ]
  },
  {
   "cell_type": "code",
   "execution_count": 34,
   "metadata": {
    "colab": {},
    "colab_type": "code",
    "id": "xwvlpcwKG3CU"
   },
   "outputs": [],
   "source": [
    "#Encoding 'Embark' column\n",
    "embark_dict = {'C':0,'Q':1,'S':2}\n",
    "df['Embarked'] = df['Embarked'].map(embark_dict)"
   ]
  },
  {
   "cell_type": "code",
   "execution_count": 35,
   "metadata": {
    "colab": {},
    "colab_type": "code",
    "id": "Qu1xrraEJ8Ue"
   },
   "outputs": [],
   "source": [
    "#Encoding title column\n",
    "title_dict = {\"Mr\":0,\"Mrs\":1,\"Miss\":2,\"Master\":3}\n",
    "df['title'] = df['title'].map(title_dict)"
   ]
  },
  {
   "cell_type": "code",
   "execution_count": 36,
   "metadata": {
    "colab": {},
    "colab_type": "code",
    "id": "1ib4T_DvJ-Q6"
   },
   "outputs": [],
   "source": [
    "#Remove Siblings, spouses, parent and children columns\n",
    "#train_df.drop(columns = ['SibSp','Parch'],inplace = True)"
   ]
  },
  {
   "cell_type": "code",
   "execution_count": 37,
   "metadata": {
    "colab": {
     "base_uri": "https://localhost:8080/",
     "height": 204
    },
    "colab_type": "code",
    "id": "tdYflQ0XQ33g",
    "outputId": "d266c29d-9fc4-4c9f-8b3e-8b4eff7fffac"
   },
   "outputs": [
    {
     "data": {
      "text/html": [
       "<div>\n",
       "<style scoped>\n",
       "    .dataframe tbody tr th:only-of-type {\n",
       "        vertical-align: middle;\n",
       "    }\n",
       "\n",
       "    .dataframe tbody tr th {\n",
       "        vertical-align: top;\n",
       "    }\n",
       "\n",
       "    .dataframe thead th {\n",
       "        text-align: right;\n",
       "    }\n",
       "</style>\n",
       "<table border=\"1\" class=\"dataframe\">\n",
       "  <thead>\n",
       "    <tr style=\"text-align: right;\">\n",
       "      <th></th>\n",
       "      <th>Survived</th>\n",
       "      <th>Pclass</th>\n",
       "      <th>Sex</th>\n",
       "      <th>Age</th>\n",
       "      <th>SibSp</th>\n",
       "      <th>Parch</th>\n",
       "      <th>Fare</th>\n",
       "      <th>Embarked</th>\n",
       "      <th>family_size</th>\n",
       "      <th>title</th>\n",
       "    </tr>\n",
       "  </thead>\n",
       "  <tbody>\n",
       "    <tr>\n",
       "      <th>0</th>\n",
       "      <td>0</td>\n",
       "      <td>3</td>\n",
       "      <td>0</td>\n",
       "      <td>22.0</td>\n",
       "      <td>1</td>\n",
       "      <td>0</td>\n",
       "      <td>7.2500</td>\n",
       "      <td>2.0</td>\n",
       "      <td>1</td>\n",
       "      <td>0</td>\n",
       "    </tr>\n",
       "    <tr>\n",
       "      <th>1</th>\n",
       "      <td>1</td>\n",
       "      <td>1</td>\n",
       "      <td>1</td>\n",
       "      <td>38.0</td>\n",
       "      <td>1</td>\n",
       "      <td>0</td>\n",
       "      <td>71.2833</td>\n",
       "      <td>0.0</td>\n",
       "      <td>1</td>\n",
       "      <td>1</td>\n",
       "    </tr>\n",
       "    <tr>\n",
       "      <th>2</th>\n",
       "      <td>1</td>\n",
       "      <td>3</td>\n",
       "      <td>1</td>\n",
       "      <td>26.0</td>\n",
       "      <td>0</td>\n",
       "      <td>0</td>\n",
       "      <td>7.9250</td>\n",
       "      <td>2.0</td>\n",
       "      <td>0</td>\n",
       "      <td>2</td>\n",
       "    </tr>\n",
       "    <tr>\n",
       "      <th>3</th>\n",
       "      <td>1</td>\n",
       "      <td>1</td>\n",
       "      <td>1</td>\n",
       "      <td>35.0</td>\n",
       "      <td>1</td>\n",
       "      <td>0</td>\n",
       "      <td>53.1000</td>\n",
       "      <td>2.0</td>\n",
       "      <td>1</td>\n",
       "      <td>1</td>\n",
       "    </tr>\n",
       "    <tr>\n",
       "      <th>4</th>\n",
       "      <td>0</td>\n",
       "      <td>3</td>\n",
       "      <td>0</td>\n",
       "      <td>35.0</td>\n",
       "      <td>0</td>\n",
       "      <td>0</td>\n",
       "      <td>8.0500</td>\n",
       "      <td>2.0</td>\n",
       "      <td>0</td>\n",
       "      <td>0</td>\n",
       "    </tr>\n",
       "  </tbody>\n",
       "</table>\n",
       "</div>"
      ],
      "text/plain": [
       "   Survived  Pclass  Sex   Age  SibSp  Parch     Fare  Embarked  family_size  \\\n",
       "0         0       3    0  22.0      1      0   7.2500       2.0            1   \n",
       "1         1       1    1  38.0      1      0  71.2833       0.0            1   \n",
       "2         1       3    1  26.0      0      0   7.9250       2.0            0   \n",
       "3         1       1    1  35.0      1      0  53.1000       2.0            1   \n",
       "4         0       3    0  35.0      0      0   8.0500       2.0            0   \n",
       "\n",
       "   title  \n",
       "0      0  \n",
       "1      1  \n",
       "2      2  \n",
       "3      1  \n",
       "4      0  "
      ]
     },
     "execution_count": 37,
     "metadata": {},
     "output_type": "execute_result"
    }
   ],
   "source": [
    "df.head()"
   ]
  },
  {
   "cell_type": "markdown",
   "metadata": {
    "colab_type": "text",
    "id": "ydxM4PB4Rf6B"
   },
   "source": [
    "# Age fill na with mean age based on the title"
   ]
  },
  {
   "cell_type": "code",
   "execution_count": 38,
   "metadata": {
    "colab": {},
    "colab_type": "code",
    "id": "mWrYOSeemGwZ"
   },
   "outputs": [],
   "source": [
    "mean_age_0 = df['Age'][df['title']==0].mean()\n",
    "mean_age_1 = df['Age'][df['title']==1].mean()\n",
    "mean_age_2 = df['Age'][df['title']==2].mean()\n",
    "mean_age_3 = df['Age'][df['title']==3].mean()"
   ]
  },
  {
   "cell_type": "code",
   "execution_count": 39,
   "metadata": {
    "colab": {},
    "colab_type": "code",
    "id": "2Xyoo67gSuHI"
   },
   "outputs": [],
   "source": [
    "df.loc[df['title']==0,'Age'] = df.loc[df['title']==0,'Age'].fillna(mean_age_0)\n",
    "df.loc[df['title']==1,'Age'] = df.loc[df['title']==1,'Age'].fillna(mean_age_1)\n",
    "df.loc[df['title']==2,'Age'] = df.loc[df['title']==2,'Age'].fillna(mean_age_2)\n",
    "df.loc[df['title']==3,'Age'] = df.loc[df['title']==3,'Age'].fillna(mean_age_3)"
   ]
  },
  {
   "cell_type": "code",
   "execution_count": 40,
   "metadata": {
    "colab": {
     "base_uri": "https://localhost:8080/",
     "height": 111
    },
    "colab_type": "code",
    "id": "0w3V7XrZR3zI",
    "outputId": "0ca46404-e1b9-4ea7-8f30-0263dd56dd21"
   },
   "outputs": [
    {
     "data": {
      "text/html": [
       "<div>\n",
       "<style scoped>\n",
       "    .dataframe tbody tr th:only-of-type {\n",
       "        vertical-align: middle;\n",
       "    }\n",
       "\n",
       "    .dataframe tbody tr th {\n",
       "        vertical-align: top;\n",
       "    }\n",
       "\n",
       "    .dataframe thead th {\n",
       "        text-align: right;\n",
       "    }\n",
       "</style>\n",
       "<table border=\"1\" class=\"dataframe\">\n",
       "  <thead>\n",
       "    <tr style=\"text-align: right;\">\n",
       "      <th></th>\n",
       "      <th>Survived</th>\n",
       "      <th>Pclass</th>\n",
       "      <th>Sex</th>\n",
       "      <th>Age</th>\n",
       "      <th>SibSp</th>\n",
       "      <th>Parch</th>\n",
       "      <th>Fare</th>\n",
       "      <th>Embarked</th>\n",
       "      <th>family_size</th>\n",
       "      <th>title</th>\n",
       "    </tr>\n",
       "  </thead>\n",
       "  <tbody>\n",
       "    <tr>\n",
       "      <th>61</th>\n",
       "      <td>1</td>\n",
       "      <td>1</td>\n",
       "      <td>1</td>\n",
       "      <td>38.0</td>\n",
       "      <td>0</td>\n",
       "      <td>0</td>\n",
       "      <td>80.0</td>\n",
       "      <td>NaN</td>\n",
       "      <td>0</td>\n",
       "      <td>2</td>\n",
       "    </tr>\n",
       "    <tr>\n",
       "      <th>829</th>\n",
       "      <td>1</td>\n",
       "      <td>1</td>\n",
       "      <td>1</td>\n",
       "      <td>62.0</td>\n",
       "      <td>0</td>\n",
       "      <td>0</td>\n",
       "      <td>80.0</td>\n",
       "      <td>NaN</td>\n",
       "      <td>0</td>\n",
       "      <td>1</td>\n",
       "    </tr>\n",
       "  </tbody>\n",
       "</table>\n",
       "</div>"
      ],
      "text/plain": [
       "     Survived  Pclass  Sex   Age  SibSp  Parch  Fare  Embarked  family_size  \\\n",
       "61          1       1    1  38.0      0      0  80.0       NaN            0   \n",
       "829         1       1    1  62.0      0      0  80.0       NaN            0   \n",
       "\n",
       "     title  \n",
       "61       2  \n",
       "829      1  "
      ]
     },
     "execution_count": 40,
     "metadata": {},
     "output_type": "execute_result"
    }
   ],
   "source": [
    "\n",
    "df[df['Embarked'].isna()]"
   ]
  },
  {
   "cell_type": "code",
   "execution_count": 41,
   "metadata": {
    "colab": {
     "base_uri": "https://localhost:8080/",
     "height": 204
    },
    "colab_type": "code",
    "id": "RjyILkRpSUYN",
    "outputId": "00c489b7-e627-4ded-9c0f-d3e3800f239b"
   },
   "outputs": [
    {
     "data": {
      "text/plain": [
       "Survived       0\n",
       "Pclass         0\n",
       "Sex            0\n",
       "Age            0\n",
       "SibSp          0\n",
       "Parch          0\n",
       "Fare           0\n",
       "Embarked       2\n",
       "family_size    0\n",
       "title          0\n",
       "dtype: int64"
      ]
     },
     "execution_count": 41,
     "metadata": {},
     "output_type": "execute_result"
    }
   ],
   "source": [
    "df.isna().sum()"
   ]
  },
  {
   "cell_type": "code",
   "execution_count": 42,
   "metadata": {
    "colab": {
     "base_uri": "https://localhost:8080/",
     "height": 462
    },
    "colab_type": "code",
    "id": "-4O83CYPmo3m",
    "outputId": "e981486d-c8d9-49a5-fc3d-a95fbbf842c4"
   },
   "outputs": [
    {
     "name": "stderr",
     "output_type": "stream",
     "text": [
      "/Users/poojadeshpande91/opt/anaconda3/lib/python3.8/site-packages/pandas/core/indexing.py:671: SettingWithCopyWarning: \n",
      "A value is trying to be set on a copy of a slice from a DataFrame\n",
      "\n",
      "See the caveats in the documentation: https://pandas.pydata.org/pandas-docs/stable/user_guide/indexing.html#returning-a-view-versus-a-copy\n",
      "  self._setitem_with_indexer(indexer, value)\n",
      "/Users/poojadeshpande91/opt/anaconda3/lib/python3.8/site-packages/pandas/core/indexing.py:671: SettingWithCopyWarning: \n",
      "A value is trying to be set on a copy of a slice from a DataFrame\n",
      "\n",
      "See the caveats in the documentation: https://pandas.pydata.org/pandas-docs/stable/user_guide/indexing.html#returning-a-view-versus-a-copy\n",
      "  self._setitem_with_indexer(indexer, value)\n",
      "/Users/poojadeshpande91/opt/anaconda3/lib/python3.8/site-packages/pandas/core/indexing.py:671: SettingWithCopyWarning: \n",
      "A value is trying to be set on a copy of a slice from a DataFrame\n",
      "\n",
      "See the caveats in the documentation: https://pandas.pydata.org/pandas-docs/stable/user_guide/indexing.html#returning-a-view-versus-a-copy\n",
      "  self._setitem_with_indexer(indexer, value)\n",
      "/Users/poojadeshpande91/opt/anaconda3/lib/python3.8/site-packages/pandas/core/indexing.py:671: SettingWithCopyWarning: \n",
      "A value is trying to be set on a copy of a slice from a DataFrame\n",
      "\n",
      "See the caveats in the documentation: https://pandas.pydata.org/pandas-docs/stable/user_guide/indexing.html#returning-a-view-versus-a-copy\n",
      "  self._setitem_with_indexer(indexer, value)\n",
      "/Users/poojadeshpande91/opt/anaconda3/lib/python3.8/site-packages/pandas/core/indexing.py:671: SettingWithCopyWarning: \n",
      "A value is trying to be set on a copy of a slice from a DataFrame\n",
      "\n",
      "See the caveats in the documentation: https://pandas.pydata.org/pandas-docs/stable/user_guide/indexing.html#returning-a-view-versus-a-copy\n",
      "  self._setitem_with_indexer(indexer, value)\n"
     ]
    }
   ],
   "source": [
    "\n",
    "#instantiate both packages to use\n",
    "\n",
    "encoder = OrdinalEncoder()\n",
    "imputer = KNN()\n",
    "# create a list of categorical columns to iterate over\n",
    "cat_cols = ['Embarked','Pclass','Sex','Survived','title']\n",
    "\n",
    "def encode(data):\n",
    "    '''function to encode non-null data and replace it in the original data'''\n",
    "    #retains only non-null values\n",
    "    nonulls = np.array(data.dropna())\n",
    "    #reshapes the data for encoding\n",
    "    impute_reshape = nonulls.reshape(-1,1)\n",
    "    #encode data\n",
    "    impute_ordinal = encoder.fit_transform(impute_reshape)\n",
    "    #Assign back encoded values to non-null values\n",
    "    data.loc[data.notnull()] = np.squeeze(impute_ordinal)\n",
    "    return data\n",
    "\n",
    "#create a for loop to iterate through each column in the data\n",
    "for columns in cat_cols:\n",
    "    encode(df[columns])"
   ]
  },
  {
   "cell_type": "code",
   "execution_count": 43,
   "metadata": {
    "colab": {
     "base_uri": "https://localhost:8080/",
     "height": 170
    },
    "colab_type": "code",
    "id": "hjiE-hgjXIGy",
    "outputId": "2a20099e-360f-43d6-bf8a-4e01a8bb0819"
   },
   "outputs": [
    {
     "name": "stdout",
     "output_type": "stream",
     "text": [
      "Imputing row 1/891 with 0 missing, elapsed time: 0.156\n",
      "Imputing row 101/891 with 0 missing, elapsed time: 0.157\n",
      "Imputing row 201/891 with 0 missing, elapsed time: 0.158\n",
      "Imputing row 301/891 with 0 missing, elapsed time: 0.158\n",
      "Imputing row 401/891 with 0 missing, elapsed time: 0.159\n",
      "Imputing row 501/891 with 0 missing, elapsed time: 0.159\n",
      "Imputing row 601/891 with 0 missing, elapsed time: 0.160\n",
      "Imputing row 701/891 with 0 missing, elapsed time: 0.161\n",
      "Imputing row 801/891 with 0 missing, elapsed time: 0.161\n"
     ]
    }
   ],
   "source": [
    "encode_data = pd.DataFrame(np.round(imputer.fit_transform(df)),columns = df.columns)"
   ]
  },
  {
   "cell_type": "code",
   "execution_count": 44,
   "metadata": {
    "colab": {},
    "colab_type": "code",
    "id": "WSUOxNv-UUEW"
   },
   "outputs": [],
   "source": [
    "for col_name in cat_cols:  \n",
    "    # Perform inverse transform of the ordinally encoded columns\n",
    "    encode_data[col_name] = encoder.inverse_transform(encode_data[col_name].values.reshape(-1,1))"
   ]
  },
  {
   "cell_type": "code",
   "execution_count": 45,
   "metadata": {
    "colab": {
     "base_uri": "https://localhost:8080/",
     "height": 204
    },
    "colab_type": "code",
    "id": "wU_-hPfpZIMX",
    "outputId": "07b24869-e086-491c-c5c8-9ab0a494cf39"
   },
   "outputs": [
    {
     "data": {
      "text/html": [
       "<div>\n",
       "<style scoped>\n",
       "    .dataframe tbody tr th:only-of-type {\n",
       "        vertical-align: middle;\n",
       "    }\n",
       "\n",
       "    .dataframe tbody tr th {\n",
       "        vertical-align: top;\n",
       "    }\n",
       "\n",
       "    .dataframe thead th {\n",
       "        text-align: right;\n",
       "    }\n",
       "</style>\n",
       "<table border=\"1\" class=\"dataframe\">\n",
       "  <thead>\n",
       "    <tr style=\"text-align: right;\">\n",
       "      <th></th>\n",
       "      <th>Survived</th>\n",
       "      <th>Pclass</th>\n",
       "      <th>Sex</th>\n",
       "      <th>Age</th>\n",
       "      <th>SibSp</th>\n",
       "      <th>Parch</th>\n",
       "      <th>Fare</th>\n",
       "      <th>Embarked</th>\n",
       "      <th>family_size</th>\n",
       "      <th>title</th>\n",
       "    </tr>\n",
       "  </thead>\n",
       "  <tbody>\n",
       "    <tr>\n",
       "      <th>0</th>\n",
       "      <td>0</td>\n",
       "      <td>2</td>\n",
       "      <td>0</td>\n",
       "      <td>22.0</td>\n",
       "      <td>1.0</td>\n",
       "      <td>0.0</td>\n",
       "      <td>7.0</td>\n",
       "      <td>2</td>\n",
       "      <td>1.0</td>\n",
       "      <td>0</td>\n",
       "    </tr>\n",
       "    <tr>\n",
       "      <th>1</th>\n",
       "      <td>1</td>\n",
       "      <td>0</td>\n",
       "      <td>1</td>\n",
       "      <td>38.0</td>\n",
       "      <td>1.0</td>\n",
       "      <td>0.0</td>\n",
       "      <td>71.0</td>\n",
       "      <td>0</td>\n",
       "      <td>1.0</td>\n",
       "      <td>1</td>\n",
       "    </tr>\n",
       "    <tr>\n",
       "      <th>2</th>\n",
       "      <td>1</td>\n",
       "      <td>2</td>\n",
       "      <td>1</td>\n",
       "      <td>26.0</td>\n",
       "      <td>0.0</td>\n",
       "      <td>0.0</td>\n",
       "      <td>8.0</td>\n",
       "      <td>2</td>\n",
       "      <td>0.0</td>\n",
       "      <td>2</td>\n",
       "    </tr>\n",
       "    <tr>\n",
       "      <th>3</th>\n",
       "      <td>1</td>\n",
       "      <td>0</td>\n",
       "      <td>1</td>\n",
       "      <td>35.0</td>\n",
       "      <td>1.0</td>\n",
       "      <td>0.0</td>\n",
       "      <td>53.0</td>\n",
       "      <td>2</td>\n",
       "      <td>1.0</td>\n",
       "      <td>1</td>\n",
       "    </tr>\n",
       "    <tr>\n",
       "      <th>4</th>\n",
       "      <td>0</td>\n",
       "      <td>2</td>\n",
       "      <td>0</td>\n",
       "      <td>35.0</td>\n",
       "      <td>0.0</td>\n",
       "      <td>0.0</td>\n",
       "      <td>8.0</td>\n",
       "      <td>2</td>\n",
       "      <td>0.0</td>\n",
       "      <td>0</td>\n",
       "    </tr>\n",
       "  </tbody>\n",
       "</table>\n",
       "</div>"
      ],
      "text/plain": [
       "   Survived  Pclass  Sex   Age  SibSp  Parch  Fare  Embarked  family_size  \\\n",
       "0         0       2    0  22.0    1.0    0.0   7.0         2          1.0   \n",
       "1         1       0    1  38.0    1.0    0.0  71.0         0          1.0   \n",
       "2         1       2    1  26.0    0.0    0.0   8.0         2          0.0   \n",
       "3         1       0    1  35.0    1.0    0.0  53.0         2          1.0   \n",
       "4         0       2    0  35.0    0.0    0.0   8.0         2          0.0   \n",
       "\n",
       "   title  \n",
       "0      0  \n",
       "1      1  \n",
       "2      2  \n",
       "3      1  \n",
       "4      0  "
      ]
     },
     "execution_count": 45,
     "metadata": {},
     "output_type": "execute_result"
    }
   ],
   "source": [
    "encode_data.head()"
   ]
  },
  {
   "cell_type": "code",
   "execution_count": 46,
   "metadata": {
    "colab": {},
    "colab_type": "code",
    "id": "SzHYSQYQbk7O"
   },
   "outputs": [],
   "source": [
    "X = encode_data.iloc[:,1:].values\n",
    "y = encode_data.iloc[:,0].values"
   ]
  },
  {
   "cell_type": "code",
   "execution_count": 47,
   "metadata": {
    "colab": {},
    "colab_type": "code",
    "id": "-6Utxao82Agv"
   },
   "outputs": [],
   "source": [
    "X_train,X_test,y_train,y_test = train_test_split(X,y,random_state = 123)\n"
   ]
  },
  {
   "cell_type": "markdown",
   "metadata": {
    "colab_type": "text",
    "id": "KzjwvThp4Ttn"
   },
   "source": [
    "# K nearest neighbors"
   ]
  },
  {
   "cell_type": "code",
   "execution_count": 48,
   "metadata": {
    "colab": {},
    "colab_type": "code",
    "id": "zIsLmXsC4Vwz"
   },
   "outputs": [],
   "source": [
    "knn = KNeighborsClassifier()"
   ]
  },
  {
   "cell_type": "code",
   "execution_count": 49,
   "metadata": {
    "colab": {
     "base_uri": "https://localhost:8080/",
     "height": 68
    },
    "colab_type": "code",
    "id": "yqegzbng4X2c",
    "outputId": "7403bc51-3729-455f-fd11-cb04d1e0ef21"
   },
   "outputs": [
    {
     "data": {
      "text/plain": [
       "KNeighborsClassifier()"
      ]
     },
     "execution_count": 49,
     "metadata": {},
     "output_type": "execute_result"
    }
   ],
   "source": [
    "knn.fit(X_train,y_train)"
   ]
  },
  {
   "cell_type": "code",
   "execution_count": 50,
   "metadata": {
    "colab": {},
    "colab_type": "code",
    "id": "y_4YFmbT4Zcp"
   },
   "outputs": [],
   "source": [
    "scores = cross_validate(knn,X_train,y_train,scoring=['accuracy','f1','roc_auc'])"
   ]
  },
  {
   "cell_type": "code",
   "execution_count": 51,
   "metadata": {
    "colab": {
     "base_uri": "https://localhost:8080/",
     "height": 68
    },
    "colab_type": "code",
    "id": "d7KYENW84dg4",
    "outputId": "a9b3e248-f483-4c65-f7d0-a25d4829c29c"
   },
   "outputs": [
    {
     "name": "stdout",
     "output_type": "stream",
     "text": [
      "Mean accuracy with cross validation : 0.72\n",
      "Mean f1 with cross validation : 0.62\n",
      "Mean ROC AUC score with cross validation : 0.76\n"
     ]
    }
   ],
   "source": [
    "print(\"Mean accuracy with cross validation : {:.2f}\".format(scores['test_accuracy'].mean()))\n",
    "print(\"Mean f1 with cross validation : {:.2f}\".format(scores['test_f1'].mean()))\n",
    "print(\"Mean ROC AUC score with cross validation : {:.2f}\".format(scores['test_roc_auc'].mean()))"
   ]
  },
  {
   "cell_type": "markdown",
   "metadata": {
    "colab_type": "text",
    "id": "6zO5RxV93xoP"
   },
   "source": [
    "# Decision Tree"
   ]
  },
  {
   "cell_type": "code",
   "execution_count": 52,
   "metadata": {
    "colab": {},
    "colab_type": "code",
    "id": "Dkh_sK7Z3zyh"
   },
   "outputs": [],
   "source": [
    "\n",
    "dtree = DecisionTreeClassifier()"
   ]
  },
  {
   "cell_type": "code",
   "execution_count": 53,
   "metadata": {
    "colab": {
     "base_uri": "https://localhost:8080/",
     "height": 119
    },
    "colab_type": "code",
    "id": "98pdxO8S311-",
    "outputId": "933df4f6-bcca-47c0-dc88-39b05cd5e9ce"
   },
   "outputs": [
    {
     "data": {
      "text/plain": [
       "DecisionTreeClassifier()"
      ]
     },
     "execution_count": 53,
     "metadata": {},
     "output_type": "execute_result"
    }
   ],
   "source": [
    "dtree.fit(X_train,y_train)"
   ]
  },
  {
   "cell_type": "code",
   "execution_count": 54,
   "metadata": {
    "colab": {},
    "colab_type": "code",
    "id": "yNfDTcVT39Hs"
   },
   "outputs": [],
   "source": [
    "scores = cross_validate(dtree,X_train,y_train,scoring=['accuracy','f1','roc_auc'])"
   ]
  },
  {
   "cell_type": "code",
   "execution_count": 55,
   "metadata": {
    "colab": {
     "base_uri": "https://localhost:8080/",
     "height": 68
    },
    "colab_type": "code",
    "id": "RoIYx4V_3_od",
    "outputId": "887f8b29-7e09-4a6a-f360-76c7a1efa0f5"
   },
   "outputs": [
    {
     "name": "stdout",
     "output_type": "stream",
     "text": [
      "Mean accuracy with cross validation : 0.76\n",
      "Mean f1 with cross validation : 0.69\n",
      "Mean ROC AUC score with cross validation : 0.75\n"
     ]
    }
   ],
   "source": [
    "print(\"Mean accuracy with cross validation : {:.2f}\".format(scores['test_accuracy'].mean()))\n",
    "print(\"Mean f1 with cross validation : {:.2f}\".format(scores['test_f1'].mean()))\n",
    "print(\"Mean ROC AUC score with cross validation : {:.2f}\".format(scores['test_roc_auc'].mean()))"
   ]
  },
  {
   "cell_type": "markdown",
   "metadata": {
    "colab_type": "text",
    "id": "SHLDR53g3b9e"
   },
   "source": [
    "# Support Vector Machine"
   ]
  },
  {
   "cell_type": "code",
   "execution_count": 56,
   "metadata": {
    "colab": {},
    "colab_type": "code",
    "id": "_I_dqzYB3e5I"
   },
   "outputs": [],
   "source": [
    "svm = SVC()"
   ]
  },
  {
   "cell_type": "code",
   "execution_count": 57,
   "metadata": {
    "colab": {
     "base_uri": "https://localhost:8080/",
     "height": 85
    },
    "colab_type": "code",
    "id": "f9H15rB93iv8",
    "outputId": "dee99b37-754f-4614-e6f8-18177e94c45c"
   },
   "outputs": [
    {
     "data": {
      "text/plain": [
       "SVC()"
      ]
     },
     "execution_count": 57,
     "metadata": {},
     "output_type": "execute_result"
    }
   ],
   "source": [
    "svm.fit(X_train,y_train)"
   ]
  },
  {
   "cell_type": "code",
   "execution_count": 58,
   "metadata": {
    "colab": {},
    "colab_type": "code",
    "id": "EWEybL3H3kZK"
   },
   "outputs": [],
   "source": [
    "scores = cross_validate(svm,X_train,y_train,scoring=['accuracy','f1','roc_auc'])"
   ]
  },
  {
   "cell_type": "code",
   "execution_count": 59,
   "metadata": {
    "colab": {
     "base_uri": "https://localhost:8080/",
     "height": 68
    },
    "colab_type": "code",
    "id": "8hgXQ9Mu3r_P",
    "outputId": "fde34e40-029b-463b-b73d-d953cdca7eb0"
   },
   "outputs": [
    {
     "name": "stdout",
     "output_type": "stream",
     "text": [
      "Mean accuracy with cross validation : 0.67\n",
      "Mean f1 with cross validation : 0.39\n",
      "Mean ROC AUC score with cross validation : 0.75\n"
     ]
    }
   ],
   "source": [
    "print(\"Mean accuracy with cross validation : {:.2f}\".format(scores['test_accuracy'].mean()))\n",
    "print(\"Mean f1 with cross validation : {:.2f}\".format(scores['test_f1'].mean()))\n",
    "print(\"Mean ROC AUC score with cross validation : {:.2f}\".format(scores['test_roc_auc'].mean()))"
   ]
  },
  {
   "cell_type": "markdown",
   "metadata": {
    "colab_type": "text",
    "id": "WgmKPPbE-qx7"
   },
   "source": [
    "# Based on cross validation scores, the following models were selected"
   ]
  },
  {
   "cell_type": "markdown",
   "metadata": {
    "colab_type": "text",
    "id": "MI2-4Z8Ce6cy"
   },
   "source": [
    "# Logistic Regression Model"
   ]
  },
  {
   "cell_type": "code",
   "execution_count": 60,
   "metadata": {
    "colab": {},
    "colab_type": "code",
    "id": "okjgyhLmaX6k"
   },
   "outputs": [],
   "source": [
    "lr = LogisticRegression(max_iter = 1000)"
   ]
  },
  {
   "cell_type": "code",
   "execution_count": 61,
   "metadata": {
    "colab": {
     "base_uri": "https://localhost:8080/",
     "height": 102
    },
    "colab_type": "code",
    "id": "Kgp2zbfHbfyq",
    "outputId": "1c50558a-7987-42fb-81b3-64e03a98b04d"
   },
   "outputs": [
    {
     "data": {
      "text/plain": [
       "LogisticRegression(max_iter=1000)"
      ]
     },
     "execution_count": 61,
     "metadata": {},
     "output_type": "execute_result"
    }
   ],
   "source": [
    "lr.fit(X_train,y_train)"
   ]
  },
  {
   "cell_type": "code",
   "execution_count": 62,
   "metadata": {
    "colab": {},
    "colab_type": "code",
    "id": "MDYFTrAxcRRp"
   },
   "outputs": [],
   "source": [
    "scores = cross_validate(lr,X_train,y_train,scoring=['accuracy','f1','roc_auc'])\n"
   ]
  },
  {
   "cell_type": "code",
   "execution_count": 63,
   "metadata": {
    "colab": {
     "base_uri": "https://localhost:8080/",
     "height": 68
    },
    "colab_type": "code",
    "id": "g-Hj3gnfcc7N",
    "outputId": "cb09548c-f15a-4be1-8b9b-baa88dbc779e"
   },
   "outputs": [
    {
     "name": "stdout",
     "output_type": "stream",
     "text": [
      "Mean accuracy with cross validation : 0.81\n",
      "Mean f1 with cross validation : 0.74\n",
      "Mean ROC AUC score with cross validation : 0.86\n"
     ]
    }
   ],
   "source": [
    "print(\"Mean accuracy with cross validation : {:.2f}\".format(scores['test_accuracy'].mean()))\n",
    "print(\"Mean f1 with cross validation : {:.2f}\".format(scores['test_f1'].mean()))\n",
    "print(\"Mean ROC AUC score with cross validation : {:.2f}\".format(scores['test_roc_auc'].mean()))"
   ]
  },
  {
   "cell_type": "code",
   "execution_count": 64,
   "metadata": {
    "colab": {
     "base_uri": "https://localhost:8080/",
     "height": 1000
    },
    "colab_type": "code",
    "id": "t9YIWR84NgVn",
    "outputId": "eaf7550f-7a7e-4088-eed8-1f78db53429f"
   },
   "outputs": [
    {
     "name": "stdout",
     "output_type": "stream",
     "text": [
      "Fitting 5 folds for each of 6 candidates, totalling 30 fits\n",
      "[CV] C=0.001 .........................................................\n",
      "[CV] .......................................... C=0.001, total=   0.0s\n",
      "[CV] C=0.001 .........................................................\n",
      "[CV] .......................................... C=0.001, total=   0.0s\n",
      "[CV] C=0.001 .........................................................\n",
      "[CV] .......................................... C=0.001, total=   0.0s\n",
      "[CV] C=0.001 .........................................................\n",
      "[CV] .......................................... C=0.001, total=   0.0s\n",
      "[CV] C=0.001 .........................................................\n",
      "[CV] .......................................... C=0.001, total=   0.0s\n",
      "[CV] C=0.01 ..........................................................\n",
      "[CV] ........................................... C=0.01, total=   0.1s\n",
      "[CV] C=0.01 ..........................................................\n"
     ]
    },
    {
     "name": "stderr",
     "output_type": "stream",
     "text": [
      "[Parallel(n_jobs=1)]: Using backend SequentialBackend with 1 concurrent workers.\n",
      "[Parallel(n_jobs=1)]: Done   1 out of   1 | elapsed:    0.0s remaining:    0.0s\n"
     ]
    },
    {
     "name": "stdout",
     "output_type": "stream",
     "text": [
      "[CV] ........................................... C=0.01, total=   0.0s\n",
      "[CV] C=0.01 ..........................................................\n",
      "[CV] ........................................... C=0.01, total=   0.0s\n",
      "[CV] C=0.01 ..........................................................\n",
      "[CV] ........................................... C=0.01, total=   0.0s\n",
      "[CV] C=0.01 ..........................................................\n",
      "[CV] ........................................... C=0.01, total=   0.0s\n",
      "[CV] C=0.1 ...........................................................\n",
      "[CV] ............................................ C=0.1, total=   0.0s\n",
      "[CV] C=0.1 ...........................................................\n",
      "[CV] ............................................ C=0.1, total=   0.0s\n",
      "[CV] C=0.1 ...........................................................\n",
      "[CV] ............................................ C=0.1, total=   0.0s\n",
      "[CV] C=0.1 ...........................................................\n",
      "[CV] ............................................ C=0.1, total=   0.1s\n",
      "[CV] C=0.1 ...........................................................\n",
      "[CV] ............................................ C=0.1, total=   0.1s\n",
      "[CV] C=1 .............................................................\n",
      "[CV] .............................................. C=1, total=   0.0s\n",
      "[CV] C=1 .............................................................\n",
      "[CV] .............................................. C=1, total=   0.0s\n",
      "[CV] C=1 .............................................................\n",
      "[CV] .............................................. C=1, total=   0.1s\n",
      "[CV] C=1 .............................................................\n",
      "[CV] .............................................. C=1, total=   0.1s\n",
      "[CV] C=1 .............................................................\n",
      "[CV] .............................................. C=1, total=   0.0s\n",
      "[CV] C=10 ............................................................\n",
      "[CV] ............................................. C=10, total=   0.0s\n",
      "[CV] C=10 ............................................................\n",
      "[CV] ............................................. C=10, total=   0.1s\n",
      "[CV] C=10 ............................................................\n",
      "[CV] ............................................. C=10, total=   0.1s\n",
      "[CV] C=10 ............................................................\n",
      "[CV] ............................................. C=10, total=   0.0s\n",
      "[CV] C=10 ............................................................\n",
      "[CV] ............................................. C=10, total=   0.1s\n",
      "[CV] C=100 ...........................................................\n",
      "[CV] ............................................ C=100, total=   0.0s\n",
      "[CV] C=100 ...........................................................\n",
      "[CV] ............................................ C=100, total=   0.1s\n",
      "[CV] C=100 ...........................................................\n",
      "[CV] ............................................ C=100, total=   0.0s\n",
      "[CV] C=100 ...........................................................\n",
      "[CV] ............................................ C=100, total=   0.1s\n",
      "[CV] C=100 ...........................................................\n",
      "[CV] ............................................ C=100, total=   0.1s\n",
      "LogisticRegression(C=0.1, max_iter=1000)\n",
      "{'C': 0.1}\n"
     ]
    },
    {
     "name": "stderr",
     "output_type": "stream",
     "text": [
      "[Parallel(n_jobs=1)]: Done  30 out of  30 | elapsed:    1.3s finished\n"
     ]
    }
   ],
   "source": [
    "param_grid = {'C':[0.001,0.01,0.1,1,10,100]}\n",
    "\n",
    "grid = GridSearchCV(lr,param_grid,refit=True,verbose=2,scoring = \"accuracy\")\n",
    "grid.fit(X_train,y_train)\n",
    "print(grid.best_estimator_)\n",
    "print(grid.best_params_)"
   ]
  },
  {
   "cell_type": "code",
   "execution_count": 65,
   "metadata": {
    "colab": {},
    "colab_type": "code",
    "id": "dey7awP8N446"
   },
   "outputs": [],
   "source": [
    "lr = LogisticRegression(max_iter = 1000,C = 0.1)"
   ]
  },
  {
   "cell_type": "code",
   "execution_count": 66,
   "metadata": {
    "colab": {
     "base_uri": "https://localhost:8080/",
     "height": 102
    },
    "colab_type": "code",
    "id": "6jelbHNAOLjK",
    "outputId": "5493f6a1-34e6-4eb2-d4e6-54858dc7322b"
   },
   "outputs": [
    {
     "data": {
      "text/plain": [
       "LogisticRegression(C=0.1, max_iter=1000)"
      ]
     },
     "execution_count": 66,
     "metadata": {},
     "output_type": "execute_result"
    }
   ],
   "source": [
    "lr.fit(X_train,y_train)"
   ]
  },
  {
   "cell_type": "code",
   "execution_count": 67,
   "metadata": {
    "colab": {},
    "colab_type": "code",
    "id": "ZN_i34LBONnt"
   },
   "outputs": [],
   "source": [
    "#Predict on training and test data\n",
    "\n",
    "pred_train = lr.predict(X_train)\n",
    "pred_test = lr.predict(X_test)"
   ]
  },
  {
   "cell_type": "code",
   "execution_count": 68,
   "metadata": {
    "colab": {
     "base_uri": "https://localhost:8080/",
     "height": 374
    },
    "colab_type": "code",
    "id": "JbJFEBqUOcN9",
    "outputId": "e30b7eaa-e586-47bc-98f4-ebf661aa7638"
   },
   "outputs": [
    {
     "name": "stdout",
     "output_type": "stream",
     "text": [
      "=====Accuracy score============\n",
      "\n",
      "Train accuracy score : 0.8234\n",
      "Test accuracy score : 0.8386\n",
      "\n",
      "=====Confusion Matrix==========\n",
      " \n",
      "[[128  11]\n",
      " [ 25  59]]\n",
      "\n",
      "=====Classification report=====\n",
      "\n",
      "              precision    recall  f1-score   support\n",
      "\n",
      "           0       0.84      0.92      0.88       139\n",
      "           1       0.84      0.70      0.77        84\n",
      "\n",
      "    accuracy                           0.84       223\n",
      "   macro avg       0.84      0.81      0.82       223\n",
      "weighted avg       0.84      0.84      0.84       223\n",
      "\n"
     ]
    }
   ],
   "source": [
    "#Evaluation\n",
    "\n",
    "print(\"=====Accuracy score============\\n\")\n",
    "print(\"Train accuracy score : {:.4f}\".format(accuracy_score(y_train,pred_train)))\n",
    "print(\"Test accuracy score : {:.4f}\".format(accuracy_score(y_test,pred_test)))\n",
    "print(\"\\n=====Confusion Matrix==========\\n \")\n",
    "print(confusion_matrix(y_test,pred_test))\n",
    "print(\"\\n=====Classification report=====\\n\")\n",
    "print(classification_report(y_test,pred_test))"
   ]
  },
  {
   "cell_type": "code",
   "execution_count": 69,
   "metadata": {
    "colab": {
     "base_uri": "https://localhost:8080/",
     "height": 334
    },
    "colab_type": "code",
    "id": "86K27oLycrma",
    "outputId": "e4671e7f-277e-4575-eb3e-a189ff1e132e"
   },
   "outputs": [
    {
     "data": {
      "image/png": "[encoded data removed]",
      "text/plain": [
       "<Figure size 576x360 with 2 Axes>"
      ]
     },
     "metadata": {
      "needs_background": "light"
     },
     "output_type": "display_data"
    }
   ],
   "source": [
    "plot_confusion_matrix(lr,X_test,y_test,values_format='d',cmap = 'Blues')\n",
    "plt.show()"
   ]
  },
  {
   "cell_type": "code",
   "execution_count": 70,
   "metadata": {
    "colab": {},
    "colab_type": "code",
    "id": "Xst8Fx3OOlyo"
   },
   "outputs": [],
   "source": [
    "probs = lr.predict_proba(X_test)[:,1]"
   ]
  },
  {
   "cell_type": "code",
   "execution_count": 71,
   "metadata": {
    "colab": {
     "base_uri": "https://localhost:8080/",
     "height": 350
    },
    "colab_type": "code",
    "id": "viblMmMTPApH",
    "outputId": "5d7f0cc1-627e-4899-f5d2-765cf302c771"
   },
   "outputs": [
    {
     "data": {
      "image/png": "[encoded data removed]",
      "text/plain": [
       "<Figure size 576x360 with 1 Axes>"
      ]
     },
     "metadata": {
      "needs_background": "light"
     },
     "output_type": "display_data"
    }
   ],
   "source": [
    "fpr,tpr,thresholds = roc_curve(y_test,probs)\n",
    "\n",
    "plt.plot(fpr,tpr,linewidth = 4)\n",
    "plt.plot([0,1],[0,1],linewidth = 4)\n",
    "plt.title(\"ROC curve for logistic regression\")\n",
    "plt.xlabel(\"FPR\")\n",
    "plt.ylabel(\"TPR\")\n",
    "plt.show()\n"
   ]
  },
  {
   "cell_type": "code",
   "execution_count": 72,
   "metadata": {
    "colab": {
     "base_uri": "https://localhost:8080/",
     "height": 34
    },
    "colab_type": "code",
    "id": "JtK60dNhPRf6",
    "outputId": "c5770de9-c6cb-4cef-9645-2d63cfbb4081"
   },
   "outputs": [
    {
     "name": "stdout",
     "output_type": "stream",
     "text": [
      "ROC AUC score : 0.8777\n"
     ]
    }
   ],
   "source": [
    "score = roc_auc_score(y_test,probs)\n",
    "print(\"ROC AUC score : {}\".format(round(score,4)))"
   ]
  },
  {
   "cell_type": "code",
   "execution_count": 73,
   "metadata": {
    "colab": {
     "base_uri": "https://localhost:8080/",
     "height": 350
    },
    "colab_type": "code",
    "id": "oe-OiCxZhKRK",
    "outputId": "dc8aa871-45ed-44ac-d9f9-e6b8c4820b58"
   },
   "outputs": [
    {
     "data": {
      "image/png": "[encoded data removed]",
      "text/plain": [
       "<Figure size 576x360 with 1 Axes>"
      ]
     },
     "metadata": {
      "needs_background": "light"
     },
     "output_type": "display_data"
    }
   ],
   "source": [
    "#Learning curve\n",
    "lc = learning_curve(lr,X_train,y_train)\n",
    "\n",
    "train_scores_mean = np.mean(lc[1],axis = 1)\n",
    "test_scores_mean = np.mean(lc[2],axis = 1)\n",
    "\n",
    "plt.plot(lc[0],train_scores_mean,marker = 'D',linewidth = 4,color = '#C70E41')\n",
    "plt.plot(lc[0],test_scores_mean,marker = 'D',linewidth = 4,color = '#204FD1')\n",
    "plt.legend(['Train scores','Cross validated scores'])\n",
    "plt.title(\"Learning curve - Logistic Regression\")\n",
    "plt.xlabel(\"Training examples\")\n",
    "plt.ylabel(\"Scores\")\n",
    "plt.grid()\n",
    "plt.show()"
   ]
  },
  {
   "cell_type": "markdown",
   "metadata": {
    "colab_type": "text",
    "id": "alTd9rii2h7M"
   },
   "source": [
    "# Naive Bayes model"
   ]
  },
  {
   "cell_type": "code",
   "execution_count": 76,
   "metadata": {
    "colab": {},
    "colab_type": "code",
    "id": "x169fXFu2nAD"
   },
   "outputs": [],
   "source": [
    "nb = GaussianNB()"
   ]
  },
  {
   "cell_type": "code",
   "execution_count": 77,
   "metadata": {
    "colab": {
     "base_uri": "https://localhost:8080/",
     "height": 34
    },
    "colab_type": "code",
    "id": "kFsdpSv13J-3",
    "outputId": "031a0ebf-31c6-441a-afb7-84f8e9929c50"
   },
   "outputs": [
    {
     "data": {
      "text/plain": [
       "GaussianNB()"
      ]
     },
     "execution_count": 77,
     "metadata": {},
     "output_type": "execute_result"
    }
   ],
   "source": [
    "nb.fit(X_train,y_train)"
   ]
  },
  {
   "cell_type": "code",
   "execution_count": 78,
   "metadata": {
    "colab": {},
    "colab_type": "code",
    "id": "O4fzEfvY3MEb"
   },
   "outputs": [],
   "source": [
    "scores = cross_validate(nb,X_train,y_train,scoring=['accuracy','f1','roc_auc'])"
   ]
  },
  {
   "cell_type": "code",
   "execution_count": 79,
   "metadata": {
    "colab": {
     "base_uri": "https://localhost:8080/",
     "height": 68
    },
    "colab_type": "code",
    "id": "Ti_smlXl3PqW",
    "outputId": "c826a3db-6d52-4ba0-ffca-fd404bfb4954"
   },
   "outputs": [
    {
     "name": "stdout",
     "output_type": "stream",
     "text": [
      "Mean accuracy with cross validation : 0.81\n",
      "Mean f1 with cross validation : 0.76\n",
      "Mean ROC AUC score with cross validation : 0.84\n"
     ]
    }
   ],
   "source": [
    "print(\"Mean accuracy with cross validation : {:.2f}\".format(scores['test_accuracy'].mean()))\n",
    "print(\"Mean f1 with cross validation : {:.2f}\".format(scores['test_f1'].mean()))\n",
    "print(\"Mean ROC AUC score with cross validation : {:.2f}\".format(scores['test_roc_auc'].mean()))"
   ]
  },
  {
   "cell_type": "code",
   "execution_count": 80,
   "metadata": {
    "colab": {},
    "colab_type": "code",
    "id": "Savgjup5SgBQ"
   },
   "outputs": [],
   "source": [
    "pred_train = nb.predict(X_train)\n",
    "pred_test = nb.predict(X_test)"
   ]
  },
  {
   "cell_type": "code",
   "execution_count": 81,
   "metadata": {
    "colab": {
     "base_uri": "https://localhost:8080/",
     "height": 374
    },
    "colab_type": "code",
    "id": "AHh0V66aSqbl",
    "outputId": "0f3503ef-86fb-4b84-8995-db55dd403019"
   },
   "outputs": [
    {
     "name": "stdout",
     "output_type": "stream",
     "text": [
      "=====Accuracy score============\n",
      "\n",
      "Train accuracy score : 0.8174\n",
      "Test accuracy score : 0.8341\n",
      "\n",
      "=====Confusion Matrix==========\n",
      " \n",
      "[[121  18]\n",
      " [ 19  65]]\n",
      "\n",
      "=====Classification report=====\n",
      "\n",
      "              precision    recall  f1-score   support\n",
      "\n",
      "           0       0.86      0.87      0.87       139\n",
      "           1       0.78      0.77      0.78        84\n",
      "\n",
      "    accuracy                           0.83       223\n",
      "   macro avg       0.82      0.82      0.82       223\n",
      "weighted avg       0.83      0.83      0.83       223\n",
      "\n"
     ]
    }
   ],
   "source": [
    "print(\"=====Accuracy score============\\n\")\n",
    "print(\"Train accuracy score : {:.4f}\".format(accuracy_score(y_train,pred_train)))\n",
    "print(\"Test accuracy score : {:.4f}\".format(accuracy_score(y_test,pred_test)))\n",
    "print(\"\\n=====Confusion Matrix==========\\n \")\n",
    "print(confusion_matrix(y_test,pred_test))\n",
    "print(\"\\n=====Classification report=====\\n\")\n",
    "print(classification_report(y_test,pred_test))"
   ]
  },
  {
   "cell_type": "code",
   "execution_count": 82,
   "metadata": {
    "colab": {
     "base_uri": "https://localhost:8080/",
     "height": 335
    },
    "colab_type": "code",
    "id": "Gfkv2uB6cpxe",
    "outputId": "5dff6137-32ca-4361-958a-5846973e7715"
   },
   "outputs": [
    {
     "data": {
      "image/png": "[encoded data removed]",
      "text/plain": [
       "<Figure size 576x360 with 2 Axes>"
      ]
     },
     "metadata": {
      "needs_background": "light"
     },
     "output_type": "display_data"
    }
   ],
   "source": [
    "plot_confusion_matrix(nb,X_test,y_test,values_format='d',cmap = 'Blues')\n",
    "plt.show()"
   ]
  },
  {
   "cell_type": "code",
   "execution_count": 83,
   "metadata": {
    "colab": {},
    "colab_type": "code",
    "id": "atktpmhgStlm"
   },
   "outputs": [],
   "source": [
    "probs = nb.predict_proba(X_test)[:,1]"
   ]
  },
  {
   "cell_type": "code",
   "execution_count": 84,
   "metadata": {
    "colab": {
     "base_uri": "https://localhost:8080/",
     "height": 350
    },
    "colab_type": "code",
    "id": "zQjtiU-zS3lt",
    "outputId": "2ed831d5-8b1c-4f15-cf83-4ddc067601a9"
   },
   "outputs": [
    {
     "data": {
      "image/png": "[encoded data removed]",
      "text/plain": [
       "<Figure size 576x360 with 1 Axes>"
      ]
     },
     "metadata": {
      "needs_background": "light"
     },
     "output_type": "display_data"
    }
   ],
   "source": [
    "fpr,tpr,thresholds = roc_curve(y_test,probs)\n",
    "\n",
    "plt.plot(fpr,tpr,linewidth = 4)\n",
    "plt.plot([0,1],[0,1],linewidth = 4)\n",
    "plt.title(\"ROC curve for naive bayes\")\n",
    "plt.xlabel(\"FPR\")\n",
    "plt.ylabel(\"TPR\")\n",
    "plt.show()\n"
   ]
  },
  {
   "cell_type": "code",
   "execution_count": 85,
   "metadata": {
    "colab": {
     "base_uri": "https://localhost:8080/",
     "height": 34
    },
    "colab_type": "code",
    "id": "KJiR4Gl1S7CP",
    "outputId": "b39d5531-686a-48c2-9850-73b5cf951d6b"
   },
   "outputs": [
    {
     "name": "stdout",
     "output_type": "stream",
     "text": [
      "ROC AUC score : 0.8663\n"
     ]
    }
   ],
   "source": [
    "score = roc_auc_score(y_test,probs)\n",
    "print(\"ROC AUC score : {}\".format(round(score,4)))"
   ]
  },
  {
   "cell_type": "code",
   "execution_count": 86,
   "metadata": {
    "colab": {
     "base_uri": "https://localhost:8080/",
     "height": 350
    },
    "colab_type": "code",
    "id": "tw_4LDHIS_QP",
    "outputId": "87dfb035-b1ad-4f18-e761-8691c77cc7d2"
   },
   "outputs": [
    {
     "data": {
      "image/png": "[encoded data removed]",
      "text/plain": [
       "<Figure size 576x360 with 1 Axes>"
      ]
     },
     "metadata": {
      "needs_background": "light"
     },
     "output_type": "display_data"
    }
   ],
   "source": [
    "#Learning curve\n",
    "lc = learning_curve(nb,X_train,y_train)\n",
    "\n",
    "train_scores_mean = np.mean(lc[1],axis = 1)\n",
    "test_scores_mean = np.mean(lc[2],axis = 1)\n",
    "\n",
    "plt.plot(lc[0],train_scores_mean,marker = 'D',linewidth = 4,color = '#C70E41')\n",
    "plt.plot(lc[0],test_scores_mean,marker = 'D',linewidth = 4,color = '#204FD1')\n",
    "plt.legend(['Train scores','Cross validated scores'])\n",
    "plt.title(\"Learning curve - Naive Bayes\")\n",
    "plt.xlabel(\"Training examples\")\n",
    "plt.ylabel(\"Scores\")\n",
    "plt.grid()\n",
    "plt.show()"
   ]
  },
  {
   "cell_type": "markdown",
   "metadata": {
    "colab_type": "text",
    "id": "3XQNYwKJ4EGF"
   },
   "source": [
    "# Random Forest Classifier"
   ]
  },
  {
   "cell_type": "code",
   "execution_count": 87,
   "metadata": {
    "colab": {},
    "colab_type": "code",
    "id": "K08HML_04G1R"
   },
   "outputs": [],
   "source": [
    "forest = RandomForestClassifier()"
   ]
  },
  {
   "cell_type": "code",
   "execution_count": 88,
   "metadata": {
    "colab": {
     "base_uri": "https://localhost:8080/",
     "height": 153
    },
    "colab_type": "code",
    "id": "s3NKZ82N4J9W",
    "outputId": "64126c02-bcbd-45e2-e8f2-8a32e5b91d6d"
   },
   "outputs": [
    {
     "data": {
      "text/plain": [
       "RandomForestClassifier()"
      ]
     },
     "execution_count": 88,
     "metadata": {},
     "output_type": "execute_result"
    }
   ],
   "source": [
    "forest.fit(X_train,y_train)"
   ]
  },
  {
   "cell_type": "code",
   "execution_count": 89,
   "metadata": {
    "colab": {},
    "colab_type": "code",
    "id": "5oDFncvj4LzF"
   },
   "outputs": [],
   "source": [
    "scores = cross_validate(forest,X_train,y_train,scoring=['accuracy','f1','roc_auc'])"
   ]
  },
  {
   "cell_type": "code",
   "execution_count": 90,
   "metadata": {
    "colab": {
     "base_uri": "https://localhost:8080/",
     "height": 68
    },
    "colab_type": "code",
    "id": "pY6S9arJ4RjS",
    "outputId": "52cd077d-7186-423a-bf7b-03ad69635fb1"
   },
   "outputs": [
    {
     "name": "stdout",
     "output_type": "stream",
     "text": [
      "Mean accuracy with cross validation : 0.79\n",
      "Mean f1 with cross validation : 0.73\n",
      "Mean ROC AUC score with cross validation : 0.85\n"
     ]
    }
   ],
   "source": [
    "print(\"Mean accuracy with cross validation : {:.2f}\".format(scores['test_accuracy'].mean()))\n",
    "print(\"Mean f1 with cross validation : {:.2f}\".format(scores['test_f1'].mean()))\n",
    "print(\"Mean ROC AUC score with cross validation : {:.2f}\".format(scores['test_roc_auc'].mean()))"
   ]
  },
  {
   "cell_type": "code",
   "execution_count": 91,
   "metadata": {
    "colab": {},
    "colab_type": "code",
    "id": "QoIKchw-TVVU"
   },
   "outputs": [],
   "source": [
    "pred_train = forest.predict(X_train)\n",
    "pred_test = forest.predict(X_test)"
   ]
  },
  {
   "cell_type": "code",
   "execution_count": 92,
   "metadata": {
    "colab": {
     "base_uri": "https://localhost:8080/",
     "height": 374
    },
    "colab_type": "code",
    "id": "36WaErQjTZ0M",
    "outputId": "784e300c-352c-4a7a-96a9-03104284f928"
   },
   "outputs": [
    {
     "name": "stdout",
     "output_type": "stream",
     "text": [
      "=====Accuracy score============\n",
      "\n",
      "Train accuracy score : 0.9656\n",
      "Test accuracy score : 0.8251\n",
      "\n",
      "=====Confusion Matrix==========\n",
      " \n",
      "[[120  19]\n",
      " [ 20  64]]\n",
      "\n",
      "=====Classification report=====\n",
      "\n",
      "              precision    recall  f1-score   support\n",
      "\n",
      "           0       0.86      0.86      0.86       139\n",
      "           1       0.77      0.76      0.77        84\n",
      "\n",
      "    accuracy                           0.83       223\n",
      "   macro avg       0.81      0.81      0.81       223\n",
      "weighted avg       0.82      0.83      0.82       223\n",
      "\n"
     ]
    }
   ],
   "source": [
    "print(\"=====Accuracy score============\\n\")\n",
    "print(\"Train accuracy score : {:.4f}\".format(accuracy_score(y_train,pred_train)))\n",
    "print(\"Test accuracy score : {:.4f}\".format(accuracy_score(y_test,pred_test)))\n",
    "print(\"\\n=====Confusion Matrix==========\\n \")\n",
    "print(confusion_matrix(y_test,pred_test))\n",
    "print(\"\\n=====Classification report=====\\n\")\n",
    "print(classification_report(y_test,pred_test))"
   ]
  },
  {
   "cell_type": "code",
   "execution_count": 93,
   "metadata": {
    "colab": {},
    "colab_type": "code",
    "id": "obuCtl44TcF-"
   },
   "outputs": [
    {
     "name": "stdout",
     "output_type": "stream",
     "text": [
      "Fitting 5 folds for each of 120 candidates, totalling 600 fits\n",
      "[CV] max_depth=2, max_features=2, min_samples_leaf=2, n_estimators=100 \n",
      "[CV]  max_depth=2, max_features=2, min_samples_leaf=2, n_estimators=100, total=   0.2s\n",
      "[CV] max_depth=2, max_features=2, min_samples_leaf=2, n_estimators=100 \n"
     ]
    },
    {
     "name": "stderr",
     "output_type": "stream",
     "text": [
      "[Parallel(n_jobs=1)]: Using backend SequentialBackend with 1 concurrent workers.\n",
      "[Parallel(n_jobs=1)]: Done   1 out of   1 | elapsed:    0.2s remaining:    0.0s\n"
     ]
    },
    {
     "name": "stdout",
     "output_type": "stream",
     "text": [
      "[CV]  max_depth=2, max_features=2, min_samples_leaf=2, n_estimators=100, total=   0.2s\n",
      "[CV] max_depth=2, max_features=2, min_samples_leaf=2, n_estimators=100 \n",
      "[CV]  max_depth=2, max_features=2, min_samples_leaf=2, n_estimators=100, total=   0.2s\n",
      "[CV] max_depth=2, max_features=2, min_samples_leaf=2, n_estimators=100 \n",
      "[CV]  max_depth=2, max_features=2, min_samples_leaf=2, n_estimators=100, total=   0.4s\n",
      "[CV] max_depth=2, max_features=2, min_samples_leaf=2, n_estimators=100 \n",
      "[CV]  max_depth=2, max_features=2, min_samples_leaf=2, n_estimators=100, total=   0.4s\n",
      "[CV] max_depth=2, max_features=2, min_samples_leaf=2, n_estimators=200 \n",
      "[CV]  max_depth=2, max_features=2, min_samples_leaf=2, n_estimators=200, total=   0.4s\n",
      "[CV] max_depth=2, max_features=2, min_samples_leaf=2, n_estimators=200 \n",
      "[CV]  max_depth=2, max_features=2, min_samples_leaf=2, n_estimators=200, total=   0.4s\n",
      "[CV] max_depth=2, max_features=2, min_samples_leaf=2, n_estimators=200 \n",
      "[CV]  max_depth=2, max_features=2, min_samples_leaf=2, n_estimators=200, total=   0.4s\n",
      "[CV] max_depth=2, max_features=2, min_samples_leaf=2, n_estimators=200 \n",
      "[CV]  max_depth=2, max_features=2, min_samples_leaf=2, n_estimators=200, total=   0.3s\n",
      "[CV] max_depth=2, max_features=2, min_samples_leaf=2, n_estimators=200 \n",
      "[CV]  max_depth=2, max_features=2, min_samples_leaf=2, n_estimators=200, total=   0.4s\n",
      "[CV] max_depth=2, max_features=2, min_samples_leaf=2, n_estimators=500 \n",
      "[CV]  max_depth=2, max_features=2, min_samples_leaf=2, n_estimators=500, total=   0.9s\n",
      "[CV] max_depth=2, max_features=2, min_samples_leaf=2, n_estimators=500 \n",
      "[CV]  max_depth=2, max_features=2, min_samples_leaf=2, n_estimators=500, total=   1.3s\n",
      "[CV] max_depth=2, max_features=2, min_samples_leaf=2, n_estimators=500 \n",
      "[CV]  max_depth=2, max_features=2, min_samples_leaf=2, n_estimators=500, total=   1.6s\n",
      "[CV] max_depth=2, max_features=2, min_samples_leaf=2, n_estimators=500 \n",
      "[CV]  max_depth=2, max_features=2, min_samples_leaf=2, n_estimators=500, total=   1.2s\n",
      "[CV] max_depth=2, max_features=2, min_samples_leaf=2, n_estimators=500 \n",
      "[CV]  max_depth=2, max_features=2, min_samples_leaf=2, n_estimators=500, total=   1.2s\n",
      "[CV] max_depth=2, max_features=2, min_samples_leaf=2, n_estimators=1000 \n",
      "[CV]  max_depth=2, max_features=2, min_samples_leaf=2, n_estimators=1000, total=   1.9s\n",
      "[CV] max_depth=2, max_features=2, min_samples_leaf=2, n_estimators=1000 \n",
      "[CV]  max_depth=2, max_features=2, min_samples_leaf=2, n_estimators=1000, total=   1.9s\n",
      "[CV] max_depth=2, max_features=2, min_samples_leaf=2, n_estimators=1000 \n",
      "[CV]  max_depth=2, max_features=2, min_samples_leaf=2, n_estimators=1000, total=   2.0s\n",
      "[CV] max_depth=2, max_features=2, min_samples_leaf=2, n_estimators=1000 \n",
      "[CV]  max_depth=2, max_features=2, min_samples_leaf=2, n_estimators=1000, total=   2.4s\n",
      "[CV] max_depth=2, max_features=2, min_samples_leaf=2, n_estimators=1000 \n",
      "[CV]  max_depth=2, max_features=2, min_samples_leaf=2, n_estimators=1000, total=   1.8s\n",
      "[CV] max_depth=2, max_features=2, min_samples_leaf=3, n_estimators=100 \n",
      "[CV]  max_depth=2, max_features=2, min_samples_leaf=3, n_estimators=100, total=   0.1s\n",
      "[CV] max_depth=2, max_features=2, min_samples_leaf=3, n_estimators=100 \n",
      "[CV]  max_depth=2, max_features=2, min_samples_leaf=3, n_estimators=100, total=   0.2s\n",
      "[CV] max_depth=2, max_features=2, min_samples_leaf=3, n_estimators=100 \n",
      "[CV]  max_depth=2, max_features=2, min_samples_leaf=3, n_estimators=100, total=   0.2s\n",
      "[CV] max_depth=2, max_features=2, min_samples_leaf=3, n_estimators=100 \n",
      "[CV]  max_depth=2, max_features=2, min_samples_leaf=3, n_estimators=100, total=   0.2s\n",
      "[CV] max_depth=2, max_features=2, min_samples_leaf=3, n_estimators=100 \n",
      "[CV]  max_depth=2, max_features=2, min_samples_leaf=3, n_estimators=100, total=   0.2s\n",
      "[CV] max_depth=2, max_features=2, min_samples_leaf=3, n_estimators=200 \n",
      "[CV]  max_depth=2, max_features=2, min_samples_leaf=3, n_estimators=200, total=   0.4s\n",
      "[CV] max_depth=2, max_features=2, min_samples_leaf=3, n_estimators=200 \n",
      "[CV]  max_depth=2, max_features=2, min_samples_leaf=3, n_estimators=200, total=   0.5s\n",
      "[CV] max_depth=2, max_features=2, min_samples_leaf=3, n_estimators=200 \n",
      "[CV]  max_depth=2, max_features=2, min_samples_leaf=3, n_estimators=200, total=   0.4s\n",
      "[CV] max_depth=2, max_features=2, min_samples_leaf=3, n_estimators=200 \n",
      "[CV]  max_depth=2, max_features=2, min_samples_leaf=3, n_estimators=200, total=   0.5s\n",
      "[CV] max_depth=2, max_features=2, min_samples_leaf=3, n_estimators=200 \n",
      "[CV]  max_depth=2, max_features=2, min_samples_leaf=3, n_estimators=200, total=   0.5s\n",
      "[CV] max_depth=2, max_features=2, min_samples_leaf=3, n_estimators=500 \n",
      "[CV]  max_depth=2, max_features=2, min_samples_leaf=3, n_estimators=500, total=   1.1s\n",
      "[CV] max_depth=2, max_features=2, min_samples_leaf=3, n_estimators=500 \n",
      "[CV]  max_depth=2, max_features=2, min_samples_leaf=3, n_estimators=500, total=   1.3s\n",
      "[CV] max_depth=2, max_features=2, min_samples_leaf=3, n_estimators=500 \n",
      "[CV]  max_depth=2, max_features=2, min_samples_leaf=3, n_estimators=500, total=   1.2s\n",
      "[CV] max_depth=2, max_features=2, min_samples_leaf=3, n_estimators=500 \n",
      "[CV]  max_depth=2, max_features=2, min_samples_leaf=3, n_estimators=500, total=   1.0s\n",
      "[CV] max_depth=2, max_features=2, min_samples_leaf=3, n_estimators=500 \n",
      "[CV]  max_depth=2, max_features=2, min_samples_leaf=3, n_estimators=500, total=   1.1s\n",
      "[CV] max_depth=2, max_features=2, min_samples_leaf=3, n_estimators=1000 \n",
      "[CV]  max_depth=2, max_features=2, min_samples_leaf=3, n_estimators=1000, total=   2.3s\n",
      "[CV] max_depth=2, max_features=2, min_samples_leaf=3, n_estimators=1000 \n",
      "[CV]  max_depth=2, max_features=2, min_samples_leaf=3, n_estimators=1000, total=   2.6s\n",
      "[CV] max_depth=2, max_features=2, min_samples_leaf=3, n_estimators=1000 \n",
      "[CV]  max_depth=2, max_features=2, min_samples_leaf=3, n_estimators=1000, total=   2.1s\n",
      "[CV] max_depth=2, max_features=2, min_samples_leaf=3, n_estimators=1000 \n",
      "[CV]  max_depth=2, max_features=2, min_samples_leaf=3, n_estimators=1000, total=   2.4s\n",
      "[CV] max_depth=2, max_features=2, min_samples_leaf=3, n_estimators=1000 \n",
      "[CV]  max_depth=2, max_features=2, min_samples_leaf=3, n_estimators=1000, total=   2.1s\n",
      "[CV] max_depth=2, max_features=3, min_samples_leaf=2, n_estimators=100 \n",
      "[CV]  max_depth=2, max_features=3, min_samples_leaf=2, n_estimators=100, total=   0.4s\n",
      "[CV] max_depth=2, max_features=3, min_samples_leaf=2, n_estimators=100 \n",
      "[CV]  max_depth=2, max_features=3, min_samples_leaf=2, n_estimators=100, total=   0.2s\n",
      "[CV] max_depth=2, max_features=3, min_samples_leaf=2, n_estimators=100 \n",
      "[CV]  max_depth=2, max_features=3, min_samples_leaf=2, n_estimators=100, total=   0.2s\n",
      "[CV] max_depth=2, max_features=3, min_samples_leaf=2, n_estimators=100 \n",
      "[CV]  max_depth=2, max_features=3, min_samples_leaf=2, n_estimators=100, total=   0.1s\n",
      "[CV] max_depth=2, max_features=3, min_samples_leaf=2, n_estimators=100 \n",
      "[CV]  max_depth=2, max_features=3, min_samples_leaf=2, n_estimators=100, total=   0.2s\n",
      "[CV] max_depth=2, max_features=3, min_samples_leaf=2, n_estimators=200 \n",
      "[CV]  max_depth=2, max_features=3, min_samples_leaf=2, n_estimators=200, total=   0.3s\n",
      "[CV] max_depth=2, max_features=3, min_samples_leaf=2, n_estimators=200 \n",
      "[CV]  max_depth=2, max_features=3, min_samples_leaf=2, n_estimators=200, total=   0.3s\n",
      "[CV] max_depth=2, max_features=3, min_samples_leaf=2, n_estimators=200 \n",
      "[CV]  max_depth=2, max_features=3, min_samples_leaf=2, n_estimators=200, total=   0.3s\n",
      "[CV] max_depth=2, max_features=3, min_samples_leaf=2, n_estimators=200 \n",
      "[CV]  max_depth=2, max_features=3, min_samples_leaf=2, n_estimators=200, total=   0.3s\n",
      "[CV] max_depth=2, max_features=3, min_samples_leaf=2, n_estimators=200 \n",
      "[CV]  max_depth=2, max_features=3, min_samples_leaf=2, n_estimators=200, total=   0.3s\n",
      "[CV] max_depth=2, max_features=3, min_samples_leaf=2, n_estimators=500 \n",
      "[CV]  max_depth=2, max_features=3, min_samples_leaf=2, n_estimators=500, total=   0.8s\n",
      "[CV] max_depth=2, max_features=3, min_samples_leaf=2, n_estimators=500 \n",
      "[CV]  max_depth=2, max_features=3, min_samples_leaf=2, n_estimators=500, total=   0.8s\n",
      "[CV] max_depth=2, max_features=3, min_samples_leaf=2, n_estimators=500 \n",
      "[CV]  max_depth=2, max_features=3, min_samples_leaf=2, n_estimators=500, total=   0.8s\n",
      "[CV] max_depth=2, max_features=3, min_samples_leaf=2, n_estimators=500 \n"
     ]
    },
    {
     "name": "stdout",
     "output_type": "stream",
     "text": [
      "[CV]  max_depth=2, max_features=3, min_samples_leaf=2, n_estimators=500, total=   0.8s\n",
      "[CV] max_depth=2, max_features=3, min_samples_leaf=2, n_estimators=500 \n",
      "[CV]  max_depth=2, max_features=3, min_samples_leaf=2, n_estimators=500, total=   0.8s\n",
      "[CV] max_depth=2, max_features=3, min_samples_leaf=2, n_estimators=1000 \n",
      "[CV]  max_depth=2, max_features=3, min_samples_leaf=2, n_estimators=1000, total=   1.9s\n",
      "[CV] max_depth=2, max_features=3, min_samples_leaf=2, n_estimators=1000 \n",
      "[CV]  max_depth=2, max_features=3, min_samples_leaf=2, n_estimators=1000, total=   2.3s\n",
      "[CV] max_depth=2, max_features=3, min_samples_leaf=2, n_estimators=1000 \n",
      "[CV]  max_depth=2, max_features=3, min_samples_leaf=2, n_estimators=1000, total=   2.0s\n",
      "[CV] max_depth=2, max_features=3, min_samples_leaf=2, n_estimators=1000 \n",
      "[CV]  max_depth=2, max_features=3, min_samples_leaf=2, n_estimators=1000, total=   1.5s\n",
      "[CV] max_depth=2, max_features=3, min_samples_leaf=2, n_estimators=1000 \n",
      "[CV]  max_depth=2, max_features=3, min_samples_leaf=2, n_estimators=1000, total=   1.9s\n",
      "[CV] max_depth=2, max_features=3, min_samples_leaf=3, n_estimators=100 \n",
      "[CV]  max_depth=2, max_features=3, min_samples_leaf=3, n_estimators=100, total=   0.3s\n",
      "[CV] max_depth=2, max_features=3, min_samples_leaf=3, n_estimators=100 \n",
      "[CV]  max_depth=2, max_features=3, min_samples_leaf=3, n_estimators=100, total=   0.2s\n",
      "[CV] max_depth=2, max_features=3, min_samples_leaf=3, n_estimators=100 \n",
      "[CV]  max_depth=2, max_features=3, min_samples_leaf=3, n_estimators=100, total=   0.2s\n",
      "[CV] max_depth=2, max_features=3, min_samples_leaf=3, n_estimators=100 \n",
      "[CV]  max_depth=2, max_features=3, min_samples_leaf=3, n_estimators=100, total=   0.2s\n",
      "[CV] max_depth=2, max_features=3, min_samples_leaf=3, n_estimators=100 \n",
      "[CV]  max_depth=2, max_features=3, min_samples_leaf=3, n_estimators=100, total=   0.2s\n",
      "[CV] max_depth=2, max_features=3, min_samples_leaf=3, n_estimators=200 \n",
      "[CV]  max_depth=2, max_features=3, min_samples_leaf=3, n_estimators=200, total=   0.5s\n",
      "[CV] max_depth=2, max_features=3, min_samples_leaf=3, n_estimators=200 \n",
      "[CV]  max_depth=2, max_features=3, min_samples_leaf=3, n_estimators=200, total=   0.4s\n",
      "[CV] max_depth=2, max_features=3, min_samples_leaf=3, n_estimators=200 \n",
      "[CV]  max_depth=2, max_features=3, min_samples_leaf=3, n_estimators=200, total=   0.5s\n",
      "[CV] max_depth=2, max_features=3, min_samples_leaf=3, n_estimators=200 \n",
      "[CV]  max_depth=2, max_features=3, min_samples_leaf=3, n_estimators=200, total=   0.4s\n",
      "[CV] max_depth=2, max_features=3, min_samples_leaf=3, n_estimators=200 \n",
      "[CV]  max_depth=2, max_features=3, min_samples_leaf=3, n_estimators=200, total=   0.3s\n",
      "[CV] max_depth=2, max_features=3, min_samples_leaf=3, n_estimators=500 \n",
      "[CV]  max_depth=2, max_features=3, min_samples_leaf=3, n_estimators=500, total=   0.8s\n",
      "[CV] max_depth=2, max_features=3, min_samples_leaf=3, n_estimators=500 \n",
      "[CV]  max_depth=2, max_features=3, min_samples_leaf=3, n_estimators=500, total=   0.8s\n",
      "[CV] max_depth=2, max_features=3, min_samples_leaf=3, n_estimators=500 \n",
      "[CV]  max_depth=2, max_features=3, min_samples_leaf=3, n_estimators=500, total=   0.8s\n",
      "[CV] max_depth=2, max_features=3, min_samples_leaf=3, n_estimators=500 \n",
      "[CV]  max_depth=2, max_features=3, min_samples_leaf=3, n_estimators=500, total=   0.8s\n",
      "[CV] max_depth=2, max_features=3, min_samples_leaf=3, n_estimators=500 \n",
      "[CV]  max_depth=2, max_features=3, min_samples_leaf=3, n_estimators=500, total=   0.7s\n",
      "[CV] max_depth=2, max_features=3, min_samples_leaf=3, n_estimators=1000 \n",
      "[CV]  max_depth=2, max_features=3, min_samples_leaf=3, n_estimators=1000, total=   1.9s\n",
      "[CV] max_depth=2, max_features=3, min_samples_leaf=3, n_estimators=1000 \n",
      "[CV]  max_depth=2, max_features=3, min_samples_leaf=3, n_estimators=1000, total=   1.9s\n",
      "[CV] max_depth=2, max_features=3, min_samples_leaf=3, n_estimators=1000 \n",
      "[CV]  max_depth=2, max_features=3, min_samples_leaf=3, n_estimators=1000, total=   1.9s\n",
      "[CV] max_depth=2, max_features=3, min_samples_leaf=3, n_estimators=1000 \n",
      "[CV]  max_depth=2, max_features=3, min_samples_leaf=3, n_estimators=1000, total=   1.5s\n",
      "[CV] max_depth=2, max_features=3, min_samples_leaf=3, n_estimators=1000 \n",
      "[CV]  max_depth=2, max_features=3, min_samples_leaf=3, n_estimators=1000, total=   1.9s\n",
      "[CV] max_depth=2, max_features=4, min_samples_leaf=2, n_estimators=100 \n",
      "[CV]  max_depth=2, max_features=4, min_samples_leaf=2, n_estimators=100, total=   0.4s\n",
      "[CV] max_depth=2, max_features=4, min_samples_leaf=2, n_estimators=100 \n",
      "[CV]  max_depth=2, max_features=4, min_samples_leaf=2, n_estimators=100, total=   0.3s\n",
      "[CV] max_depth=2, max_features=4, min_samples_leaf=2, n_estimators=100 \n",
      "[CV]  max_depth=2, max_features=4, min_samples_leaf=2, n_estimators=100, total=   0.3s\n",
      "[CV] max_depth=2, max_features=4, min_samples_leaf=2, n_estimators=100 \n",
      "[CV]  max_depth=2, max_features=4, min_samples_leaf=2, n_estimators=100, total=   0.2s\n",
      "[CV] max_depth=2, max_features=4, min_samples_leaf=2, n_estimators=100 \n",
      "[CV]  max_depth=2, max_features=4, min_samples_leaf=2, n_estimators=100, total=   0.2s\n",
      "[CV] max_depth=2, max_features=4, min_samples_leaf=2, n_estimators=200 \n",
      "[CV]  max_depth=2, max_features=4, min_samples_leaf=2, n_estimators=200, total=   0.4s\n",
      "[CV] max_depth=2, max_features=4, min_samples_leaf=2, n_estimators=200 \n",
      "[CV]  max_depth=2, max_features=4, min_samples_leaf=2, n_estimators=200, total=   0.4s\n",
      "[CV] max_depth=2, max_features=4, min_samples_leaf=2, n_estimators=200 \n",
      "[CV]  max_depth=2, max_features=4, min_samples_leaf=2, n_estimators=200, total=   0.4s\n",
      "[CV] max_depth=2, max_features=4, min_samples_leaf=2, n_estimators=200 \n",
      "[CV]  max_depth=2, max_features=4, min_samples_leaf=2, n_estimators=200, total=   0.4s\n",
      "[CV] max_depth=2, max_features=4, min_samples_leaf=2, n_estimators=200 \n",
      "[CV]  max_depth=2, max_features=4, min_samples_leaf=2, n_estimators=200, total=   0.4s\n",
      "[CV] max_depth=2, max_features=4, min_samples_leaf=2, n_estimators=500 \n",
      "[CV]  max_depth=2, max_features=4, min_samples_leaf=2, n_estimators=500, total=   0.9s\n",
      "[CV] max_depth=2, max_features=4, min_samples_leaf=2, n_estimators=500 \n",
      "[CV]  max_depth=2, max_features=4, min_samples_leaf=2, n_estimators=500, total=   1.0s\n",
      "[CV] max_depth=2, max_features=4, min_samples_leaf=2, n_estimators=500 \n",
      "[CV]  max_depth=2, max_features=4, min_samples_leaf=2, n_estimators=500, total=   1.0s\n",
      "[CV] max_depth=2, max_features=4, min_samples_leaf=2, n_estimators=500 \n",
      "[CV]  max_depth=2, max_features=4, min_samples_leaf=2, n_estimators=500, total=   0.9s\n",
      "[CV] max_depth=2, max_features=4, min_samples_leaf=2, n_estimators=500 \n",
      "[CV]  max_depth=2, max_features=4, min_samples_leaf=2, n_estimators=500, total=   1.0s\n",
      "[CV] max_depth=2, max_features=4, min_samples_leaf=2, n_estimators=1000 \n",
      "[CV]  max_depth=2, max_features=4, min_samples_leaf=2, n_estimators=1000, total=   1.8s\n",
      "[CV] max_depth=2, max_features=4, min_samples_leaf=2, n_estimators=1000 \n",
      "[CV]  max_depth=2, max_features=4, min_samples_leaf=2, n_estimators=1000, total=   1.6s\n",
      "[CV] max_depth=2, max_features=4, min_samples_leaf=2, n_estimators=1000 \n",
      "[CV]  max_depth=2, max_features=4, min_samples_leaf=2, n_estimators=1000, total=   1.5s\n",
      "[CV] max_depth=2, max_features=4, min_samples_leaf=2, n_estimators=1000 \n",
      "[CV]  max_depth=2, max_features=4, min_samples_leaf=2, n_estimators=1000, total=   1.5s\n",
      "[CV] max_depth=2, max_features=4, min_samples_leaf=2, n_estimators=1000 \n",
      "[CV]  max_depth=2, max_features=4, min_samples_leaf=2, n_estimators=1000, total=   1.5s\n",
      "[CV] max_depth=2, max_features=4, min_samples_leaf=3, n_estimators=100 \n",
      "[CV]  max_depth=2, max_features=4, min_samples_leaf=3, n_estimators=100, total=   0.2s\n",
      "[CV] max_depth=2, max_features=4, min_samples_leaf=3, n_estimators=100 \n",
      "[CV]  max_depth=2, max_features=4, min_samples_leaf=3, n_estimators=100, total=   0.2s\n",
      "[CV] max_depth=2, max_features=4, min_samples_leaf=3, n_estimators=100 \n",
      "[CV]  max_depth=2, max_features=4, min_samples_leaf=3, n_estimators=100, total=   0.2s\n",
      "[CV] max_depth=2, max_features=4, min_samples_leaf=3, n_estimators=100 \n",
      "[CV]  max_depth=2, max_features=4, min_samples_leaf=3, n_estimators=100, total=   0.1s\n",
      "[CV] max_depth=2, max_features=4, min_samples_leaf=3, n_estimators=100 \n",
      "[CV]  max_depth=2, max_features=4, min_samples_leaf=3, n_estimators=100, total=   0.2s\n",
      "[CV] max_depth=2, max_features=4, min_samples_leaf=3, n_estimators=200 \n"
     ]
    },
    {
     "name": "stdout",
     "output_type": "stream",
     "text": [
      "[CV]  max_depth=2, max_features=4, min_samples_leaf=3, n_estimators=200, total=   0.3s\n",
      "[CV] max_depth=2, max_features=4, min_samples_leaf=3, n_estimators=200 \n",
      "[CV]  max_depth=2, max_features=4, min_samples_leaf=3, n_estimators=200, total=   0.3s\n",
      "[CV] max_depth=2, max_features=4, min_samples_leaf=3, n_estimators=200 \n",
      "[CV]  max_depth=2, max_features=4, min_samples_leaf=3, n_estimators=200, total=   0.3s\n",
      "[CV] max_depth=2, max_features=4, min_samples_leaf=3, n_estimators=200 \n",
      "[CV]  max_depth=2, max_features=4, min_samples_leaf=3, n_estimators=200, total=   0.3s\n",
      "[CV] max_depth=2, max_features=4, min_samples_leaf=3, n_estimators=200 \n",
      "[CV]  max_depth=2, max_features=4, min_samples_leaf=3, n_estimators=200, total=   0.3s\n",
      "[CV] max_depth=2, max_features=4, min_samples_leaf=3, n_estimators=500 \n",
      "[CV]  max_depth=2, max_features=4, min_samples_leaf=3, n_estimators=500, total=   0.9s\n",
      "[CV] max_depth=2, max_features=4, min_samples_leaf=3, n_estimators=500 \n",
      "[CV]  max_depth=2, max_features=4, min_samples_leaf=3, n_estimators=500, total=   0.9s\n",
      "[CV] max_depth=2, max_features=4, min_samples_leaf=3, n_estimators=500 \n",
      "[CV]  max_depth=2, max_features=4, min_samples_leaf=3, n_estimators=500, total=   0.9s\n",
      "[CV] max_depth=2, max_features=4, min_samples_leaf=3, n_estimators=500 \n",
      "[CV]  max_depth=2, max_features=4, min_samples_leaf=3, n_estimators=500, total=   0.9s\n",
      "[CV] max_depth=2, max_features=4, min_samples_leaf=3, n_estimators=500 \n",
      "[CV]  max_depth=2, max_features=4, min_samples_leaf=3, n_estimators=500, total=   0.9s\n",
      "[CV] max_depth=2, max_features=4, min_samples_leaf=3, n_estimators=1000 \n",
      "[CV]  max_depth=2, max_features=4, min_samples_leaf=3, n_estimators=1000, total=   1.9s\n",
      "[CV] max_depth=2, max_features=4, min_samples_leaf=3, n_estimators=1000 \n",
      "[CV]  max_depth=2, max_features=4, min_samples_leaf=3, n_estimators=1000, total=   1.8s\n",
      "[CV] max_depth=2, max_features=4, min_samples_leaf=3, n_estimators=1000 \n",
      "[CV]  max_depth=2, max_features=4, min_samples_leaf=3, n_estimators=1000, total=   1.8s\n",
      "[CV] max_depth=2, max_features=4, min_samples_leaf=3, n_estimators=1000 \n",
      "[CV]  max_depth=2, max_features=4, min_samples_leaf=3, n_estimators=1000, total=   1.8s\n",
      "[CV] max_depth=2, max_features=4, min_samples_leaf=3, n_estimators=1000 \n",
      "[CV]  max_depth=2, max_features=4, min_samples_leaf=3, n_estimators=1000, total=   1.9s\n",
      "[CV] max_depth=2, max_features=5, min_samples_leaf=2, n_estimators=100 \n",
      "[CV]  max_depth=2, max_features=5, min_samples_leaf=2, n_estimators=100, total=   0.2s\n",
      "[CV] max_depth=2, max_features=5, min_samples_leaf=2, n_estimators=100 \n",
      "[CV]  max_depth=2, max_features=5, min_samples_leaf=2, n_estimators=100, total=   0.2s\n",
      "[CV] max_depth=2, max_features=5, min_samples_leaf=2, n_estimators=100 \n",
      "[CV]  max_depth=2, max_features=5, min_samples_leaf=2, n_estimators=100, total=   0.2s\n",
      "[CV] max_depth=2, max_features=5, min_samples_leaf=2, n_estimators=100 \n",
      "[CV]  max_depth=2, max_features=5, min_samples_leaf=2, n_estimators=100, total=   0.2s\n",
      "[CV] max_depth=2, max_features=5, min_samples_leaf=2, n_estimators=100 \n",
      "[CV]  max_depth=2, max_features=5, min_samples_leaf=2, n_estimators=100, total=   0.2s\n",
      "[CV] max_depth=2, max_features=5, min_samples_leaf=2, n_estimators=200 \n",
      "[CV]  max_depth=2, max_features=5, min_samples_leaf=2, n_estimators=200, total=   0.3s\n",
      "[CV] max_depth=2, max_features=5, min_samples_leaf=2, n_estimators=200 \n",
      "[CV]  max_depth=2, max_features=5, min_samples_leaf=2, n_estimators=200, total=   0.3s\n",
      "[CV] max_depth=2, max_features=5, min_samples_leaf=2, n_estimators=200 \n",
      "[CV]  max_depth=2, max_features=5, min_samples_leaf=2, n_estimators=200, total=   0.3s\n",
      "[CV] max_depth=2, max_features=5, min_samples_leaf=2, n_estimators=200 \n",
      "[CV]  max_depth=2, max_features=5, min_samples_leaf=2, n_estimators=200, total=   0.3s\n",
      "[CV] max_depth=2, max_features=5, min_samples_leaf=2, n_estimators=200 \n",
      "[CV]  max_depth=2, max_features=5, min_samples_leaf=2, n_estimators=200, total=   0.3s\n",
      "[CV] max_depth=2, max_features=5, min_samples_leaf=2, n_estimators=500 \n",
      "[CV]  max_depth=2, max_features=5, min_samples_leaf=2, n_estimators=500, total=   0.7s\n",
      "[CV] max_depth=2, max_features=5, min_samples_leaf=2, n_estimators=500 \n",
      "[CV]  max_depth=2, max_features=5, min_samples_leaf=2, n_estimators=500, total=   0.7s\n",
      "[CV] max_depth=2, max_features=5, min_samples_leaf=2, n_estimators=500 \n",
      "[CV]  max_depth=2, max_features=5, min_samples_leaf=2, n_estimators=500, total=   0.9s\n",
      "[CV] max_depth=2, max_features=5, min_samples_leaf=2, n_estimators=500 \n",
      "[CV]  max_depth=2, max_features=5, min_samples_leaf=2, n_estimators=500, total=   0.7s\n",
      "[CV] max_depth=2, max_features=5, min_samples_leaf=2, n_estimators=500 \n",
      "[CV]  max_depth=2, max_features=5, min_samples_leaf=2, n_estimators=500, total=   0.8s\n",
      "[CV] max_depth=2, max_features=5, min_samples_leaf=2, n_estimators=1000 \n",
      "[CV]  max_depth=2, max_features=5, min_samples_leaf=2, n_estimators=1000, total=   1.5s\n",
      "[CV] max_depth=2, max_features=5, min_samples_leaf=2, n_estimators=1000 \n",
      "[CV]  max_depth=2, max_features=5, min_samples_leaf=2, n_estimators=1000, total=   1.8s\n",
      "[CV] max_depth=2, max_features=5, min_samples_leaf=2, n_estimators=1000 \n",
      "[CV]  max_depth=2, max_features=5, min_samples_leaf=2, n_estimators=1000, total=   2.0s\n",
      "[CV] max_depth=2, max_features=5, min_samples_leaf=2, n_estimators=1000 \n",
      "[CV]  max_depth=2, max_features=5, min_samples_leaf=2, n_estimators=1000, total=   1.9s\n",
      "[CV] max_depth=2, max_features=5, min_samples_leaf=2, n_estimators=1000 \n",
      "[CV]  max_depth=2, max_features=5, min_samples_leaf=2, n_estimators=1000, total=   1.8s\n",
      "[CV] max_depth=2, max_features=5, min_samples_leaf=3, n_estimators=100 \n",
      "[CV]  max_depth=2, max_features=5, min_samples_leaf=3, n_estimators=100, total=   0.2s\n",
      "[CV] max_depth=2, max_features=5, min_samples_leaf=3, n_estimators=100 \n",
      "[CV]  max_depth=2, max_features=5, min_samples_leaf=3, n_estimators=100, total=   0.2s\n",
      "[CV] max_depth=2, max_features=5, min_samples_leaf=3, n_estimators=100 \n",
      "[CV]  max_depth=2, max_features=5, min_samples_leaf=3, n_estimators=100, total=   0.3s\n",
      "[CV] max_depth=2, max_features=5, min_samples_leaf=3, n_estimators=100 \n",
      "[CV]  max_depth=2, max_features=5, min_samples_leaf=3, n_estimators=100, total=   0.2s\n",
      "[CV] max_depth=2, max_features=5, min_samples_leaf=3, n_estimators=100 \n",
      "[CV]  max_depth=2, max_features=5, min_samples_leaf=3, n_estimators=100, total=   0.2s\n",
      "[CV] max_depth=2, max_features=5, min_samples_leaf=3, n_estimators=200 \n",
      "[CV]  max_depth=2, max_features=5, min_samples_leaf=3, n_estimators=200, total=   0.4s\n",
      "[CV] max_depth=2, max_features=5, min_samples_leaf=3, n_estimators=200 \n",
      "[CV]  max_depth=2, max_features=5, min_samples_leaf=3, n_estimators=200, total=   0.4s\n",
      "[CV] max_depth=2, max_features=5, min_samples_leaf=3, n_estimators=200 \n",
      "[CV]  max_depth=2, max_features=5, min_samples_leaf=3, n_estimators=200, total=   0.4s\n",
      "[CV] max_depth=2, max_features=5, min_samples_leaf=3, n_estimators=200 \n",
      "[CV]  max_depth=2, max_features=5, min_samples_leaf=3, n_estimators=200, total=   0.5s\n",
      "[CV] max_depth=2, max_features=5, min_samples_leaf=3, n_estimators=200 \n",
      "[CV]  max_depth=2, max_features=5, min_samples_leaf=3, n_estimators=200, total=   0.4s\n",
      "[CV] max_depth=2, max_features=5, min_samples_leaf=3, n_estimators=500 \n",
      "[CV]  max_depth=2, max_features=5, min_samples_leaf=3, n_estimators=500, total=   0.9s\n",
      "[CV] max_depth=2, max_features=5, min_samples_leaf=3, n_estimators=500 \n",
      "[CV]  max_depth=2, max_features=5, min_samples_leaf=3, n_estimators=500, total=   0.9s\n",
      "[CV] max_depth=2, max_features=5, min_samples_leaf=3, n_estimators=500 \n",
      "[CV]  max_depth=2, max_features=5, min_samples_leaf=3, n_estimators=500, total=   0.8s\n",
      "[CV] max_depth=2, max_features=5, min_samples_leaf=3, n_estimators=500 \n",
      "[CV]  max_depth=2, max_features=5, min_samples_leaf=3, n_estimators=500, total=   1.0s\n",
      "[CV] max_depth=2, max_features=5, min_samples_leaf=3, n_estimators=500 \n",
      "[CV]  max_depth=2, max_features=5, min_samples_leaf=3, n_estimators=500, total=   1.0s\n",
      "[CV] max_depth=2, max_features=5, min_samples_leaf=3, n_estimators=1000 \n",
      "[CV]  max_depth=2, max_features=5, min_samples_leaf=3, n_estimators=1000, total=   2.0s\n",
      "[CV] max_depth=2, max_features=5, min_samples_leaf=3, n_estimators=1000 \n",
      "[CV]  max_depth=2, max_features=5, min_samples_leaf=3, n_estimators=1000, total=   1.9s\n",
      "[CV] max_depth=2, max_features=5, min_samples_leaf=3, n_estimators=1000 \n"
     ]
    },
    {
     "name": "stdout",
     "output_type": "stream",
     "text": [
      "[CV]  max_depth=2, max_features=5, min_samples_leaf=3, n_estimators=1000, total=   1.9s\n",
      "[CV] max_depth=2, max_features=5, min_samples_leaf=3, n_estimators=1000 \n",
      "[CV]  max_depth=2, max_features=5, min_samples_leaf=3, n_estimators=1000, total=   1.5s\n",
      "[CV] max_depth=2, max_features=5, min_samples_leaf=3, n_estimators=1000 \n",
      "[CV]  max_depth=2, max_features=5, min_samples_leaf=3, n_estimators=1000, total=   1.5s\n",
      "[CV] max_depth=2, max_features=6, min_samples_leaf=2, n_estimators=100 \n",
      "[CV]  max_depth=2, max_features=6, min_samples_leaf=2, n_estimators=100, total=   0.1s\n",
      "[CV] max_depth=2, max_features=6, min_samples_leaf=2, n_estimators=100 \n",
      "[CV]  max_depth=2, max_features=6, min_samples_leaf=2, n_estimators=100, total=   0.2s\n",
      "[CV] max_depth=2, max_features=6, min_samples_leaf=2, n_estimators=100 \n",
      "[CV]  max_depth=2, max_features=6, min_samples_leaf=2, n_estimators=100, total=   0.1s\n",
      "[CV] max_depth=2, max_features=6, min_samples_leaf=2, n_estimators=100 \n",
      "[CV]  max_depth=2, max_features=6, min_samples_leaf=2, n_estimators=100, total=   0.2s\n",
      "[CV] max_depth=2, max_features=6, min_samples_leaf=2, n_estimators=100 \n",
      "[CV]  max_depth=2, max_features=6, min_samples_leaf=2, n_estimators=100, total=   0.1s\n",
      "[CV] max_depth=2, max_features=6, min_samples_leaf=2, n_estimators=200 \n",
      "[CV]  max_depth=2, max_features=6, min_samples_leaf=2, n_estimators=200, total=   0.3s\n",
      "[CV] max_depth=2, max_features=6, min_samples_leaf=2, n_estimators=200 \n",
      "[CV]  max_depth=2, max_features=6, min_samples_leaf=2, n_estimators=200, total=   0.3s\n",
      "[CV] max_depth=2, max_features=6, min_samples_leaf=2, n_estimators=200 \n",
      "[CV]  max_depth=2, max_features=6, min_samples_leaf=2, n_estimators=200, total=   0.3s\n",
      "[CV] max_depth=2, max_features=6, min_samples_leaf=2, n_estimators=200 \n",
      "[CV]  max_depth=2, max_features=6, min_samples_leaf=2, n_estimators=200, total=   0.3s\n",
      "[CV] max_depth=2, max_features=6, min_samples_leaf=2, n_estimators=200 \n",
      "[CV]  max_depth=2, max_features=6, min_samples_leaf=2, n_estimators=200, total=   0.3s\n",
      "[CV] max_depth=2, max_features=6, min_samples_leaf=2, n_estimators=500 \n",
      "[CV]  max_depth=2, max_features=6, min_samples_leaf=2, n_estimators=500, total=   0.8s\n",
      "[CV] max_depth=2, max_features=6, min_samples_leaf=2, n_estimators=500 \n",
      "[CV]  max_depth=2, max_features=6, min_samples_leaf=2, n_estimators=500, total=   0.7s\n",
      "[CV] max_depth=2, max_features=6, min_samples_leaf=2, n_estimators=500 \n",
      "[CV]  max_depth=2, max_features=6, min_samples_leaf=2, n_estimators=500, total=   0.7s\n",
      "[CV] max_depth=2, max_features=6, min_samples_leaf=2, n_estimators=500 \n",
      "[CV]  max_depth=2, max_features=6, min_samples_leaf=2, n_estimators=500, total=   0.7s\n",
      "[CV] max_depth=2, max_features=6, min_samples_leaf=2, n_estimators=500 \n",
      "[CV]  max_depth=2, max_features=6, min_samples_leaf=2, n_estimators=500, total=   0.8s\n",
      "[CV] max_depth=2, max_features=6, min_samples_leaf=2, n_estimators=1000 \n",
      "[CV]  max_depth=2, max_features=6, min_samples_leaf=2, n_estimators=1000, total=   1.6s\n",
      "[CV] max_depth=2, max_features=6, min_samples_leaf=2, n_estimators=1000 \n",
      "[CV]  max_depth=2, max_features=6, min_samples_leaf=2, n_estimators=1000, total=   1.7s\n",
      "[CV] max_depth=2, max_features=6, min_samples_leaf=2, n_estimators=1000 \n",
      "[CV]  max_depth=2, max_features=6, min_samples_leaf=2, n_estimators=1000, total=   1.8s\n",
      "[CV] max_depth=2, max_features=6, min_samples_leaf=2, n_estimators=1000 \n",
      "[CV]  max_depth=2, max_features=6, min_samples_leaf=2, n_estimators=1000, total=   1.5s\n",
      "[CV] max_depth=2, max_features=6, min_samples_leaf=2, n_estimators=1000 \n",
      "[CV]  max_depth=2, max_features=6, min_samples_leaf=2, n_estimators=1000, total=   1.5s\n",
      "[CV] max_depth=2, max_features=6, min_samples_leaf=3, n_estimators=100 \n",
      "[CV]  max_depth=2, max_features=6, min_samples_leaf=3, n_estimators=100, total=   0.1s\n",
      "[CV] max_depth=2, max_features=6, min_samples_leaf=3, n_estimators=100 \n",
      "[CV]  max_depth=2, max_features=6, min_samples_leaf=3, n_estimators=100, total=   0.2s\n",
      "[CV] max_depth=2, max_features=6, min_samples_leaf=3, n_estimators=100 \n",
      "[CV]  max_depth=2, max_features=6, min_samples_leaf=3, n_estimators=100, total=   0.1s\n",
      "[CV] max_depth=2, max_features=6, min_samples_leaf=3, n_estimators=100 \n",
      "[CV]  max_depth=2, max_features=6, min_samples_leaf=3, n_estimators=100, total=   0.2s\n",
      "[CV] max_depth=2, max_features=6, min_samples_leaf=3, n_estimators=100 \n",
      "[CV]  max_depth=2, max_features=6, min_samples_leaf=3, n_estimators=100, total=   0.1s\n",
      "[CV] max_depth=2, max_features=6, min_samples_leaf=3, n_estimators=200 \n",
      "[CV]  max_depth=2, max_features=6, min_samples_leaf=3, n_estimators=200, total=   0.3s\n",
      "[CV] max_depth=2, max_features=6, min_samples_leaf=3, n_estimators=200 \n",
      "[CV]  max_depth=2, max_features=6, min_samples_leaf=3, n_estimators=200, total=   0.3s\n",
      "[CV] max_depth=2, max_features=6, min_samples_leaf=3, n_estimators=200 \n",
      "[CV]  max_depth=2, max_features=6, min_samples_leaf=3, n_estimators=200, total=   0.3s\n",
      "[CV] max_depth=2, max_features=6, min_samples_leaf=3, n_estimators=200 \n",
      "[CV]  max_depth=2, max_features=6, min_samples_leaf=3, n_estimators=200, total=   0.3s\n",
      "[CV] max_depth=2, max_features=6, min_samples_leaf=3, n_estimators=200 \n",
      "[CV]  max_depth=2, max_features=6, min_samples_leaf=3, n_estimators=200, total=   0.4s\n",
      "[CV] max_depth=2, max_features=6, min_samples_leaf=3, n_estimators=500 \n",
      "[CV]  max_depth=2, max_features=6, min_samples_leaf=3, n_estimators=500, total=   0.9s\n",
      "[CV] max_depth=2, max_features=6, min_samples_leaf=3, n_estimators=500 \n",
      "[CV]  max_depth=2, max_features=6, min_samples_leaf=3, n_estimators=500, total=   0.7s\n",
      "[CV] max_depth=2, max_features=6, min_samples_leaf=3, n_estimators=500 \n",
      "[CV]  max_depth=2, max_features=6, min_samples_leaf=3, n_estimators=500, total=   0.7s\n",
      "[CV] max_depth=2, max_features=6, min_samples_leaf=3, n_estimators=500 \n",
      "[CV]  max_depth=2, max_features=6, min_samples_leaf=3, n_estimators=500, total=   0.7s\n",
      "[CV] max_depth=2, max_features=6, min_samples_leaf=3, n_estimators=500 \n",
      "[CV]  max_depth=2, max_features=6, min_samples_leaf=3, n_estimators=500, total=   0.9s\n",
      "[CV] max_depth=2, max_features=6, min_samples_leaf=3, n_estimators=1000 \n",
      "[CV]  max_depth=2, max_features=6, min_samples_leaf=3, n_estimators=1000, total=   1.7s\n",
      "[CV] max_depth=2, max_features=6, min_samples_leaf=3, n_estimators=1000 \n",
      "[CV]  max_depth=2, max_features=6, min_samples_leaf=3, n_estimators=1000, total=   1.8s\n",
      "[CV] max_depth=2, max_features=6, min_samples_leaf=3, n_estimators=1000 \n",
      "[CV]  max_depth=2, max_features=6, min_samples_leaf=3, n_estimators=1000, total=   1.7s\n",
      "[CV] max_depth=2, max_features=6, min_samples_leaf=3, n_estimators=1000 \n",
      "[CV]  max_depth=2, max_features=6, min_samples_leaf=3, n_estimators=1000, total=   1.7s\n",
      "[CV] max_depth=2, max_features=6, min_samples_leaf=3, n_estimators=1000 \n",
      "[CV]  max_depth=2, max_features=6, min_samples_leaf=3, n_estimators=1000, total=   2.0s\n",
      "[CV] max_depth=3, max_features=2, min_samples_leaf=2, n_estimators=100 \n",
      "[CV]  max_depth=3, max_features=2, min_samples_leaf=2, n_estimators=100, total=   0.2s\n",
      "[CV] max_depth=3, max_features=2, min_samples_leaf=2, n_estimators=100 \n",
      "[CV]  max_depth=3, max_features=2, min_samples_leaf=2, n_estimators=100, total=   0.2s\n",
      "[CV] max_depth=3, max_features=2, min_samples_leaf=2, n_estimators=100 \n",
      "[CV]  max_depth=3, max_features=2, min_samples_leaf=2, n_estimators=100, total=   0.2s\n",
      "[CV] max_depth=3, max_features=2, min_samples_leaf=2, n_estimators=100 \n",
      "[CV]  max_depth=3, max_features=2, min_samples_leaf=2, n_estimators=100, total=   0.2s\n",
      "[CV] max_depth=3, max_features=2, min_samples_leaf=2, n_estimators=100 \n",
      "[CV]  max_depth=3, max_features=2, min_samples_leaf=2, n_estimators=100, total=   0.2s\n",
      "[CV] max_depth=3, max_features=2, min_samples_leaf=2, n_estimators=200 \n",
      "[CV]  max_depth=3, max_features=2, min_samples_leaf=2, n_estimators=200, total=   0.4s\n",
      "[CV] max_depth=3, max_features=2, min_samples_leaf=2, n_estimators=200 \n",
      "[CV]  max_depth=3, max_features=2, min_samples_leaf=2, n_estimators=200, total=   0.4s\n",
      "[CV] max_depth=3, max_features=2, min_samples_leaf=2, n_estimators=200 \n",
      "[CV]  max_depth=3, max_features=2, min_samples_leaf=2, n_estimators=200, total=   0.3s\n",
      "[CV] max_depth=3, max_features=2, min_samples_leaf=2, n_estimators=200 \n",
      "[CV]  max_depth=3, max_features=2, min_samples_leaf=2, n_estimators=200, total=   0.5s\n",
      "[CV] max_depth=3, max_features=2, min_samples_leaf=2, n_estimators=200 \n"
     ]
    },
    {
     "name": "stdout",
     "output_type": "stream",
     "text": [
      "[CV]  max_depth=3, max_features=2, min_samples_leaf=2, n_estimators=200, total=   0.4s\n",
      "[CV] max_depth=3, max_features=2, min_samples_leaf=2, n_estimators=500 \n",
      "[CV]  max_depth=3, max_features=2, min_samples_leaf=2, n_estimators=500, total=   1.0s\n",
      "[CV] max_depth=3, max_features=2, min_samples_leaf=2, n_estimators=500 \n",
      "[CV]  max_depth=3, max_features=2, min_samples_leaf=2, n_estimators=500, total=   0.9s\n",
      "[CV] max_depth=3, max_features=2, min_samples_leaf=2, n_estimators=500 \n",
      "[CV]  max_depth=3, max_features=2, min_samples_leaf=2, n_estimators=500, total=   1.0s\n",
      "[CV] max_depth=3, max_features=2, min_samples_leaf=2, n_estimators=500 \n",
      "[CV]  max_depth=3, max_features=2, min_samples_leaf=2, n_estimators=500, total=   1.0s\n",
      "[CV] max_depth=3, max_features=2, min_samples_leaf=2, n_estimators=500 \n",
      "[CV]  max_depth=3, max_features=2, min_samples_leaf=2, n_estimators=500, total=   1.0s\n",
      "[CV] max_depth=3, max_features=2, min_samples_leaf=2, n_estimators=1000 \n",
      "[CV]  max_depth=3, max_features=2, min_samples_leaf=2, n_estimators=1000, total=   1.8s\n",
      "[CV] max_depth=3, max_features=2, min_samples_leaf=2, n_estimators=1000 \n",
      "[CV]  max_depth=3, max_features=2, min_samples_leaf=2, n_estimators=1000, total=   1.9s\n",
      "[CV] max_depth=3, max_features=2, min_samples_leaf=2, n_estimators=1000 \n",
      "[CV]  max_depth=3, max_features=2, min_samples_leaf=2, n_estimators=1000, total=   1.5s\n",
      "[CV] max_depth=3, max_features=2, min_samples_leaf=2, n_estimators=1000 \n",
      "[CV]  max_depth=3, max_features=2, min_samples_leaf=2, n_estimators=1000, total=   1.5s\n",
      "[CV] max_depth=3, max_features=2, min_samples_leaf=2, n_estimators=1000 \n",
      "[CV]  max_depth=3, max_features=2, min_samples_leaf=2, n_estimators=1000, total=   1.5s\n",
      "[CV] max_depth=3, max_features=2, min_samples_leaf=3, n_estimators=100 \n",
      "[CV]  max_depth=3, max_features=2, min_samples_leaf=3, n_estimators=100, total=   0.1s\n",
      "[CV] max_depth=3, max_features=2, min_samples_leaf=3, n_estimators=100 \n",
      "[CV]  max_depth=3, max_features=2, min_samples_leaf=3, n_estimators=100, total=   0.2s\n",
      "[CV] max_depth=3, max_features=2, min_samples_leaf=3, n_estimators=100 \n",
      "[CV]  max_depth=3, max_features=2, min_samples_leaf=3, n_estimators=100, total=   0.1s\n",
      "[CV] max_depth=3, max_features=2, min_samples_leaf=3, n_estimators=100 \n",
      "[CV]  max_depth=3, max_features=2, min_samples_leaf=3, n_estimators=100, total=   0.2s\n",
      "[CV] max_depth=3, max_features=2, min_samples_leaf=3, n_estimators=100 \n",
      "[CV]  max_depth=3, max_features=2, min_samples_leaf=3, n_estimators=100, total=   0.1s\n",
      "[CV] max_depth=3, max_features=2, min_samples_leaf=3, n_estimators=200 \n",
      "[CV]  max_depth=3, max_features=2, min_samples_leaf=3, n_estimators=200, total=   0.3s\n",
      "[CV] max_depth=3, max_features=2, min_samples_leaf=3, n_estimators=200 \n",
      "[CV]  max_depth=3, max_features=2, min_samples_leaf=3, n_estimators=200, total=   0.3s\n",
      "[CV] max_depth=3, max_features=2, min_samples_leaf=3, n_estimators=200 \n",
      "[CV]  max_depth=3, max_features=2, min_samples_leaf=3, n_estimators=200, total=   0.3s\n",
      "[CV] max_depth=3, max_features=2, min_samples_leaf=3, n_estimators=200 \n",
      "[CV]  max_depth=3, max_features=2, min_samples_leaf=3, n_estimators=200, total=   0.3s\n",
      "[CV] max_depth=3, max_features=2, min_samples_leaf=3, n_estimators=200 \n",
      "[CV]  max_depth=3, max_features=2, min_samples_leaf=3, n_estimators=200, total=   0.3s\n",
      "[CV] max_depth=3, max_features=2, min_samples_leaf=3, n_estimators=500 \n",
      "[CV]  max_depth=3, max_features=2, min_samples_leaf=3, n_estimators=500, total=   0.7s\n",
      "[CV] max_depth=3, max_features=2, min_samples_leaf=3, n_estimators=500 \n",
      "[CV]  max_depth=3, max_features=2, min_samples_leaf=3, n_estimators=500, total=   0.8s\n",
      "[CV] max_depth=3, max_features=2, min_samples_leaf=3, n_estimators=500 \n",
      "[CV]  max_depth=3, max_features=2, min_samples_leaf=3, n_estimators=500, total=   0.9s\n",
      "[CV] max_depth=3, max_features=2, min_samples_leaf=3, n_estimators=500 \n",
      "[CV]  max_depth=3, max_features=2, min_samples_leaf=3, n_estimators=500, total=   0.9s\n",
      "[CV] max_depth=3, max_features=2, min_samples_leaf=3, n_estimators=500 \n",
      "[CV]  max_depth=3, max_features=2, min_samples_leaf=3, n_estimators=500, total=   0.9s\n",
      "[CV] max_depth=3, max_features=2, min_samples_leaf=3, n_estimators=1000 \n",
      "[CV]  max_depth=3, max_features=2, min_samples_leaf=3, n_estimators=1000, total=   1.7s\n",
      "[CV] max_depth=3, max_features=2, min_samples_leaf=3, n_estimators=1000 \n",
      "[CV]  max_depth=3, max_features=2, min_samples_leaf=3, n_estimators=1000, total=   2.0s\n",
      "[CV] max_depth=3, max_features=2, min_samples_leaf=3, n_estimators=1000 \n",
      "[CV]  max_depth=3, max_features=2, min_samples_leaf=3, n_estimators=1000, total=   1.8s\n",
      "[CV] max_depth=3, max_features=2, min_samples_leaf=3, n_estimators=1000 \n",
      "[CV]  max_depth=3, max_features=2, min_samples_leaf=3, n_estimators=1000, total=   1.7s\n",
      "[CV] max_depth=3, max_features=2, min_samples_leaf=3, n_estimators=1000 \n",
      "[CV]  max_depth=3, max_features=2, min_samples_leaf=3, n_estimators=1000, total=   1.6s\n",
      "[CV] max_depth=3, max_features=3, min_samples_leaf=2, n_estimators=100 \n",
      "[CV]  max_depth=3, max_features=3, min_samples_leaf=2, n_estimators=100, total=   0.2s\n",
      "[CV] max_depth=3, max_features=3, min_samples_leaf=2, n_estimators=100 \n",
      "[CV]  max_depth=3, max_features=3, min_samples_leaf=2, n_estimators=100, total=   0.2s\n",
      "[CV] max_depth=3, max_features=3, min_samples_leaf=2, n_estimators=100 \n",
      "[CV]  max_depth=3, max_features=3, min_samples_leaf=2, n_estimators=100, total=   0.2s\n",
      "[CV] max_depth=3, max_features=3, min_samples_leaf=2, n_estimators=100 \n",
      "[CV]  max_depth=3, max_features=3, min_samples_leaf=2, n_estimators=100, total=   0.2s\n",
      "[CV] max_depth=3, max_features=3, min_samples_leaf=2, n_estimators=100 \n",
      "[CV]  max_depth=3, max_features=3, min_samples_leaf=2, n_estimators=100, total=   0.2s\n",
      "[CV] max_depth=3, max_features=3, min_samples_leaf=2, n_estimators=200 \n",
      "[CV]  max_depth=3, max_features=3, min_samples_leaf=2, n_estimators=200, total=   0.4s\n",
      "[CV] max_depth=3, max_features=3, min_samples_leaf=2, n_estimators=200 \n",
      "[CV]  max_depth=3, max_features=3, min_samples_leaf=2, n_estimators=200, total=   0.3s\n",
      "[CV] max_depth=3, max_features=3, min_samples_leaf=2, n_estimators=200 \n",
      "[CV]  max_depth=3, max_features=3, min_samples_leaf=2, n_estimators=200, total=   0.4s\n",
      "[CV] max_depth=3, max_features=3, min_samples_leaf=2, n_estimators=200 \n",
      "[CV]  max_depth=3, max_features=3, min_samples_leaf=2, n_estimators=200, total=   0.4s\n",
      "[CV] max_depth=3, max_features=3, min_samples_leaf=2, n_estimators=200 \n",
      "[CV]  max_depth=3, max_features=3, min_samples_leaf=2, n_estimators=200, total=   0.4s\n",
      "[CV] max_depth=3, max_features=3, min_samples_leaf=2, n_estimators=500 \n",
      "[CV]  max_depth=3, max_features=3, min_samples_leaf=2, n_estimators=500, total=   0.8s\n",
      "[CV] max_depth=3, max_features=3, min_samples_leaf=2, n_estimators=500 \n",
      "[CV]  max_depth=3, max_features=3, min_samples_leaf=2, n_estimators=500, total=   1.0s\n",
      "[CV] max_depth=3, max_features=3, min_samples_leaf=2, n_estimators=500 \n",
      "[CV]  max_depth=3, max_features=3, min_samples_leaf=2, n_estimators=500, total=   0.8s\n",
      "[CV] max_depth=3, max_features=3, min_samples_leaf=2, n_estimators=500 \n",
      "[CV]  max_depth=3, max_features=3, min_samples_leaf=2, n_estimators=500, total=   0.9s\n",
      "[CV] max_depth=3, max_features=3, min_samples_leaf=2, n_estimators=500 \n",
      "[CV]  max_depth=3, max_features=3, min_samples_leaf=2, n_estimators=500, total=   1.0s\n",
      "[CV] max_depth=3, max_features=3, min_samples_leaf=2, n_estimators=1000 \n",
      "[CV]  max_depth=3, max_features=3, min_samples_leaf=2, n_estimators=1000, total=   1.8s\n",
      "[CV] max_depth=3, max_features=3, min_samples_leaf=2, n_estimators=1000 \n",
      "[CV]  max_depth=3, max_features=3, min_samples_leaf=2, n_estimators=1000, total=   1.9s\n",
      "[CV] max_depth=3, max_features=3, min_samples_leaf=2, n_estimators=1000 \n",
      "[CV]  max_depth=3, max_features=3, min_samples_leaf=2, n_estimators=1000, total=   1.8s\n",
      "[CV] max_depth=3, max_features=3, min_samples_leaf=2, n_estimators=1000 \n",
      "[CV]  max_depth=3, max_features=3, min_samples_leaf=2, n_estimators=1000, total=   1.9s\n",
      "[CV] max_depth=3, max_features=3, min_samples_leaf=2, n_estimators=1000 \n",
      "[CV]  max_depth=3, max_features=3, min_samples_leaf=2, n_estimators=1000, total=   1.7s\n",
      "[CV] max_depth=3, max_features=3, min_samples_leaf=3, n_estimators=100 \n",
      "[CV]  max_depth=3, max_features=3, min_samples_leaf=3, n_estimators=100, total=   0.2s\n",
      "[CV] max_depth=3, max_features=3, min_samples_leaf=3, n_estimators=100 \n"
     ]
    },
    {
     "name": "stdout",
     "output_type": "stream",
     "text": [
      "[CV]  max_depth=3, max_features=3, min_samples_leaf=3, n_estimators=100, total=   0.2s\n",
      "[CV] max_depth=3, max_features=3, min_samples_leaf=3, n_estimators=100 \n",
      "[CV]  max_depth=3, max_features=3, min_samples_leaf=3, n_estimators=100, total=   0.2s\n",
      "[CV] max_depth=3, max_features=3, min_samples_leaf=3, n_estimators=100 \n",
      "[CV]  max_depth=3, max_features=3, min_samples_leaf=3, n_estimators=100, total=   0.2s\n",
      "[CV] max_depth=3, max_features=3, min_samples_leaf=3, n_estimators=100 \n",
      "[CV]  max_depth=3, max_features=3, min_samples_leaf=3, n_estimators=100, total=   0.2s\n",
      "[CV] max_depth=3, max_features=3, min_samples_leaf=3, n_estimators=200 \n",
      "[CV]  max_depth=3, max_features=3, min_samples_leaf=3, n_estimators=200, total=   0.4s\n",
      "[CV] max_depth=3, max_features=3, min_samples_leaf=3, n_estimators=200 \n",
      "[CV]  max_depth=3, max_features=3, min_samples_leaf=3, n_estimators=200, total=   0.3s\n",
      "[CV] max_depth=3, max_features=3, min_samples_leaf=3, n_estimators=200 \n",
      "[CV]  max_depth=3, max_features=3, min_samples_leaf=3, n_estimators=200, total=   0.4s\n",
      "[CV] max_depth=3, max_features=3, min_samples_leaf=3, n_estimators=200 \n",
      "[CV]  max_depth=3, max_features=3, min_samples_leaf=3, n_estimators=200, total=   0.3s\n",
      "[CV] max_depth=3, max_features=3, min_samples_leaf=3, n_estimators=200 \n",
      "[CV]  max_depth=3, max_features=3, min_samples_leaf=3, n_estimators=200, total=   0.4s\n",
      "[CV] max_depth=3, max_features=3, min_samples_leaf=3, n_estimators=500 \n",
      "[CV]  max_depth=3, max_features=3, min_samples_leaf=3, n_estimators=500, total=   0.8s\n",
      "[CV] max_depth=3, max_features=3, min_samples_leaf=3, n_estimators=500 \n",
      "[CV]  max_depth=3, max_features=3, min_samples_leaf=3, n_estimators=500, total=   0.8s\n",
      "[CV] max_depth=3, max_features=3, min_samples_leaf=3, n_estimators=500 \n",
      "[CV]  max_depth=3, max_features=3, min_samples_leaf=3, n_estimators=500, total=   0.8s\n",
      "[CV] max_depth=3, max_features=3, min_samples_leaf=3, n_estimators=500 \n",
      "[CV]  max_depth=3, max_features=3, min_samples_leaf=3, n_estimators=500, total=   0.8s\n",
      "[CV] max_depth=3, max_features=3, min_samples_leaf=3, n_estimators=500 \n",
      "[CV]  max_depth=3, max_features=3, min_samples_leaf=3, n_estimators=500, total=   0.8s\n",
      "[CV] max_depth=3, max_features=3, min_samples_leaf=3, n_estimators=1000 \n",
      "[CV]  max_depth=3, max_features=3, min_samples_leaf=3, n_estimators=1000, total=   1.5s\n",
      "[CV] max_depth=3, max_features=3, min_samples_leaf=3, n_estimators=1000 \n",
      "[CV]  max_depth=3, max_features=3, min_samples_leaf=3, n_estimators=1000, total=   1.9s\n",
      "[CV] max_depth=3, max_features=3, min_samples_leaf=3, n_estimators=1000 \n",
      "[CV]  max_depth=3, max_features=3, min_samples_leaf=3, n_estimators=1000, total=   1.8s\n",
      "[CV] max_depth=3, max_features=3, min_samples_leaf=3, n_estimators=1000 \n",
      "[CV]  max_depth=3, max_features=3, min_samples_leaf=3, n_estimators=1000, total=   2.0s\n",
      "[CV] max_depth=3, max_features=3, min_samples_leaf=3, n_estimators=1000 \n",
      "[CV]  max_depth=3, max_features=3, min_samples_leaf=3, n_estimators=1000, total=   1.8s\n",
      "[CV] max_depth=3, max_features=4, min_samples_leaf=2, n_estimators=100 \n",
      "[CV]  max_depth=3, max_features=4, min_samples_leaf=2, n_estimators=100, total=   0.1s\n",
      "[CV] max_depth=3, max_features=4, min_samples_leaf=2, n_estimators=100 \n",
      "[CV]  max_depth=3, max_features=4, min_samples_leaf=2, n_estimators=100, total=   0.2s\n",
      "[CV] max_depth=3, max_features=4, min_samples_leaf=2, n_estimators=100 \n",
      "[CV]  max_depth=3, max_features=4, min_samples_leaf=2, n_estimators=100, total=   0.1s\n",
      "[CV] max_depth=3, max_features=4, min_samples_leaf=2, n_estimators=100 \n",
      "[CV]  max_depth=3, max_features=4, min_samples_leaf=2, n_estimators=100, total=   0.2s\n",
      "[CV] max_depth=3, max_features=4, min_samples_leaf=2, n_estimators=100 \n",
      "[CV]  max_depth=3, max_features=4, min_samples_leaf=2, n_estimators=100, total=   0.1s\n",
      "[CV] max_depth=3, max_features=4, min_samples_leaf=2, n_estimators=200 \n",
      "[CV]  max_depth=3, max_features=4, min_samples_leaf=2, n_estimators=200, total=   0.3s\n",
      "[CV] max_depth=3, max_features=4, min_samples_leaf=2, n_estimators=200 \n",
      "[CV]  max_depth=3, max_features=4, min_samples_leaf=2, n_estimators=200, total=   0.3s\n",
      "[CV] max_depth=3, max_features=4, min_samples_leaf=2, n_estimators=200 \n",
      "[CV]  max_depth=3, max_features=4, min_samples_leaf=2, n_estimators=200, total=   0.3s\n",
      "[CV] max_depth=3, max_features=4, min_samples_leaf=2, n_estimators=200 \n",
      "[CV]  max_depth=3, max_features=4, min_samples_leaf=2, n_estimators=200, total=   0.4s\n",
      "[CV] max_depth=3, max_features=4, min_samples_leaf=2, n_estimators=200 \n",
      "[CV]  max_depth=3, max_features=4, min_samples_leaf=2, n_estimators=200, total=   0.4s\n",
      "[CV] max_depth=3, max_features=4, min_samples_leaf=2, n_estimators=500 \n",
      "[CV]  max_depth=3, max_features=4, min_samples_leaf=2, n_estimators=500, total=   0.9s\n",
      "[CV] max_depth=3, max_features=4, min_samples_leaf=2, n_estimators=500 \n",
      "[CV]  max_depth=3, max_features=4, min_samples_leaf=2, n_estimators=500, total=   1.1s\n",
      "[CV] max_depth=3, max_features=4, min_samples_leaf=2, n_estimators=500 \n",
      "[CV]  max_depth=3, max_features=4, min_samples_leaf=2, n_estimators=500, total=   0.9s\n",
      "[CV] max_depth=3, max_features=4, min_samples_leaf=2, n_estimators=500 \n",
      "[CV]  max_depth=3, max_features=4, min_samples_leaf=2, n_estimators=500, total=   0.9s\n",
      "[CV] max_depth=3, max_features=4, min_samples_leaf=2, n_estimators=500 \n",
      "[CV]  max_depth=3, max_features=4, min_samples_leaf=2, n_estimators=500, total=   0.9s\n",
      "[CV] max_depth=3, max_features=4, min_samples_leaf=2, n_estimators=1000 \n",
      "[CV]  max_depth=3, max_features=4, min_samples_leaf=2, n_estimators=1000, total=   1.8s\n",
      "[CV] max_depth=3, max_features=4, min_samples_leaf=2, n_estimators=1000 \n",
      "[CV]  max_depth=3, max_features=4, min_samples_leaf=2, n_estimators=1000, total=   2.0s\n",
      "[CV] max_depth=3, max_features=4, min_samples_leaf=2, n_estimators=1000 \n",
      "[CV]  max_depth=3, max_features=4, min_samples_leaf=2, n_estimators=1000, total=   2.0s\n",
      "[CV] max_depth=3, max_features=4, min_samples_leaf=2, n_estimators=1000 \n",
      "[CV]  max_depth=3, max_features=4, min_samples_leaf=2, n_estimators=1000, total=   1.6s\n",
      "[CV] max_depth=3, max_features=4, min_samples_leaf=2, n_estimators=1000 \n",
      "[CV]  max_depth=3, max_features=4, min_samples_leaf=2, n_estimators=1000, total=   1.6s\n",
      "[CV] max_depth=3, max_features=4, min_samples_leaf=3, n_estimators=100 \n",
      "[CV]  max_depth=3, max_features=4, min_samples_leaf=3, n_estimators=100, total=   0.1s\n",
      "[CV] max_depth=3, max_features=4, min_samples_leaf=3, n_estimators=100 \n",
      "[CV]  max_depth=3, max_features=4, min_samples_leaf=3, n_estimators=100, total=   0.2s\n",
      "[CV] max_depth=3, max_features=4, min_samples_leaf=3, n_estimators=100 \n",
      "[CV]  max_depth=3, max_features=4, min_samples_leaf=3, n_estimators=100, total=   0.1s\n",
      "[CV] max_depth=3, max_features=4, min_samples_leaf=3, n_estimators=100 \n",
      "[CV]  max_depth=3, max_features=4, min_samples_leaf=3, n_estimators=100, total=   0.2s\n",
      "[CV] max_depth=3, max_features=4, min_samples_leaf=3, n_estimators=100 \n",
      "[CV]  max_depth=3, max_features=4, min_samples_leaf=3, n_estimators=100, total=   0.2s\n",
      "[CV] max_depth=3, max_features=4, min_samples_leaf=3, n_estimators=200 \n",
      "[CV]  max_depth=3, max_features=4, min_samples_leaf=3, n_estimators=200, total=   0.3s\n",
      "[CV] max_depth=3, max_features=4, min_samples_leaf=3, n_estimators=200 \n",
      "[CV]  max_depth=3, max_features=4, min_samples_leaf=3, n_estimators=200, total=   0.3s\n",
      "[CV] max_depth=3, max_features=4, min_samples_leaf=3, n_estimators=200 \n",
      "[CV]  max_depth=3, max_features=4, min_samples_leaf=3, n_estimators=200, total=   0.3s\n",
      "[CV] max_depth=3, max_features=4, min_samples_leaf=3, n_estimators=200 \n",
      "[CV]  max_depth=3, max_features=4, min_samples_leaf=3, n_estimators=200, total=   0.3s\n",
      "[CV] max_depth=3, max_features=4, min_samples_leaf=3, n_estimators=200 \n",
      "[CV]  max_depth=3, max_features=4, min_samples_leaf=3, n_estimators=200, total=   0.3s\n",
      "[CV] max_depth=3, max_features=4, min_samples_leaf=3, n_estimators=500 \n",
      "[CV]  max_depth=3, max_features=4, min_samples_leaf=3, n_estimators=500, total=   0.8s\n",
      "[CV] max_depth=3, max_features=4, min_samples_leaf=3, n_estimators=500 \n",
      "[CV]  max_depth=3, max_features=4, min_samples_leaf=3, n_estimators=500, total=   0.8s\n",
      "[CV] max_depth=3, max_features=4, min_samples_leaf=3, n_estimators=500 \n",
      "[CV]  max_depth=3, max_features=4, min_samples_leaf=3, n_estimators=500, total=   0.9s\n",
      "[CV] max_depth=3, max_features=4, min_samples_leaf=3, n_estimators=500 \n"
     ]
    },
    {
     "name": "stdout",
     "output_type": "stream",
     "text": [
      "[CV]  max_depth=3, max_features=4, min_samples_leaf=3, n_estimators=500, total=   0.8s\n",
      "[CV] max_depth=3, max_features=4, min_samples_leaf=3, n_estimators=500 \n",
      "[CV]  max_depth=3, max_features=4, min_samples_leaf=3, n_estimators=500, total=   0.8s\n",
      "[CV] max_depth=3, max_features=4, min_samples_leaf=3, n_estimators=1000 \n",
      "[CV]  max_depth=3, max_features=4, min_samples_leaf=3, n_estimators=1000, total=   1.5s\n",
      "[CV] max_depth=3, max_features=4, min_samples_leaf=3, n_estimators=1000 \n",
      "[CV]  max_depth=3, max_features=4, min_samples_leaf=3, n_estimators=1000, total=   1.6s\n",
      "[CV] max_depth=3, max_features=4, min_samples_leaf=3, n_estimators=1000 \n",
      "[CV]  max_depth=3, max_features=4, min_samples_leaf=3, n_estimators=1000, total=   1.8s\n",
      "[CV] max_depth=3, max_features=4, min_samples_leaf=3, n_estimators=1000 \n",
      "[CV]  max_depth=3, max_features=4, min_samples_leaf=3, n_estimators=1000, total=   1.7s\n",
      "[CV] max_depth=3, max_features=4, min_samples_leaf=3, n_estimators=1000 \n",
      "[CV]  max_depth=3, max_features=4, min_samples_leaf=3, n_estimators=1000, total=   1.8s\n",
      "[CV] max_depth=3, max_features=5, min_samples_leaf=2, n_estimators=100 \n",
      "[CV]  max_depth=3, max_features=5, min_samples_leaf=2, n_estimators=100, total=   0.2s\n",
      "[CV] max_depth=3, max_features=5, min_samples_leaf=2, n_estimators=100 \n",
      "[CV]  max_depth=3, max_features=5, min_samples_leaf=2, n_estimators=100, total=   0.2s\n",
      "[CV] max_depth=3, max_features=5, min_samples_leaf=2, n_estimators=100 \n",
      "[CV]  max_depth=3, max_features=5, min_samples_leaf=2, n_estimators=100, total=   0.2s\n",
      "[CV] max_depth=3, max_features=5, min_samples_leaf=2, n_estimators=100 \n",
      "[CV]  max_depth=3, max_features=5, min_samples_leaf=2, n_estimators=100, total=   0.2s\n",
      "[CV] max_depth=3, max_features=5, min_samples_leaf=2, n_estimators=100 \n",
      "[CV]  max_depth=3, max_features=5, min_samples_leaf=2, n_estimators=100, total=   0.2s\n",
      "[CV] max_depth=3, max_features=5, min_samples_leaf=2, n_estimators=200 \n",
      "[CV]  max_depth=3, max_features=5, min_samples_leaf=2, n_estimators=200, total=   0.4s\n",
      "[CV] max_depth=3, max_features=5, min_samples_leaf=2, n_estimators=200 \n",
      "[CV]  max_depth=3, max_features=5, min_samples_leaf=2, n_estimators=200, total=   0.4s\n",
      "[CV] max_depth=3, max_features=5, min_samples_leaf=2, n_estimators=200 \n",
      "[CV]  max_depth=3, max_features=5, min_samples_leaf=2, n_estimators=200, total=   0.4s\n",
      "[CV] max_depth=3, max_features=5, min_samples_leaf=2, n_estimators=200 \n",
      "[CV]  max_depth=3, max_features=5, min_samples_leaf=2, n_estimators=200, total=   0.4s\n",
      "[CV] max_depth=3, max_features=5, min_samples_leaf=2, n_estimators=200 \n",
      "[CV]  max_depth=3, max_features=5, min_samples_leaf=2, n_estimators=200, total=   0.4s\n",
      "[CV] max_depth=3, max_features=5, min_samples_leaf=2, n_estimators=500 \n",
      "[CV]  max_depth=3, max_features=5, min_samples_leaf=2, n_estimators=500, total=   1.0s\n",
      "[CV] max_depth=3, max_features=5, min_samples_leaf=2, n_estimators=500 \n",
      "[CV]  max_depth=3, max_features=5, min_samples_leaf=2, n_estimators=500, total=   1.1s\n",
      "[CV] max_depth=3, max_features=5, min_samples_leaf=2, n_estimators=500 \n",
      "[CV]  max_depth=3, max_features=5, min_samples_leaf=2, n_estimators=500, total=   0.9s\n",
      "[CV] max_depth=3, max_features=5, min_samples_leaf=2, n_estimators=500 \n",
      "[CV]  max_depth=3, max_features=5, min_samples_leaf=2, n_estimators=500, total=   0.9s\n",
      "[CV] max_depth=3, max_features=5, min_samples_leaf=2, n_estimators=500 \n",
      "[CV]  max_depth=3, max_features=5, min_samples_leaf=2, n_estimators=500, total=   1.0s\n",
      "[CV] max_depth=3, max_features=5, min_samples_leaf=2, n_estimators=1000 \n",
      "[CV]  max_depth=3, max_features=5, min_samples_leaf=2, n_estimators=1000, total=   1.9s\n",
      "[CV] max_depth=3, max_features=5, min_samples_leaf=2, n_estimators=1000 \n",
      "[CV]  max_depth=3, max_features=5, min_samples_leaf=2, n_estimators=1000, total=   1.8s\n",
      "[CV] max_depth=3, max_features=5, min_samples_leaf=2, n_estimators=1000 \n",
      "[CV]  max_depth=3, max_features=5, min_samples_leaf=2, n_estimators=1000, total=   2.3s\n",
      "[CV] max_depth=3, max_features=5, min_samples_leaf=2, n_estimators=1000 \n",
      "[CV]  max_depth=3, max_features=5, min_samples_leaf=2, n_estimators=1000, total=   2.3s\n",
      "[CV] max_depth=3, max_features=5, min_samples_leaf=2, n_estimators=1000 \n",
      "[CV]  max_depth=3, max_features=5, min_samples_leaf=2, n_estimators=1000, total=   1.9s\n",
      "[CV] max_depth=3, max_features=5, min_samples_leaf=3, n_estimators=100 \n",
      "[CV]  max_depth=3, max_features=5, min_samples_leaf=3, n_estimators=100, total=   0.2s\n",
      "[CV] max_depth=3, max_features=5, min_samples_leaf=3, n_estimators=100 \n",
      "[CV]  max_depth=3, max_features=5, min_samples_leaf=3, n_estimators=100, total=   0.2s\n",
      "[CV] max_depth=3, max_features=5, min_samples_leaf=3, n_estimators=100 \n",
      "[CV]  max_depth=3, max_features=5, min_samples_leaf=3, n_estimators=100, total=   0.2s\n",
      "[CV] max_depth=3, max_features=5, min_samples_leaf=3, n_estimators=100 \n",
      "[CV]  max_depth=3, max_features=5, min_samples_leaf=3, n_estimators=100, total=   0.2s\n",
      "[CV] max_depth=3, max_features=5, min_samples_leaf=3, n_estimators=100 \n",
      "[CV]  max_depth=3, max_features=5, min_samples_leaf=3, n_estimators=100, total=   0.2s\n",
      "[CV] max_depth=3, max_features=5, min_samples_leaf=3, n_estimators=200 \n",
      "[CV]  max_depth=3, max_features=5, min_samples_leaf=3, n_estimators=200, total=   0.4s\n",
      "[CV] max_depth=3, max_features=5, min_samples_leaf=3, n_estimators=200 \n",
      "[CV]  max_depth=3, max_features=5, min_samples_leaf=3, n_estimators=200, total=   0.4s\n",
      "[CV] max_depth=3, max_features=5, min_samples_leaf=3, n_estimators=200 \n",
      "[CV]  max_depth=3, max_features=5, min_samples_leaf=3, n_estimators=200, total=   0.4s\n",
      "[CV] max_depth=3, max_features=5, min_samples_leaf=3, n_estimators=200 \n",
      "[CV]  max_depth=3, max_features=5, min_samples_leaf=3, n_estimators=200, total=   0.4s\n",
      "[CV] max_depth=3, max_features=5, min_samples_leaf=3, n_estimators=200 \n",
      "[CV]  max_depth=3, max_features=5, min_samples_leaf=3, n_estimators=200, total=   0.3s\n",
      "[CV] max_depth=3, max_features=5, min_samples_leaf=3, n_estimators=500 \n",
      "[CV]  max_depth=3, max_features=5, min_samples_leaf=3, n_estimators=500, total=   0.8s\n",
      "[CV] max_depth=3, max_features=5, min_samples_leaf=3, n_estimators=500 \n",
      "[CV]  max_depth=3, max_features=5, min_samples_leaf=3, n_estimators=500, total=   1.1s\n",
      "[CV] max_depth=3, max_features=5, min_samples_leaf=3, n_estimators=500 \n",
      "[CV]  max_depth=3, max_features=5, min_samples_leaf=3, n_estimators=500, total=   1.1s\n",
      "[CV] max_depth=3, max_features=5, min_samples_leaf=3, n_estimators=500 \n",
      "[CV]  max_depth=3, max_features=5, min_samples_leaf=3, n_estimators=500, total=   1.0s\n",
      "[CV] max_depth=3, max_features=5, min_samples_leaf=3, n_estimators=500 \n",
      "[CV]  max_depth=3, max_features=5, min_samples_leaf=3, n_estimators=500, total=   0.8s\n",
      "[CV] max_depth=3, max_features=5, min_samples_leaf=3, n_estimators=1000 \n",
      "[CV]  max_depth=3, max_features=5, min_samples_leaf=3, n_estimators=1000, total=   1.5s\n",
      "[CV] max_depth=3, max_features=5, min_samples_leaf=3, n_estimators=1000 \n",
      "[CV]  max_depth=3, max_features=5, min_samples_leaf=3, n_estimators=1000, total=   1.5s\n",
      "[CV] max_depth=3, max_features=5, min_samples_leaf=3, n_estimators=1000 \n",
      "[CV]  max_depth=3, max_features=5, min_samples_leaf=3, n_estimators=1000, total=   1.5s\n",
      "[CV] max_depth=3, max_features=5, min_samples_leaf=3, n_estimators=1000 \n",
      "[CV]  max_depth=3, max_features=5, min_samples_leaf=3, n_estimators=1000, total=   1.5s\n",
      "[CV] max_depth=3, max_features=5, min_samples_leaf=3, n_estimators=1000 \n",
      "[CV]  max_depth=3, max_features=5, min_samples_leaf=3, n_estimators=1000, total=   1.8s\n",
      "[CV] max_depth=3, max_features=6, min_samples_leaf=2, n_estimators=100 \n",
      "[CV]  max_depth=3, max_features=6, min_samples_leaf=2, n_estimators=100, total=   0.2s\n",
      "[CV] max_depth=3, max_features=6, min_samples_leaf=2, n_estimators=100 \n",
      "[CV]  max_depth=3, max_features=6, min_samples_leaf=2, n_estimators=100, total=   0.2s\n",
      "[CV] max_depth=3, max_features=6, min_samples_leaf=2, n_estimators=100 \n",
      "[CV]  max_depth=3, max_features=6, min_samples_leaf=2, n_estimators=100, total=   0.2s\n",
      "[CV] max_depth=3, max_features=6, min_samples_leaf=2, n_estimators=100 \n",
      "[CV]  max_depth=3, max_features=6, min_samples_leaf=2, n_estimators=100, total=   0.2s\n",
      "[CV] max_depth=3, max_features=6, min_samples_leaf=2, n_estimators=100 \n",
      "[CV]  max_depth=3, max_features=6, min_samples_leaf=2, n_estimators=100, total=   0.2s\n",
      "[CV] max_depth=3, max_features=6, min_samples_leaf=2, n_estimators=200 \n"
     ]
    },
    {
     "name": "stdout",
     "output_type": "stream",
     "text": [
      "[CV]  max_depth=3, max_features=6, min_samples_leaf=2, n_estimators=200, total=   0.4s\n",
      "[CV] max_depth=3, max_features=6, min_samples_leaf=2, n_estimators=200 \n",
      "[CV]  max_depth=3, max_features=6, min_samples_leaf=2, n_estimators=200, total=   0.4s\n",
      "[CV] max_depth=3, max_features=6, min_samples_leaf=2, n_estimators=200 \n",
      "[CV]  max_depth=3, max_features=6, min_samples_leaf=2, n_estimators=200, total=   0.4s\n",
      "[CV] max_depth=3, max_features=6, min_samples_leaf=2, n_estimators=200 \n",
      "[CV]  max_depth=3, max_features=6, min_samples_leaf=2, n_estimators=200, total=   0.4s\n",
      "[CV] max_depth=3, max_features=6, min_samples_leaf=2, n_estimators=200 \n",
      "[CV]  max_depth=3, max_features=6, min_samples_leaf=2, n_estimators=200, total=   0.4s\n",
      "[CV] max_depth=3, max_features=6, min_samples_leaf=2, n_estimators=500 \n",
      "[CV]  max_depth=3, max_features=6, min_samples_leaf=2, n_estimators=500, total=   0.9s\n",
      "[CV] max_depth=3, max_features=6, min_samples_leaf=2, n_estimators=500 \n",
      "[CV]  max_depth=3, max_features=6, min_samples_leaf=2, n_estimators=500, total=   0.9s\n",
      "[CV] max_depth=3, max_features=6, min_samples_leaf=2, n_estimators=500 \n",
      "[CV]  max_depth=3, max_features=6, min_samples_leaf=2, n_estimators=500, total=   0.9s\n",
      "[CV] max_depth=3, max_features=6, min_samples_leaf=2, n_estimators=500 \n",
      "[CV]  max_depth=3, max_features=6, min_samples_leaf=2, n_estimators=500, total=   0.9s\n",
      "[CV] max_depth=3, max_features=6, min_samples_leaf=2, n_estimators=500 \n",
      "[CV]  max_depth=3, max_features=6, min_samples_leaf=2, n_estimators=500, total=   0.8s\n",
      "[CV] max_depth=3, max_features=6, min_samples_leaf=2, n_estimators=1000 \n",
      "[CV]  max_depth=3, max_features=6, min_samples_leaf=2, n_estimators=1000, total=   1.6s\n",
      "[CV] max_depth=3, max_features=6, min_samples_leaf=2, n_estimators=1000 \n",
      "[CV]  max_depth=3, max_features=6, min_samples_leaf=2, n_estimators=1000, total=   1.5s\n",
      "[CV] max_depth=3, max_features=6, min_samples_leaf=2, n_estimators=1000 \n",
      "[CV]  max_depth=3, max_features=6, min_samples_leaf=2, n_estimators=1000, total=   1.6s\n",
      "[CV] max_depth=3, max_features=6, min_samples_leaf=2, n_estimators=1000 \n",
      "[CV]  max_depth=3, max_features=6, min_samples_leaf=2, n_estimators=1000, total=   1.6s\n",
      "[CV] max_depth=3, max_features=6, min_samples_leaf=2, n_estimators=1000 \n",
      "[CV]  max_depth=3, max_features=6, min_samples_leaf=2, n_estimators=1000, total=   1.8s\n",
      "[CV] max_depth=3, max_features=6, min_samples_leaf=3, n_estimators=100 \n",
      "[CV]  max_depth=3, max_features=6, min_samples_leaf=3, n_estimators=100, total=   0.2s\n",
      "[CV] max_depth=3, max_features=6, min_samples_leaf=3, n_estimators=100 \n",
      "[CV]  max_depth=3, max_features=6, min_samples_leaf=3, n_estimators=100, total=   0.3s\n",
      "[CV] max_depth=3, max_features=6, min_samples_leaf=3, n_estimators=100 \n",
      "[CV]  max_depth=3, max_features=6, min_samples_leaf=3, n_estimators=100, total=   0.3s\n",
      "[CV] max_depth=3, max_features=6, min_samples_leaf=3, n_estimators=100 \n",
      "[CV]  max_depth=3, max_features=6, min_samples_leaf=3, n_estimators=100, total=   0.2s\n",
      "[CV] max_depth=3, max_features=6, min_samples_leaf=3, n_estimators=100 \n",
      "[CV]  max_depth=3, max_features=6, min_samples_leaf=3, n_estimators=100, total=   0.2s\n",
      "[CV] max_depth=3, max_features=6, min_samples_leaf=3, n_estimators=200 \n",
      "[CV]  max_depth=3, max_features=6, min_samples_leaf=3, n_estimators=200, total=   0.4s\n",
      "[CV] max_depth=3, max_features=6, min_samples_leaf=3, n_estimators=200 \n",
      "[CV]  max_depth=3, max_features=6, min_samples_leaf=3, n_estimators=200, total=   0.4s\n",
      "[CV] max_depth=3, max_features=6, min_samples_leaf=3, n_estimators=200 \n",
      "[CV]  max_depth=3, max_features=6, min_samples_leaf=3, n_estimators=200, total=   0.4s\n",
      "[CV] max_depth=3, max_features=6, min_samples_leaf=3, n_estimators=200 \n",
      "[CV]  max_depth=3, max_features=6, min_samples_leaf=3, n_estimators=200, total=   0.4s\n",
      "[CV] max_depth=3, max_features=6, min_samples_leaf=3, n_estimators=200 \n",
      "[CV]  max_depth=3, max_features=6, min_samples_leaf=3, n_estimators=200, total=   0.3s\n",
      "[CV] max_depth=3, max_features=6, min_samples_leaf=3, n_estimators=500 \n",
      "[CV]  max_depth=3, max_features=6, min_samples_leaf=3, n_estimators=500, total=   0.9s\n",
      "[CV] max_depth=3, max_features=6, min_samples_leaf=3, n_estimators=500 \n",
      "[CV]  max_depth=3, max_features=6, min_samples_leaf=3, n_estimators=500, total=   1.0s\n",
      "[CV] max_depth=3, max_features=6, min_samples_leaf=3, n_estimators=500 \n",
      "[CV]  max_depth=3, max_features=6, min_samples_leaf=3, n_estimators=500, total=   0.9s\n",
      "[CV] max_depth=3, max_features=6, min_samples_leaf=3, n_estimators=500 \n",
      "[CV]  max_depth=3, max_features=6, min_samples_leaf=3, n_estimators=500, total=   1.0s\n",
      "[CV] max_depth=3, max_features=6, min_samples_leaf=3, n_estimators=500 \n",
      "[CV]  max_depth=3, max_features=6, min_samples_leaf=3, n_estimators=500, total=   0.9s\n",
      "[CV] max_depth=3, max_features=6, min_samples_leaf=3, n_estimators=1000 \n",
      "[CV]  max_depth=3, max_features=6, min_samples_leaf=3, n_estimators=1000, total=   1.8s\n",
      "[CV] max_depth=3, max_features=6, min_samples_leaf=3, n_estimators=1000 \n",
      "[CV]  max_depth=3, max_features=6, min_samples_leaf=3, n_estimators=1000, total=   1.8s\n",
      "[CV] max_depth=3, max_features=6, min_samples_leaf=3, n_estimators=1000 \n",
      "[CV]  max_depth=3, max_features=6, min_samples_leaf=3, n_estimators=1000, total=   1.8s\n",
      "[CV] max_depth=3, max_features=6, min_samples_leaf=3, n_estimators=1000 \n",
      "[CV]  max_depth=3, max_features=6, min_samples_leaf=3, n_estimators=1000, total=   1.9s\n",
      "[CV] max_depth=3, max_features=6, min_samples_leaf=3, n_estimators=1000 \n",
      "[CV]  max_depth=3, max_features=6, min_samples_leaf=3, n_estimators=1000, total=   2.9s\n",
      "[CV] max_depth=4, max_features=2, min_samples_leaf=2, n_estimators=100 \n",
      "[CV]  max_depth=4, max_features=2, min_samples_leaf=2, n_estimators=100, total=   0.2s\n",
      "[CV] max_depth=4, max_features=2, min_samples_leaf=2, n_estimators=100 \n",
      "[CV]  max_depth=4, max_features=2, min_samples_leaf=2, n_estimators=100, total=   0.2s\n",
      "[CV] max_depth=4, max_features=2, min_samples_leaf=2, n_estimators=100 \n",
      "[CV]  max_depth=4, max_features=2, min_samples_leaf=2, n_estimators=100, total=   0.2s\n",
      "[CV] max_depth=4, max_features=2, min_samples_leaf=2, n_estimators=100 \n",
      "[CV]  max_depth=4, max_features=2, min_samples_leaf=2, n_estimators=100, total=   0.2s\n",
      "[CV] max_depth=4, max_features=2, min_samples_leaf=2, n_estimators=100 \n",
      "[CV]  max_depth=4, max_features=2, min_samples_leaf=2, n_estimators=100, total=   0.2s\n",
      "[CV] max_depth=4, max_features=2, min_samples_leaf=2, n_estimators=200 \n",
      "[CV]  max_depth=4, max_features=2, min_samples_leaf=2, n_estimators=200, total=   0.4s\n",
      "[CV] max_depth=4, max_features=2, min_samples_leaf=2, n_estimators=200 \n",
      "[CV]  max_depth=4, max_features=2, min_samples_leaf=2, n_estimators=200, total=   0.4s\n",
      "[CV] max_depth=4, max_features=2, min_samples_leaf=2, n_estimators=200 \n",
      "[CV]  max_depth=4, max_features=2, min_samples_leaf=2, n_estimators=200, total=   0.4s\n",
      "[CV] max_depth=4, max_features=2, min_samples_leaf=2, n_estimators=200 \n",
      "[CV]  max_depth=4, max_features=2, min_samples_leaf=2, n_estimators=200, total=   0.4s\n",
      "[CV] max_depth=4, max_features=2, min_samples_leaf=2, n_estimators=200 \n",
      "[CV]  max_depth=4, max_features=2, min_samples_leaf=2, n_estimators=200, total=   0.4s\n",
      "[CV] max_depth=4, max_features=2, min_samples_leaf=2, n_estimators=500 \n",
      "[CV]  max_depth=4, max_features=2, min_samples_leaf=2, n_estimators=500, total=   0.9s\n",
      "[CV] max_depth=4, max_features=2, min_samples_leaf=2, n_estimators=500 \n",
      "[CV]  max_depth=4, max_features=2, min_samples_leaf=2, n_estimators=500, total=   1.0s\n",
      "[CV] max_depth=4, max_features=2, min_samples_leaf=2, n_estimators=500 \n",
      "[CV]  max_depth=4, max_features=2, min_samples_leaf=2, n_estimators=500, total=   1.0s\n",
      "[CV] max_depth=4, max_features=2, min_samples_leaf=2, n_estimators=500 \n",
      "[CV]  max_depth=4, max_features=2, min_samples_leaf=2, n_estimators=500, total=   0.9s\n",
      "[CV] max_depth=4, max_features=2, min_samples_leaf=2, n_estimators=500 \n",
      "[CV]  max_depth=4, max_features=2, min_samples_leaf=2, n_estimators=500, total=   1.0s\n",
      "[CV] max_depth=4, max_features=2, min_samples_leaf=2, n_estimators=1000 \n",
      "[CV]  max_depth=4, max_features=2, min_samples_leaf=2, n_estimators=1000, total=   1.8s\n",
      "[CV] max_depth=4, max_features=2, min_samples_leaf=2, n_estimators=1000 \n",
      "[CV]  max_depth=4, max_features=2, min_samples_leaf=2, n_estimators=1000, total=   1.6s\n",
      "[CV] max_depth=4, max_features=2, min_samples_leaf=2, n_estimators=1000 \n"
     ]
    },
    {
     "name": "stdout",
     "output_type": "stream",
     "text": [
      "[CV]  max_depth=4, max_features=2, min_samples_leaf=2, n_estimators=1000, total=   1.5s\n",
      "[CV] max_depth=4, max_features=2, min_samples_leaf=2, n_estimators=1000 \n",
      "[CV]  max_depth=4, max_features=2, min_samples_leaf=2, n_estimators=1000, total=   2.0s\n",
      "[CV] max_depth=4, max_features=2, min_samples_leaf=2, n_estimators=1000 \n",
      "[CV]  max_depth=4, max_features=2, min_samples_leaf=2, n_estimators=1000, total=   2.7s\n",
      "[CV] max_depth=4, max_features=2, min_samples_leaf=3, n_estimators=100 \n",
      "[CV]  max_depth=4, max_features=2, min_samples_leaf=3, n_estimators=100, total=   0.3s\n",
      "[CV] max_depth=4, max_features=2, min_samples_leaf=3, n_estimators=100 \n",
      "[CV]  max_depth=4, max_features=2, min_samples_leaf=3, n_estimators=100, total=   0.3s\n",
      "[CV] max_depth=4, max_features=2, min_samples_leaf=3, n_estimators=100 \n",
      "[CV]  max_depth=4, max_features=2, min_samples_leaf=3, n_estimators=100, total=   0.4s\n",
      "[CV] max_depth=4, max_features=2, min_samples_leaf=3, n_estimators=100 \n",
      "[CV]  max_depth=4, max_features=2, min_samples_leaf=3, n_estimators=100, total=   0.4s\n",
      "[CV] max_depth=4, max_features=2, min_samples_leaf=3, n_estimators=100 \n",
      "[CV]  max_depth=4, max_features=2, min_samples_leaf=3, n_estimators=100, total=   0.3s\n",
      "[CV] max_depth=4, max_features=2, min_samples_leaf=3, n_estimators=200 \n",
      "[CV]  max_depth=4, max_features=2, min_samples_leaf=3, n_estimators=200, total=   0.8s\n",
      "[CV] max_depth=4, max_features=2, min_samples_leaf=3, n_estimators=200 \n",
      "[CV]  max_depth=4, max_features=2, min_samples_leaf=3, n_estimators=200, total=   0.5s\n",
      "[CV] max_depth=4, max_features=2, min_samples_leaf=3, n_estimators=200 \n",
      "[CV]  max_depth=4, max_features=2, min_samples_leaf=3, n_estimators=200, total=   0.4s\n",
      "[CV] max_depth=4, max_features=2, min_samples_leaf=3, n_estimators=200 \n",
      "[CV]  max_depth=4, max_features=2, min_samples_leaf=3, n_estimators=200, total=   0.4s\n",
      "[CV] max_depth=4, max_features=2, min_samples_leaf=3, n_estimators=200 \n",
      "[CV]  max_depth=4, max_features=2, min_samples_leaf=3, n_estimators=200, total=   0.3s\n",
      "[CV] max_depth=4, max_features=2, min_samples_leaf=3, n_estimators=500 \n",
      "[CV]  max_depth=4, max_features=2, min_samples_leaf=3, n_estimators=500, total=   0.8s\n",
      "[CV] max_depth=4, max_features=2, min_samples_leaf=3, n_estimators=500 \n",
      "[CV]  max_depth=4, max_features=2, min_samples_leaf=3, n_estimators=500, total=   0.7s\n",
      "[CV] max_depth=4, max_features=2, min_samples_leaf=3, n_estimators=500 \n",
      "[CV]  max_depth=4, max_features=2, min_samples_leaf=3, n_estimators=500, total=   0.8s\n",
      "[CV] max_depth=4, max_features=2, min_samples_leaf=3, n_estimators=500 \n",
      "[CV]  max_depth=4, max_features=2, min_samples_leaf=3, n_estimators=500, total=   0.9s\n",
      "[CV] max_depth=4, max_features=2, min_samples_leaf=3, n_estimators=500 \n",
      "[CV]  max_depth=4, max_features=2, min_samples_leaf=3, n_estimators=500, total=   1.1s\n",
      "[CV] max_depth=4, max_features=2, min_samples_leaf=3, n_estimators=1000 \n",
      "[CV]  max_depth=4, max_features=2, min_samples_leaf=3, n_estimators=1000, total=   1.8s\n",
      "[CV] max_depth=4, max_features=2, min_samples_leaf=3, n_estimators=1000 \n",
      "[CV]  max_depth=4, max_features=2, min_samples_leaf=3, n_estimators=1000, total=   1.8s\n",
      "[CV] max_depth=4, max_features=2, min_samples_leaf=3, n_estimators=1000 \n",
      "[CV]  max_depth=4, max_features=2, min_samples_leaf=3, n_estimators=1000, total=   1.9s\n",
      "[CV] max_depth=4, max_features=2, min_samples_leaf=3, n_estimators=1000 \n",
      "[CV]  max_depth=4, max_features=2, min_samples_leaf=3, n_estimators=1000, total=   1.9s\n",
      "[CV] max_depth=4, max_features=2, min_samples_leaf=3, n_estimators=1000 \n",
      "[CV]  max_depth=4, max_features=2, min_samples_leaf=3, n_estimators=1000, total=   2.1s\n",
      "[CV] max_depth=4, max_features=3, min_samples_leaf=2, n_estimators=100 \n",
      "[CV]  max_depth=4, max_features=3, min_samples_leaf=2, n_estimators=100, total=   0.2s\n",
      "[CV] max_depth=4, max_features=3, min_samples_leaf=2, n_estimators=100 \n",
      "[CV]  max_depth=4, max_features=3, min_samples_leaf=2, n_estimators=100, total=   0.2s\n",
      "[CV] max_depth=4, max_features=3, min_samples_leaf=2, n_estimators=100 \n",
      "[CV]  max_depth=4, max_features=3, min_samples_leaf=2, n_estimators=100, total=   0.2s\n",
      "[CV] max_depth=4, max_features=3, min_samples_leaf=2, n_estimators=100 \n",
      "[CV]  max_depth=4, max_features=3, min_samples_leaf=2, n_estimators=100, total=   0.2s\n",
      "[CV] max_depth=4, max_features=3, min_samples_leaf=2, n_estimators=100 \n",
      "[CV]  max_depth=4, max_features=3, min_samples_leaf=2, n_estimators=100, total=   0.3s\n",
      "[CV] max_depth=4, max_features=3, min_samples_leaf=2, n_estimators=200 \n",
      "[CV]  max_depth=4, max_features=3, min_samples_leaf=2, n_estimators=200, total=   0.6s\n",
      "[CV] max_depth=4, max_features=3, min_samples_leaf=2, n_estimators=200 \n",
      "[CV]  max_depth=4, max_features=3, min_samples_leaf=2, n_estimators=200, total=   0.6s\n",
      "[CV] max_depth=4, max_features=3, min_samples_leaf=2, n_estimators=200 \n",
      "[CV]  max_depth=4, max_features=3, min_samples_leaf=2, n_estimators=200, total=   0.4s\n",
      "[CV] max_depth=4, max_features=3, min_samples_leaf=2, n_estimators=200 \n",
      "[CV]  max_depth=4, max_features=3, min_samples_leaf=2, n_estimators=200, total=   0.5s\n",
      "[CV] max_depth=4, max_features=3, min_samples_leaf=2, n_estimators=200 \n",
      "[CV]  max_depth=4, max_features=3, min_samples_leaf=2, n_estimators=200, total=   0.4s\n",
      "[CV] max_depth=4, max_features=3, min_samples_leaf=2, n_estimators=500 \n",
      "[CV]  max_depth=4, max_features=3, min_samples_leaf=2, n_estimators=500, total=   0.9s\n",
      "[CV] max_depth=4, max_features=3, min_samples_leaf=2, n_estimators=500 \n",
      "[CV]  max_depth=4, max_features=3, min_samples_leaf=2, n_estimators=500, total=   0.9s\n",
      "[CV] max_depth=4, max_features=3, min_samples_leaf=2, n_estimators=500 \n",
      "[CV]  max_depth=4, max_features=3, min_samples_leaf=2, n_estimators=500, total=   0.9s\n",
      "[CV] max_depth=4, max_features=3, min_samples_leaf=2, n_estimators=500 \n",
      "[CV]  max_depth=4, max_features=3, min_samples_leaf=2, n_estimators=500, total=   0.8s\n",
      "[CV] max_depth=4, max_features=3, min_samples_leaf=2, n_estimators=500 \n",
      "[CV]  max_depth=4, max_features=3, min_samples_leaf=2, n_estimators=500, total=   1.0s\n",
      "[CV] max_depth=4, max_features=3, min_samples_leaf=2, n_estimators=1000 \n",
      "[CV]  max_depth=4, max_features=3, min_samples_leaf=2, n_estimators=1000, total=   2.2s\n",
      "[CV] max_depth=4, max_features=3, min_samples_leaf=2, n_estimators=1000 \n",
      "[CV]  max_depth=4, max_features=3, min_samples_leaf=2, n_estimators=1000, total=   1.5s\n",
      "[CV] max_depth=4, max_features=3, min_samples_leaf=2, n_estimators=1000 \n",
      "[CV]  max_depth=4, max_features=3, min_samples_leaf=2, n_estimators=1000, total=   1.7s\n",
      "[CV] max_depth=4, max_features=3, min_samples_leaf=2, n_estimators=1000 \n",
      "[CV]  max_depth=4, max_features=3, min_samples_leaf=2, n_estimators=1000, total=   2.1s\n",
      "[CV] max_depth=4, max_features=3, min_samples_leaf=2, n_estimators=1000 \n",
      "[CV]  max_depth=4, max_features=3, min_samples_leaf=2, n_estimators=1000, total=   1.9s\n",
      "[CV] max_depth=4, max_features=3, min_samples_leaf=3, n_estimators=100 \n",
      "[CV]  max_depth=4, max_features=3, min_samples_leaf=3, n_estimators=100, total=   0.2s\n",
      "[CV] max_depth=4, max_features=3, min_samples_leaf=3, n_estimators=100 \n",
      "[CV]  max_depth=4, max_features=3, min_samples_leaf=3, n_estimators=100, total=   0.2s\n",
      "[CV] max_depth=4, max_features=3, min_samples_leaf=3, n_estimators=100 \n",
      "[CV]  max_depth=4, max_features=3, min_samples_leaf=3, n_estimators=100, total=   0.2s\n",
      "[CV] max_depth=4, max_features=3, min_samples_leaf=3, n_estimators=100 \n",
      "[CV]  max_depth=4, max_features=3, min_samples_leaf=3, n_estimators=100, total=   0.2s\n",
      "[CV] max_depth=4, max_features=3, min_samples_leaf=3, n_estimators=100 \n",
      "[CV]  max_depth=4, max_features=3, min_samples_leaf=3, n_estimators=100, total=   0.2s\n",
      "[CV] max_depth=4, max_features=3, min_samples_leaf=3, n_estimators=200 \n",
      "[CV]  max_depth=4, max_features=3, min_samples_leaf=3, n_estimators=200, total=   0.4s\n",
      "[CV] max_depth=4, max_features=3, min_samples_leaf=3, n_estimators=200 \n",
      "[CV]  max_depth=4, max_features=3, min_samples_leaf=3, n_estimators=200, total=   0.8s\n",
      "[CV] max_depth=4, max_features=3, min_samples_leaf=3, n_estimators=200 \n",
      "[CV]  max_depth=4, max_features=3, min_samples_leaf=3, n_estimators=200, total=   0.4s\n",
      "[CV] max_depth=4, max_features=3, min_samples_leaf=3, n_estimators=200 \n",
      "[CV]  max_depth=4, max_features=3, min_samples_leaf=3, n_estimators=200, total=   0.6s\n",
      "[CV] max_depth=4, max_features=3, min_samples_leaf=3, n_estimators=200 \n"
     ]
    },
    {
     "name": "stdout",
     "output_type": "stream",
     "text": [
      "[CV]  max_depth=4, max_features=3, min_samples_leaf=3, n_estimators=200, total=   0.6s\n",
      "[CV] max_depth=4, max_features=3, min_samples_leaf=3, n_estimators=500 \n",
      "[CV]  max_depth=4, max_features=3, min_samples_leaf=3, n_estimators=500, total=   1.5s\n",
      "[CV] max_depth=4, max_features=3, min_samples_leaf=3, n_estimators=500 \n",
      "[CV]  max_depth=4, max_features=3, min_samples_leaf=3, n_estimators=500, total=   1.5s\n",
      "[CV] max_depth=4, max_features=3, min_samples_leaf=3, n_estimators=500 \n",
      "[CV]  max_depth=4, max_features=3, min_samples_leaf=3, n_estimators=500, total=   1.6s\n",
      "[CV] max_depth=4, max_features=3, min_samples_leaf=3, n_estimators=500 \n",
      "[CV]  max_depth=4, max_features=3, min_samples_leaf=3, n_estimators=500, total=   1.1s\n",
      "[CV] max_depth=4, max_features=3, min_samples_leaf=3, n_estimators=500 \n",
      "[CV]  max_depth=4, max_features=3, min_samples_leaf=3, n_estimators=500, total=   1.1s\n",
      "[CV] max_depth=4, max_features=3, min_samples_leaf=3, n_estimators=1000 \n",
      "[CV]  max_depth=4, max_features=3, min_samples_leaf=3, n_estimators=1000, total=   2.6s\n",
      "[CV] max_depth=4, max_features=3, min_samples_leaf=3, n_estimators=1000 \n",
      "[CV]  max_depth=4, max_features=3, min_samples_leaf=3, n_estimators=1000, total=   2.4s\n",
      "[CV] max_depth=4, max_features=3, min_samples_leaf=3, n_estimators=1000 \n",
      "[CV]  max_depth=4, max_features=3, min_samples_leaf=3, n_estimators=1000, total=   2.4s\n",
      "[CV] max_depth=4, max_features=3, min_samples_leaf=3, n_estimators=1000 \n",
      "[CV]  max_depth=4, max_features=3, min_samples_leaf=3, n_estimators=1000, total=   1.7s\n",
      "[CV] max_depth=4, max_features=3, min_samples_leaf=3, n_estimators=1000 \n",
      "[CV]  max_depth=4, max_features=3, min_samples_leaf=3, n_estimators=1000, total=   2.1s\n",
      "[CV] max_depth=4, max_features=4, min_samples_leaf=2, n_estimators=100 \n",
      "[CV]  max_depth=4, max_features=4, min_samples_leaf=2, n_estimators=100, total=   0.5s\n",
      "[CV] max_depth=4, max_features=4, min_samples_leaf=2, n_estimators=100 \n",
      "[CV]  max_depth=4, max_features=4, min_samples_leaf=2, n_estimators=100, total=   0.2s\n",
      "[CV] max_depth=4, max_features=4, min_samples_leaf=2, n_estimators=100 \n",
      "[CV]  max_depth=4, max_features=4, min_samples_leaf=2, n_estimators=100, total=   0.4s\n",
      "[CV] max_depth=4, max_features=4, min_samples_leaf=2, n_estimators=100 \n",
      "[CV]  max_depth=4, max_features=4, min_samples_leaf=2, n_estimators=100, total=   0.2s\n",
      "[CV] max_depth=4, max_features=4, min_samples_leaf=2, n_estimators=100 \n",
      "[CV]  max_depth=4, max_features=4, min_samples_leaf=2, n_estimators=100, total=   0.2s\n",
      "[CV] max_depth=4, max_features=4, min_samples_leaf=2, n_estimators=200 \n",
      "[CV]  max_depth=4, max_features=4, min_samples_leaf=2, n_estimators=200, total=   0.5s\n",
      "[CV] max_depth=4, max_features=4, min_samples_leaf=2, n_estimators=200 \n",
      "[CV]  max_depth=4, max_features=4, min_samples_leaf=2, n_estimators=200, total=   0.4s\n",
      "[CV] max_depth=4, max_features=4, min_samples_leaf=2, n_estimators=200 \n",
      "[CV]  max_depth=4, max_features=4, min_samples_leaf=2, n_estimators=200, total=   0.4s\n",
      "[CV] max_depth=4, max_features=4, min_samples_leaf=2, n_estimators=200 \n",
      "[CV]  max_depth=4, max_features=4, min_samples_leaf=2, n_estimators=200, total=   0.3s\n",
      "[CV] max_depth=4, max_features=4, min_samples_leaf=2, n_estimators=200 \n",
      "[CV]  max_depth=4, max_features=4, min_samples_leaf=2, n_estimators=200, total=   0.4s\n",
      "[CV] max_depth=4, max_features=4, min_samples_leaf=2, n_estimators=500 \n",
      "[CV]  max_depth=4, max_features=4, min_samples_leaf=2, n_estimators=500, total=   0.9s\n",
      "[CV] max_depth=4, max_features=4, min_samples_leaf=2, n_estimators=500 \n",
      "[CV]  max_depth=4, max_features=4, min_samples_leaf=2, n_estimators=500, total=   0.9s\n",
      "[CV] max_depth=4, max_features=4, min_samples_leaf=2, n_estimators=500 \n",
      "[CV]  max_depth=4, max_features=4, min_samples_leaf=2, n_estimators=500, total=   0.8s\n",
      "[CV] max_depth=4, max_features=4, min_samples_leaf=2, n_estimators=500 \n",
      "[CV]  max_depth=4, max_features=4, min_samples_leaf=2, n_estimators=500, total=   0.9s\n",
      "[CV] max_depth=4, max_features=4, min_samples_leaf=2, n_estimators=500 \n",
      "[CV]  max_depth=4, max_features=4, min_samples_leaf=2, n_estimators=500, total=   1.0s\n",
      "[CV] max_depth=4, max_features=4, min_samples_leaf=2, n_estimators=1000 \n",
      "[CV]  max_depth=4, max_features=4, min_samples_leaf=2, n_estimators=1000, total=   1.9s\n",
      "[CV] max_depth=4, max_features=4, min_samples_leaf=2, n_estimators=1000 \n",
      "[CV]  max_depth=4, max_features=4, min_samples_leaf=2, n_estimators=1000, total=   2.1s\n",
      "[CV] max_depth=4, max_features=4, min_samples_leaf=2, n_estimators=1000 \n",
      "[CV]  max_depth=4, max_features=4, min_samples_leaf=2, n_estimators=1000, total=   1.9s\n",
      "[CV] max_depth=4, max_features=4, min_samples_leaf=2, n_estimators=1000 \n",
      "[CV]  max_depth=4, max_features=4, min_samples_leaf=2, n_estimators=1000, total=   1.8s\n",
      "[CV] max_depth=4, max_features=4, min_samples_leaf=2, n_estimators=1000 \n",
      "[CV]  max_depth=4, max_features=4, min_samples_leaf=2, n_estimators=1000, total=   1.7s\n",
      "[CV] max_depth=4, max_features=4, min_samples_leaf=3, n_estimators=100 \n",
      "[CV]  max_depth=4, max_features=4, min_samples_leaf=3, n_estimators=100, total=   0.2s\n",
      "[CV] max_depth=4, max_features=4, min_samples_leaf=3, n_estimators=100 \n",
      "[CV]  max_depth=4, max_features=4, min_samples_leaf=3, n_estimators=100, total=   0.2s\n",
      "[CV] max_depth=4, max_features=4, min_samples_leaf=3, n_estimators=100 \n",
      "[CV]  max_depth=4, max_features=4, min_samples_leaf=3, n_estimators=100, total=   0.2s\n",
      "[CV] max_depth=4, max_features=4, min_samples_leaf=3, n_estimators=100 \n",
      "[CV]  max_depth=4, max_features=4, min_samples_leaf=3, n_estimators=100, total=   0.2s\n",
      "[CV] max_depth=4, max_features=4, min_samples_leaf=3, n_estimators=100 \n",
      "[CV]  max_depth=4, max_features=4, min_samples_leaf=3, n_estimators=100, total=   0.2s\n",
      "[CV] max_depth=4, max_features=4, min_samples_leaf=3, n_estimators=200 \n",
      "[CV]  max_depth=4, max_features=4, min_samples_leaf=3, n_estimators=200, total=   0.3s\n",
      "[CV] max_depth=4, max_features=4, min_samples_leaf=3, n_estimators=200 \n",
      "[CV]  max_depth=4, max_features=4, min_samples_leaf=3, n_estimators=200, total=   0.4s\n",
      "[CV] max_depth=4, max_features=4, min_samples_leaf=3, n_estimators=200 \n",
      "[CV]  max_depth=4, max_features=4, min_samples_leaf=3, n_estimators=200, total=   0.3s\n",
      "[CV] max_depth=4, max_features=4, min_samples_leaf=3, n_estimators=200 \n",
      "[CV]  max_depth=4, max_features=4, min_samples_leaf=3, n_estimators=200, total=   0.3s\n",
      "[CV] max_depth=4, max_features=4, min_samples_leaf=3, n_estimators=200 \n",
      "[CV]  max_depth=4, max_features=4, min_samples_leaf=3, n_estimators=200, total=   0.4s\n",
      "[CV] max_depth=4, max_features=4, min_samples_leaf=3, n_estimators=500 \n",
      "[CV]  max_depth=4, max_features=4, min_samples_leaf=3, n_estimators=500, total=   0.9s\n",
      "[CV] max_depth=4, max_features=4, min_samples_leaf=3, n_estimators=500 \n",
      "[CV]  max_depth=4, max_features=4, min_samples_leaf=3, n_estimators=500, total=   0.9s\n",
      "[CV] max_depth=4, max_features=4, min_samples_leaf=3, n_estimators=500 \n",
      "[CV]  max_depth=4, max_features=4, min_samples_leaf=3, n_estimators=500, total=   0.8s\n",
      "[CV] max_depth=4, max_features=4, min_samples_leaf=3, n_estimators=500 \n",
      "[CV]  max_depth=4, max_features=4, min_samples_leaf=3, n_estimators=500, total=   0.8s\n",
      "[CV] max_depth=4, max_features=4, min_samples_leaf=3, n_estimators=500 \n",
      "[CV]  max_depth=4, max_features=4, min_samples_leaf=3, n_estimators=500, total=   0.8s\n",
      "[CV] max_depth=4, max_features=4, min_samples_leaf=3, n_estimators=1000 \n",
      "[CV]  max_depth=4, max_features=4, min_samples_leaf=3, n_estimators=1000, total=   1.7s\n",
      "[CV] max_depth=4, max_features=4, min_samples_leaf=3, n_estimators=1000 \n",
      "[CV]  max_depth=4, max_features=4, min_samples_leaf=3, n_estimators=1000, total=   1.6s\n",
      "[CV] max_depth=4, max_features=4, min_samples_leaf=3, n_estimators=1000 \n",
      "[CV]  max_depth=4, max_features=4, min_samples_leaf=3, n_estimators=1000, total=   1.7s\n",
      "[CV] max_depth=4, max_features=4, min_samples_leaf=3, n_estimators=1000 \n",
      "[CV]  max_depth=4, max_features=4, min_samples_leaf=3, n_estimators=1000, total=   1.7s\n",
      "[CV] max_depth=4, max_features=4, min_samples_leaf=3, n_estimators=1000 \n",
      "[CV]  max_depth=4, max_features=4, min_samples_leaf=3, n_estimators=1000, total=   1.8s\n",
      "[CV] max_depth=4, max_features=5, min_samples_leaf=2, n_estimators=100 \n",
      "[CV]  max_depth=4, max_features=5, min_samples_leaf=2, n_estimators=100, total=   0.2s\n",
      "[CV] max_depth=4, max_features=5, min_samples_leaf=2, n_estimators=100 \n"
     ]
    },
    {
     "name": "stdout",
     "output_type": "stream",
     "text": [
      "[CV]  max_depth=4, max_features=5, min_samples_leaf=2, n_estimators=100, total=   0.2s\n",
      "[CV] max_depth=4, max_features=5, min_samples_leaf=2, n_estimators=100 \n",
      "[CV]  max_depth=4, max_features=5, min_samples_leaf=2, n_estimators=100, total=   0.2s\n",
      "[CV] max_depth=4, max_features=5, min_samples_leaf=2, n_estimators=100 \n",
      "[CV]  max_depth=4, max_features=5, min_samples_leaf=2, n_estimators=100, total=   0.2s\n",
      "[CV] max_depth=4, max_features=5, min_samples_leaf=2, n_estimators=100 \n",
      "[CV]  max_depth=4, max_features=5, min_samples_leaf=2, n_estimators=100, total=   0.2s\n",
      "[CV] max_depth=4, max_features=5, min_samples_leaf=2, n_estimators=200 \n",
      "[CV]  max_depth=4, max_features=5, min_samples_leaf=2, n_estimators=200, total=   0.4s\n",
      "[CV] max_depth=4, max_features=5, min_samples_leaf=2, n_estimators=200 \n",
      "[CV]  max_depth=4, max_features=5, min_samples_leaf=2, n_estimators=200, total=   0.3s\n",
      "[CV] max_depth=4, max_features=5, min_samples_leaf=2, n_estimators=200 \n",
      "[CV]  max_depth=4, max_features=5, min_samples_leaf=2, n_estimators=200, total=   0.4s\n",
      "[CV] max_depth=4, max_features=5, min_samples_leaf=2, n_estimators=200 \n",
      "[CV]  max_depth=4, max_features=5, min_samples_leaf=2, n_estimators=200, total=   0.3s\n",
      "[CV] max_depth=4, max_features=5, min_samples_leaf=2, n_estimators=200 \n",
      "[CV]  max_depth=4, max_features=5, min_samples_leaf=2, n_estimators=200, total=   0.3s\n",
      "[CV] max_depth=4, max_features=5, min_samples_leaf=2, n_estimators=500 \n",
      "[CV]  max_depth=4, max_features=5, min_samples_leaf=2, n_estimators=500, total=   0.9s\n",
      "[CV] max_depth=4, max_features=5, min_samples_leaf=2, n_estimators=500 \n",
      "[CV]  max_depth=4, max_features=5, min_samples_leaf=2, n_estimators=500, total=   1.0s\n",
      "[CV] max_depth=4, max_features=5, min_samples_leaf=2, n_estimators=500 \n",
      "[CV]  max_depth=4, max_features=5, min_samples_leaf=2, n_estimators=500, total=   0.9s\n",
      "[CV] max_depth=4, max_features=5, min_samples_leaf=2, n_estimators=500 \n",
      "[CV]  max_depth=4, max_features=5, min_samples_leaf=2, n_estimators=500, total=   1.0s\n",
      "[CV] max_depth=4, max_features=5, min_samples_leaf=2, n_estimators=500 \n",
      "[CV]  max_depth=4, max_features=5, min_samples_leaf=2, n_estimators=500, total=   1.2s\n",
      "[CV] max_depth=4, max_features=5, min_samples_leaf=2, n_estimators=1000 \n",
      "[CV]  max_depth=4, max_features=5, min_samples_leaf=2, n_estimators=1000, total=   2.0s\n",
      "[CV] max_depth=4, max_features=5, min_samples_leaf=2, n_estimators=1000 \n",
      "[CV]  max_depth=4, max_features=5, min_samples_leaf=2, n_estimators=1000, total=   2.0s\n",
      "[CV] max_depth=4, max_features=5, min_samples_leaf=2, n_estimators=1000 \n",
      "[CV]  max_depth=4, max_features=5, min_samples_leaf=2, n_estimators=1000, total=   2.1s\n",
      "[CV] max_depth=4, max_features=5, min_samples_leaf=2, n_estimators=1000 \n",
      "[CV]  max_depth=4, max_features=5, min_samples_leaf=2, n_estimators=1000, total=   2.1s\n",
      "[CV] max_depth=4, max_features=5, min_samples_leaf=2, n_estimators=1000 \n",
      "[CV]  max_depth=4, max_features=5, min_samples_leaf=2, n_estimators=1000, total=   2.1s\n",
      "[CV] max_depth=4, max_features=5, min_samples_leaf=3, n_estimators=100 \n",
      "[CV]  max_depth=4, max_features=5, min_samples_leaf=3, n_estimators=100, total=   0.2s\n",
      "[CV] max_depth=4, max_features=5, min_samples_leaf=3, n_estimators=100 \n",
      "[CV]  max_depth=4, max_features=5, min_samples_leaf=3, n_estimators=100, total=   0.2s\n",
      "[CV] max_depth=4, max_features=5, min_samples_leaf=3, n_estimators=100 \n",
      "[CV]  max_depth=4, max_features=5, min_samples_leaf=3, n_estimators=100, total=   0.2s\n",
      "[CV] max_depth=4, max_features=5, min_samples_leaf=3, n_estimators=100 \n",
      "[CV]  max_depth=4, max_features=5, min_samples_leaf=3, n_estimators=100, total=   0.2s\n",
      "[CV] max_depth=4, max_features=5, min_samples_leaf=3, n_estimators=100 \n",
      "[CV]  max_depth=4, max_features=5, min_samples_leaf=3, n_estimators=100, total=   0.2s\n",
      "[CV] max_depth=4, max_features=5, min_samples_leaf=3, n_estimators=200 \n",
      "[CV]  max_depth=4, max_features=5, min_samples_leaf=3, n_estimators=200, total=   0.5s\n",
      "[CV] max_depth=4, max_features=5, min_samples_leaf=3, n_estimators=200 \n",
      "[CV]  max_depth=4, max_features=5, min_samples_leaf=3, n_estimators=200, total=   0.4s\n",
      "[CV] max_depth=4, max_features=5, min_samples_leaf=3, n_estimators=200 \n",
      "[CV]  max_depth=4, max_features=5, min_samples_leaf=3, n_estimators=200, total=   0.3s\n",
      "[CV] max_depth=4, max_features=5, min_samples_leaf=3, n_estimators=200 \n",
      "[CV]  max_depth=4, max_features=5, min_samples_leaf=3, n_estimators=200, total=   0.4s\n",
      "[CV] max_depth=4, max_features=5, min_samples_leaf=3, n_estimators=200 \n",
      "[CV]  max_depth=4, max_features=5, min_samples_leaf=3, n_estimators=200, total=   0.4s\n",
      "[CV] max_depth=4, max_features=5, min_samples_leaf=3, n_estimators=500 \n",
      "[CV]  max_depth=4, max_features=5, min_samples_leaf=3, n_estimators=500, total=   0.9s\n",
      "[CV] max_depth=4, max_features=5, min_samples_leaf=3, n_estimators=500 \n",
      "[CV]  max_depth=4, max_features=5, min_samples_leaf=3, n_estimators=500, total=   1.0s\n",
      "[CV] max_depth=4, max_features=5, min_samples_leaf=3, n_estimators=500 \n",
      "[CV]  max_depth=4, max_features=5, min_samples_leaf=3, n_estimators=500, total=   0.8s\n",
      "[CV] max_depth=4, max_features=5, min_samples_leaf=3, n_estimators=500 \n",
      "[CV]  max_depth=4, max_features=5, min_samples_leaf=3, n_estimators=500, total=   0.9s\n",
      "[CV] max_depth=4, max_features=5, min_samples_leaf=3, n_estimators=500 \n",
      "[CV]  max_depth=4, max_features=5, min_samples_leaf=3, n_estimators=500, total=   0.9s\n",
      "[CV] max_depth=4, max_features=5, min_samples_leaf=3, n_estimators=1000 \n",
      "[CV]  max_depth=4, max_features=5, min_samples_leaf=3, n_estimators=1000, total=   1.7s\n",
      "[CV] max_depth=4, max_features=5, min_samples_leaf=3, n_estimators=1000 \n",
      "[CV]  max_depth=4, max_features=5, min_samples_leaf=3, n_estimators=1000, total=   1.8s\n",
      "[CV] max_depth=4, max_features=5, min_samples_leaf=3, n_estimators=1000 \n",
      "[CV]  max_depth=4, max_features=5, min_samples_leaf=3, n_estimators=1000, total=   1.6s\n",
      "[CV] max_depth=4, max_features=5, min_samples_leaf=3, n_estimators=1000 \n",
      "[CV]  max_depth=4, max_features=5, min_samples_leaf=3, n_estimators=1000, total=   1.6s\n",
      "[CV] max_depth=4, max_features=5, min_samples_leaf=3, n_estimators=1000 \n",
      "[CV]  max_depth=4, max_features=5, min_samples_leaf=3, n_estimators=1000, total=   1.7s\n",
      "[CV] max_depth=4, max_features=6, min_samples_leaf=2, n_estimators=100 \n",
      "[CV]  max_depth=4, max_features=6, min_samples_leaf=2, n_estimators=100, total=   0.2s\n",
      "[CV] max_depth=4, max_features=6, min_samples_leaf=2, n_estimators=100 \n",
      "[CV]  max_depth=4, max_features=6, min_samples_leaf=2, n_estimators=100, total=   0.2s\n",
      "[CV] max_depth=4, max_features=6, min_samples_leaf=2, n_estimators=100 \n",
      "[CV]  max_depth=4, max_features=6, min_samples_leaf=2, n_estimators=100, total=   0.2s\n",
      "[CV] max_depth=4, max_features=6, min_samples_leaf=2, n_estimators=100 \n",
      "[CV]  max_depth=4, max_features=6, min_samples_leaf=2, n_estimators=100, total=   0.2s\n",
      "[CV] max_depth=4, max_features=6, min_samples_leaf=2, n_estimators=100 \n",
      "[CV]  max_depth=4, max_features=6, min_samples_leaf=2, n_estimators=100, total=   0.2s\n",
      "[CV] max_depth=4, max_features=6, min_samples_leaf=2, n_estimators=200 \n",
      "[CV]  max_depth=4, max_features=6, min_samples_leaf=2, n_estimators=200, total=   0.4s\n",
      "[CV] max_depth=4, max_features=6, min_samples_leaf=2, n_estimators=200 \n",
      "[CV]  max_depth=4, max_features=6, min_samples_leaf=2, n_estimators=200, total=   0.4s\n",
      "[CV] max_depth=4, max_features=6, min_samples_leaf=2, n_estimators=200 \n",
      "[CV]  max_depth=4, max_features=6, min_samples_leaf=2, n_estimators=200, total=   0.4s\n",
      "[CV] max_depth=4, max_features=6, min_samples_leaf=2, n_estimators=200 \n",
      "[CV]  max_depth=4, max_features=6, min_samples_leaf=2, n_estimators=200, total=   0.4s\n",
      "[CV] max_depth=4, max_features=6, min_samples_leaf=2, n_estimators=200 \n",
      "[CV]  max_depth=4, max_features=6, min_samples_leaf=2, n_estimators=200, total=   0.4s\n",
      "[CV] max_depth=4, max_features=6, min_samples_leaf=2, n_estimators=500 \n",
      "[CV]  max_depth=4, max_features=6, min_samples_leaf=2, n_estimators=500, total=   0.9s\n",
      "[CV] max_depth=4, max_features=6, min_samples_leaf=2, n_estimators=500 \n",
      "[CV]  max_depth=4, max_features=6, min_samples_leaf=2, n_estimators=500, total=   0.9s\n",
      "[CV] max_depth=4, max_features=6, min_samples_leaf=2, n_estimators=500 \n",
      "[CV]  max_depth=4, max_features=6, min_samples_leaf=2, n_estimators=500, total=   0.9s\n",
      "[CV] max_depth=4, max_features=6, min_samples_leaf=2, n_estimators=500 \n"
     ]
    },
    {
     "name": "stdout",
     "output_type": "stream",
     "text": [
      "[CV]  max_depth=4, max_features=6, min_samples_leaf=2, n_estimators=500, total=   0.9s\n",
      "[CV] max_depth=4, max_features=6, min_samples_leaf=2, n_estimators=500 \n",
      "[CV]  max_depth=4, max_features=6, min_samples_leaf=2, n_estimators=500, total=   1.3s\n",
      "[CV] max_depth=4, max_features=6, min_samples_leaf=2, n_estimators=1000 \n",
      "[CV]  max_depth=4, max_features=6, min_samples_leaf=2, n_estimators=1000, total=   2.2s\n",
      "[CV] max_depth=4, max_features=6, min_samples_leaf=2, n_estimators=1000 \n",
      "[CV]  max_depth=4, max_features=6, min_samples_leaf=2, n_estimators=1000, total=   2.2s\n",
      "[CV] max_depth=4, max_features=6, min_samples_leaf=2, n_estimators=1000 \n",
      "[CV]  max_depth=4, max_features=6, min_samples_leaf=2, n_estimators=1000, total=   2.6s\n",
      "[CV] max_depth=4, max_features=6, min_samples_leaf=2, n_estimators=1000 \n",
      "[CV]  max_depth=4, max_features=6, min_samples_leaf=2, n_estimators=1000, total=   3.0s\n",
      "[CV] max_depth=4, max_features=6, min_samples_leaf=2, n_estimators=1000 \n",
      "[CV]  max_depth=4, max_features=6, min_samples_leaf=2, n_estimators=1000, total=   2.5s\n",
      "[CV] max_depth=4, max_features=6, min_samples_leaf=3, n_estimators=100 \n",
      "[CV]  max_depth=4, max_features=6, min_samples_leaf=3, n_estimators=100, total=   0.3s\n",
      "[CV] max_depth=4, max_features=6, min_samples_leaf=3, n_estimators=100 \n",
      "[CV]  max_depth=4, max_features=6, min_samples_leaf=3, n_estimators=100, total=   0.3s\n",
      "[CV] max_depth=4, max_features=6, min_samples_leaf=3, n_estimators=100 \n",
      "[CV]  max_depth=4, max_features=6, min_samples_leaf=3, n_estimators=100, total=   0.2s\n",
      "[CV] max_depth=4, max_features=6, min_samples_leaf=3, n_estimators=100 \n",
      "[CV]  max_depth=4, max_features=6, min_samples_leaf=3, n_estimators=100, total=   0.2s\n",
      "[CV] max_depth=4, max_features=6, min_samples_leaf=3, n_estimators=100 \n",
      "[CV]  max_depth=4, max_features=6, min_samples_leaf=3, n_estimators=100, total=   0.2s\n",
      "[CV] max_depth=4, max_features=6, min_samples_leaf=3, n_estimators=200 \n",
      "[CV]  max_depth=4, max_features=6, min_samples_leaf=3, n_estimators=200, total=   0.5s\n",
      "[CV] max_depth=4, max_features=6, min_samples_leaf=3, n_estimators=200 \n",
      "[CV]  max_depth=4, max_features=6, min_samples_leaf=3, n_estimators=200, total=   0.7s\n",
      "[CV] max_depth=4, max_features=6, min_samples_leaf=3, n_estimators=200 \n",
      "[CV]  max_depth=4, max_features=6, min_samples_leaf=3, n_estimators=200, total=   0.5s\n",
      "[CV] max_depth=4, max_features=6, min_samples_leaf=3, n_estimators=200 \n",
      "[CV]  max_depth=4, max_features=6, min_samples_leaf=3, n_estimators=200, total=   0.6s\n",
      "[CV] max_depth=4, max_features=6, min_samples_leaf=3, n_estimators=200 \n",
      "[CV]  max_depth=4, max_features=6, min_samples_leaf=3, n_estimators=200, total=   0.6s\n",
      "[CV] max_depth=4, max_features=6, min_samples_leaf=3, n_estimators=500 \n",
      "[CV]  max_depth=4, max_features=6, min_samples_leaf=3, n_estimators=500, total=   1.4s\n",
      "[CV] max_depth=4, max_features=6, min_samples_leaf=3, n_estimators=500 \n",
      "[CV]  max_depth=4, max_features=6, min_samples_leaf=3, n_estimators=500, total=   1.1s\n",
      "[CV] max_depth=4, max_features=6, min_samples_leaf=3, n_estimators=500 \n",
      "[CV]  max_depth=4, max_features=6, min_samples_leaf=3, n_estimators=500, total=   1.0s\n",
      "[CV] max_depth=4, max_features=6, min_samples_leaf=3, n_estimators=500 \n",
      "[CV]  max_depth=4, max_features=6, min_samples_leaf=3, n_estimators=500, total=   1.0s\n",
      "[CV] max_depth=4, max_features=6, min_samples_leaf=3, n_estimators=500 \n",
      "[CV]  max_depth=4, max_features=6, min_samples_leaf=3, n_estimators=500, total=   0.8s\n",
      "[CV] max_depth=4, max_features=6, min_samples_leaf=3, n_estimators=1000 \n",
      "[CV]  max_depth=4, max_features=6, min_samples_leaf=3, n_estimators=1000, total=   1.7s\n",
      "[CV] max_depth=4, max_features=6, min_samples_leaf=3, n_estimators=1000 \n",
      "[CV]  max_depth=4, max_features=6, min_samples_leaf=3, n_estimators=1000, total=   1.9s\n",
      "[CV] max_depth=4, max_features=6, min_samples_leaf=3, n_estimators=1000 \n",
      "[CV]  max_depth=4, max_features=6, min_samples_leaf=3, n_estimators=1000, total=   1.6s\n",
      "[CV] max_depth=4, max_features=6, min_samples_leaf=3, n_estimators=1000 \n",
      "[CV]  max_depth=4, max_features=6, min_samples_leaf=3, n_estimators=1000, total=   2.0s\n",
      "[CV] max_depth=4, max_features=6, min_samples_leaf=3, n_estimators=1000 \n",
      "[CV]  max_depth=4, max_features=6, min_samples_leaf=3, n_estimators=1000, total=   1.9s\n"
     ]
    },
    {
     "name": "stderr",
     "output_type": "stream",
     "text": [
      "[Parallel(n_jobs=1)]: Done 600 out of 600 | elapsed:  8.4min finished\n"
     ]
    },
    {
     "name": "stdout",
     "output_type": "stream",
     "text": [
      "RandomForestClassifier(max_depth=4, max_features=6, min_samples_leaf=3,\n",
      "                       n_estimators=200)\n",
      "{'max_depth': 4, 'max_features': 6, 'min_samples_leaf': 3, 'n_estimators': 200}\n"
     ]
    }
   ],
   "source": [
    "#Clearly overfits. So we will try to tune the hyperparameters\n",
    "\n",
    "param_grid = {'n_estimators':[100,200,500,1000],'max_features':[2,3,4,5,6],'max_depth':[2,3,4],'min_samples_leaf':[2,3]}\n",
    "\n",
    "grid = GridSearchCV(forest,param_grid,refit=True,verbose=2,scoring = \"f1_weighted\")\n",
    "grid.fit(X_train,y_train)\n",
    "print(grid.best_estimator_)\n",
    "print(grid.best_params_)"
   ]
  },
  {
   "cell_type": "code",
   "execution_count": 94,
   "metadata": {
    "colab": {},
    "colab_type": "code",
    "id": "4n3IAaqMU9od"
   },
   "outputs": [],
   "source": [
    "rf = RandomForestClassifier(max_depth=4,max_features=5,n_estimators=100,min_samples_leaf=3)"
   ]
  },
  {
   "cell_type": "code",
   "execution_count": 95,
   "metadata": {
    "colab": {
     "base_uri": "https://localhost:8080/",
     "height": 153
    },
    "colab_type": "code",
    "id": "D0BNg4oYZztk",
    "outputId": "40d33d82-f660-4ea1-95bd-f4a48393389c"
   },
   "outputs": [
    {
     "data": {
      "text/plain": [
       "RandomForestClassifier(max_depth=4, max_features=5, min_samples_leaf=3)"
      ]
     },
     "execution_count": 95,
     "metadata": {},
     "output_type": "execute_result"
    }
   ],
   "source": [
    "rf.fit(X_train,y_train)"
   ]
  },
  {
   "cell_type": "code",
   "execution_count": 96,
   "metadata": {
    "colab": {},
    "colab_type": "code",
    "id": "8fPmYUK7Z2wS"
   },
   "outputs": [],
   "source": [
    "pred_train = rf.predict(X_train)\n",
    "pred_test = rf.predict(X_test)"
   ]
  },
  {
   "cell_type": "code",
   "execution_count": 97,
   "metadata": {
    "colab": {
     "base_uri": "https://localhost:8080/",
     "height": 374
    },
    "colab_type": "code",
    "id": "YmCBitn5Z-rF",
    "outputId": "7b10fab5-9ee6-4d6d-bf5f-4f33b68b804f"
   },
   "outputs": [
    {
     "name": "stdout",
     "output_type": "stream",
     "text": [
      "=====Accuracy score============\n",
      "\n",
      "Train accuracy score : 0.8368\n",
      "Test accuracy score : 0.8520\n",
      "\n",
      "=====Confusion Matrix==========\n",
      " \n",
      "[[128  11]\n",
      " [ 22  62]]\n",
      "\n",
      "=====Classification report=====\n",
      "\n",
      "              precision    recall  f1-score   support\n",
      "\n",
      "           0       0.85      0.92      0.89       139\n",
      "           1       0.85      0.74      0.79        84\n",
      "\n",
      "    accuracy                           0.85       223\n",
      "   macro avg       0.85      0.83      0.84       223\n",
      "weighted avg       0.85      0.85      0.85       223\n",
      "\n"
     ]
    }
   ],
   "source": [
    "print(\"=====Accuracy score============\\n\")\n",
    "print(\"Train accuracy score : {:.4f}\".format(accuracy_score(y_train,pred_train)))\n",
    "print(\"Test accuracy score : {:.4f}\".format(accuracy_score(y_test,pred_test)))\n",
    "print(\"\\n=====Confusion Matrix==========\\n \")\n",
    "print(confusion_matrix(y_test,pred_test))\n",
    "print(\"\\n=====Classification report=====\\n\")\n",
    "print(classification_report(y_test,pred_test))"
   ]
  },
  {
   "cell_type": "code",
   "execution_count": 98,
   "metadata": {
    "colab": {
     "base_uri": "https://localhost:8080/",
     "height": 334
    },
    "colab_type": "code",
    "id": "668Zzmb7cujy",
    "outputId": "5cc9a889-c112-4ebd-872a-b77a350fe6b7"
   },
   "outputs": [
    {
     "data": {
      "image/png": "[encoded data removed]",
      "text/plain": [
       "<Figure size 576x360 with 2 Axes>"
      ]
     },
     "metadata": {
      "needs_background": "light"
     },
     "output_type": "display_data"
    }
   ],
   "source": [
    "plot_confusion_matrix(rf,X_test,y_test,values_format='d',cmap = 'Blues')\n",
    "plt.show()"
   ]
  },
  {
   "cell_type": "code",
   "execution_count": 99,
   "metadata": {
    "colab": {},
    "colab_type": "code",
    "id": "gq16otUuaDwo"
   },
   "outputs": [],
   "source": [
    "probs = rf.predict_proba(X_test)[:,1]"
   ]
  },
  {
   "cell_type": "code",
   "execution_count": 100,
   "metadata": {
    "colab": {
     "base_uri": "https://localhost:8080/",
     "height": 350
    },
    "colab_type": "code",
    "id": "2wXQoLDpaVpz",
    "outputId": "656c79d9-63f9-496a-ea8d-4ff45e225cff"
   },
   "outputs": [
    {
     "data": {
      "image/png": "[encoded data removed]",
      "text/plain": [
       "<Figure size 576x360 with 1 Axes>"
      ]
     },
     "metadata": {
      "needs_background": "light"
     },
     "output_type": "display_data"
    }
   ],
   "source": [
    "fpr,tpr,thresholds = roc_curve(y_test,probs)\n",
    "\n",
    "plt.plot(fpr,tpr,linewidth = 4)\n",
    "plt.plot([0,1],[0,1],linewidth = 4)\n",
    "plt.title(\"ROC curve for Random Forest\")\n",
    "plt.xlabel(\"FPR\")\n",
    "plt.ylabel(\"TPR\")\n",
    "plt.show()"
   ]
  },
  {
   "cell_type": "code",
   "execution_count": 101,
   "metadata": {
    "colab": {
     "base_uri": "https://localhost:8080/",
     "height": 34
    },
    "colab_type": "code",
    "id": "gpaWn4BbamEY",
    "outputId": "9a426cc3-081a-4711-8f7e-84c755e7b5c6"
   },
   "outputs": [
    {
     "name": "stdout",
     "output_type": "stream",
     "text": [
      "ROC AUC score : 0.881\n"
     ]
    }
   ],
   "source": [
    "score = roc_auc_score(y_test,probs)\n",
    "print(\"ROC AUC score : {}\".format(round(score,4)))"
   ]
  },
  {
   "cell_type": "code",
   "execution_count": 102,
   "metadata": {
    "colab": {
     "base_uri": "https://localhost:8080/",
     "height": 350
    },
    "colab_type": "code",
    "id": "rpOquSKdbx6i",
    "outputId": "8de2a9f3-e3f1-4101-8038-b29bfaba15aa"
   },
   "outputs": [
    {
     "data": {
      "image/png": "[encoded data removed]",
      "text/plain": [
       "<Figure size 576x360 with 1 Axes>"
      ]
     },
     "metadata": {
      "needs_background": "light"
     },
     "output_type": "display_data"
    }
   ],
   "source": [
    "#Learning curve\n",
    "lc = learning_curve(rf,X_train,y_train)\n",
    "\n",
    "train_scores_mean = np.mean(lc[1],axis = 1)\n",
    "test_scores_mean = np.mean(lc[2],axis = 1)\n",
    "\n",
    "plt.plot(lc[0],train_scores_mean,marker = 'D',linewidth = 4,color = '#C70E41')\n",
    "plt.plot(lc[0],test_scores_mean,marker = 'D',linewidth = 4,color = '#204FD1')\n",
    "plt.legend(['Train scores','Cross validated scores'])\n",
    "plt.title(\"Learning curve - Random Forest\")\n",
    "plt.xlabel(\"Training examples\")\n",
    "plt.ylabel(\"Scores\")\n",
    "plt.grid()\n",
    "plt.show()"
   ]
  },
  {
   "cell_type": "markdown",
   "metadata": {
    "colab_type": "text",
    "id": "Vrk_M2QYGmsW"
   },
   "source": [
    "# Pipeline for modeling"
   ]
  },
  {
   "cell_type": "code",
   "execution_count": 74,
   "metadata": {
    "colab": {},
    "colab_type": "code",
    "id": "8ASk5FRSXy5j"
   },
   "outputs": [],
   "source": [
    "passender_id = test_df['PassengerId']"
   ]
  },
  {
   "cell_type": "code",
   "execution_count": 75,
   "metadata": {
    "colab": {},
    "colab_type": "code",
    "id": "-cQiglUiGlSZ"
   },
   "outputs": [],
   "source": [
    "def create_new_features(dataframe):\n",
    "  dataframe['family_size'] = dataframe['SibSp']+dataframe['Parch']\n",
    "  dataframe['title'] = dataframe['Name'].apply(lambda x: find_substrings(x,titles_list))\n",
    "  dataframe['title'] = dataframe.apply(replace_title,axis = 1)\n",
    "\n",
    "  return dataframe\n"
   ]
  },
  {
   "cell_type": "code",
   "execution_count": 76,
   "metadata": {
    "colab": {},
    "colab_type": "code",
    "id": "7NOkEaRSGlDj"
   },
   "outputs": [],
   "source": [
    "def preprocessing(dataframe):\n",
    "  global mean_age_0\n",
    "  global mean_age_1\n",
    "  global mean_age_2\n",
    "  global mean_age_3\n",
    "  dataframe.drop(columns = ['Name','PassengerId','Ticket','Cabin'],inplace = True)\n",
    "  dataframe['Sex'] = dataframe['Sex'].map(sex_dict)\n",
    "  dataframe['Embarked'] = dataframe['Embarked'].map(embark_dict)\n",
    "  dataframe['title'] = dataframe['title'].map(title_dict)\n",
    "  dataframe.loc[dataframe['title']==0,'Age'] = dataframe.loc[dataframe['title']==0,'Age'].fillna(mean_age_0)\n",
    "  dataframe.loc[dataframe['title']==1,'Age'] = dataframe.loc[dataframe['title']==1,'Age'].fillna(mean_age_1)\n",
    "  dataframe.loc[dataframe['title']==2,'Age'] = dataframe.loc[dataframe['title']==2,'Age'].fillna(mean_age_2)\n",
    "  dataframe.loc[dataframe['title']==3,'Age'] = dataframe.loc[dataframe['title']==3,'Age'].fillna(mean_age_3)\n",
    "  \n",
    "\n",
    "  dataframe['Fare'].fillna(dataframe['Fare'].mean(),inplace = True)\n",
    "\n",
    "  return dataframe"
   ]
  },
  {
   "cell_type": "code",
   "execution_count": 77,
   "metadata": {
    "colab": {},
    "colab_type": "code",
    "id": "NT6WsBaJGk2R"
   },
   "outputs": [],
   "source": [
    "from sklearn.preprocessing import FunctionTransformer\n",
    "transformer = FunctionTransformer(create_new_features)\n",
    "t = FunctionTransformer(preprocessing)\n"
   ]
  },
  {
   "cell_type": "code",
   "execution_count": 78,
   "metadata": {
    "colab": {
     "base_uri": "https://localhost:8080/",
     "height": 419
    },
    "colab_type": "code",
    "id": "ygvzLDDFJyMn",
    "outputId": "97aee6be-b702-4df7-d508-70fc8186dcdf"
   },
   "outputs": [
    {
     "data": {
      "text/html": [
       "<div>\n",
       "<style scoped>\n",
       "    .dataframe tbody tr th:only-of-type {\n",
       "        vertical-align: middle;\n",
       "    }\n",
       "\n",
       "    .dataframe tbody tr th {\n",
       "        vertical-align: top;\n",
       "    }\n",
       "\n",
       "    .dataframe thead th {\n",
       "        text-align: right;\n",
       "    }\n",
       "</style>\n",
       "<table border=\"1\" class=\"dataframe\">\n",
       "  <thead>\n",
       "    <tr style=\"text-align: right;\">\n",
       "      <th></th>\n",
       "      <th>Pclass</th>\n",
       "      <th>Sex</th>\n",
       "      <th>Age</th>\n",
       "      <th>SibSp</th>\n",
       "      <th>Parch</th>\n",
       "      <th>Fare</th>\n",
       "      <th>Embarked</th>\n",
       "      <th>family_size</th>\n",
       "      <th>title</th>\n",
       "    </tr>\n",
       "  </thead>\n",
       "  <tbody>\n",
       "    <tr>\n",
       "      <th>0</th>\n",
       "      <td>3</td>\n",
       "      <td>0</td>\n",
       "      <td>34.500000</td>\n",
       "      <td>0</td>\n",
       "      <td>0</td>\n",
       "      <td>7.8292</td>\n",
       "      <td>1</td>\n",
       "      <td>0</td>\n",
       "      <td>0</td>\n",
       "    </tr>\n",
       "    <tr>\n",
       "      <th>1</th>\n",
       "      <td>3</td>\n",
       "      <td>1</td>\n",
       "      <td>47.000000</td>\n",
       "      <td>1</td>\n",
       "      <td>0</td>\n",
       "      <td>7.0000</td>\n",
       "      <td>2</td>\n",
       "      <td>1</td>\n",
       "      <td>1</td>\n",
       "    </tr>\n",
       "    <tr>\n",
       "      <th>2</th>\n",
       "      <td>2</td>\n",
       "      <td>0</td>\n",
       "      <td>62.000000</td>\n",
       "      <td>0</td>\n",
       "      <td>0</td>\n",
       "      <td>9.6875</td>\n",
       "      <td>1</td>\n",
       "      <td>0</td>\n",
       "      <td>0</td>\n",
       "    </tr>\n",
       "    <tr>\n",
       "      <th>3</th>\n",
       "      <td>3</td>\n",
       "      <td>0</td>\n",
       "      <td>27.000000</td>\n",
       "      <td>0</td>\n",
       "      <td>0</td>\n",
       "      <td>8.6625</td>\n",
       "      <td>2</td>\n",
       "      <td>0</td>\n",
       "      <td>0</td>\n",
       "    </tr>\n",
       "    <tr>\n",
       "      <th>4</th>\n",
       "      <td>3</td>\n",
       "      <td>1</td>\n",
       "      <td>22.000000</td>\n",
       "      <td>1</td>\n",
       "      <td>1</td>\n",
       "      <td>12.2875</td>\n",
       "      <td>2</td>\n",
       "      <td>2</td>\n",
       "      <td>1</td>\n",
       "    </tr>\n",
       "    <tr>\n",
       "      <th>...</th>\n",
       "      <td>...</td>\n",
       "      <td>...</td>\n",
       "      <td>...</td>\n",
       "      <td>...</td>\n",
       "      <td>...</td>\n",
       "      <td>...</td>\n",
       "      <td>...</td>\n",
       "      <td>...</td>\n",
       "      <td>...</td>\n",
       "    </tr>\n",
       "    <tr>\n",
       "      <th>413</th>\n",
       "      <td>3</td>\n",
       "      <td>0</td>\n",
       "      <td>32.891990</td>\n",
       "      <td>0</td>\n",
       "      <td>0</td>\n",
       "      <td>8.0500</td>\n",
       "      <td>2</td>\n",
       "      <td>0</td>\n",
       "      <td>0</td>\n",
       "    </tr>\n",
       "    <tr>\n",
       "      <th>414</th>\n",
       "      <td>1</td>\n",
       "      <td>1</td>\n",
       "      <td>39.000000</td>\n",
       "      <td>0</td>\n",
       "      <td>0</td>\n",
       "      <td>108.9000</td>\n",
       "      <td>0</td>\n",
       "      <td>0</td>\n",
       "      <td>0</td>\n",
       "    </tr>\n",
       "    <tr>\n",
       "      <th>415</th>\n",
       "      <td>3</td>\n",
       "      <td>0</td>\n",
       "      <td>38.500000</td>\n",
       "      <td>0</td>\n",
       "      <td>0</td>\n",
       "      <td>7.2500</td>\n",
       "      <td>2</td>\n",
       "      <td>0</td>\n",
       "      <td>0</td>\n",
       "    </tr>\n",
       "    <tr>\n",
       "      <th>416</th>\n",
       "      <td>3</td>\n",
       "      <td>0</td>\n",
       "      <td>32.891990</td>\n",
       "      <td>0</td>\n",
       "      <td>0</td>\n",
       "      <td>8.0500</td>\n",
       "      <td>2</td>\n",
       "      <td>0</td>\n",
       "      <td>0</td>\n",
       "    </tr>\n",
       "    <tr>\n",
       "      <th>417</th>\n",
       "      <td>3</td>\n",
       "      <td>0</td>\n",
       "      <td>4.574167</td>\n",
       "      <td>1</td>\n",
       "      <td>1</td>\n",
       "      <td>22.3583</td>\n",
       "      <td>0</td>\n",
       "      <td>2</td>\n",
       "      <td>3</td>\n",
       "    </tr>\n",
       "  </tbody>\n",
       "</table>\n",
       "<p>418 rows × 9 columns</p>\n",
       "</div>"
      ],
      "text/plain": [
       "     Pclass  Sex        Age  SibSp  Parch      Fare  Embarked  family_size  \\\n",
       "0         3    0  34.500000      0      0    7.8292         1            0   \n",
       "1         3    1  47.000000      1      0    7.0000         2            1   \n",
       "2         2    0  62.000000      0      0    9.6875         1            0   \n",
       "3         3    0  27.000000      0      0    8.6625         2            0   \n",
       "4         3    1  22.000000      1      1   12.2875         2            2   \n",
       "..      ...  ...        ...    ...    ...       ...       ...          ...   \n",
       "413       3    0  32.891990      0      0    8.0500         2            0   \n",
       "414       1    1  39.000000      0      0  108.9000         0            0   \n",
       "415       3    0  38.500000      0      0    7.2500         2            0   \n",
       "416       3    0  32.891990      0      0    8.0500         2            0   \n",
       "417       3    0   4.574167      1      1   22.3583         0            2   \n",
       "\n",
       "     title  \n",
       "0        0  \n",
       "1        1  \n",
       "2        0  \n",
       "3        0  \n",
       "4        1  \n",
       "..     ...  \n",
       "413      0  \n",
       "414      0  \n",
       "415      0  \n",
       "416      0  \n",
       "417      3  \n",
       "\n",
       "[418 rows x 9 columns]"
      ]
     },
     "execution_count": 78,
     "metadata": {},
     "output_type": "execute_result"
    }
   ],
   "source": [
    "transformer.transform(test_df)\n",
    "t.transform(test_df)\n"
   ]
  },
  {
   "cell_type": "code",
   "execution_count": 79,
   "metadata": {
    "colab": {
     "base_uri": "https://localhost:8080/",
     "height": 187
    },
    "colab_type": "code",
    "id": "O5Xg7notRANa",
    "outputId": "ba4fa166-884a-4de0-ab7e-80ce68219de7"
   },
   "outputs": [
    {
     "data": {
      "text/plain": [
       "Pclass         0\n",
       "Sex            0\n",
       "Age            0\n",
       "SibSp          0\n",
       "Parch          0\n",
       "Fare           0\n",
       "Embarked       0\n",
       "family_size    0\n",
       "title          0\n",
       "dtype: int64"
      ]
     },
     "execution_count": 79,
     "metadata": {},
     "output_type": "execute_result"
    }
   ],
   "source": [
    "test_df.isna().sum()"
   ]
  },
  {
   "cell_type": "code",
   "execution_count": 80,
   "metadata": {
    "colab": {},
    "colab_type": "code",
    "id": "sNrmKHC1XQkL"
   },
   "outputs": [],
   "source": [
    "test_df['Survived'] = lr.predict(test_df.values)"
   ]
  },
  {
   "cell_type": "code",
   "execution_count": 98,
   "metadata": {},
   "outputs": [],
   "source": [
    "with open(f'model.pkl','rb') as f:\n",
    "    model = pickle.load(f)"
   ]
  },
  {
   "cell_type": "code",
   "execution_count": 100,
   "metadata": {},
   "outputs": [
    {
     "name": "stdout",
     "output_type": "stream",
     "text": [
      "1\n",
      "female\n",
      "22\n",
      "1\n",
      "2\n",
      "20\n",
      "C\n",
      "Mrs\n"
     ]
    }
   ],
   "source": [
    "Pclass = input()\n",
    "Sex = input()\n",
    "Age = input()\n",
    "SibSp = input()\n",
    "Parch = input()\n",
    "Fare = input()\n",
    "Embarked = input()\n",
    "family_size = SibSp + Parch\n",
    "title = input()\n",
    "input_values = pd.DataFrame([[Pclass,Sex,Age,SibSp,Parch,Fare,Embarked,family_size,title]],\n",
    "columns = ['Pclass','Sex','Age','SibSp','Parch','Fare','Embarked','family_size','title'])\n",
    "\n",
    "sex_dict = {'male':0,'female':1}\n",
    "input_values['Sex'] = input_values['Sex'].map(sex_dict)\n",
    "embark_dict = {'C':0,'Q':1,'S':2}\n",
    "input_values['Embarked'] = input_values['Embarked'].map(embark_dict)\n",
    "title_dict = {\"Mr\":0,\"Mrs\":1,\"Miss\":2,\"Master\":3}\n",
    "input_values['title'] = input_values['title'].map(title_dict)\n",
    "\n",
    "p = model.predict(input_values.values)\n",
    "\n",
    "if p[0] == 0:\n",
    "    prediction = \"Not survived\"\n",
    "else:\n",
    "    prediction = 'Survived'"
   ]
  },
  {
   "cell_type": "code",
   "execution_count": 103,
   "metadata": {},
   "outputs": [
    {
     "data": {
      "text/plain": [
       "0"
      ]
     },
     "execution_count": 103,
     "metadata": {},
     "output_type": "execute_result"
    }
   ],
   "source": []
  },
  {
   "cell_type": "code",
   "execution_count": 97,
   "metadata": {},
   "outputs": [
    {
     "data": {
      "text/plain": [
       "array([1])"
      ]
     },
     "execution_count": 97,
     "metadata": {},
     "output_type": "execute_result"
    }
   ],
   "source": [
    "\n",
    "lr.predict(np.array(m).reshape(1,-1))"
   ]
  },
  {
   "cell_type": "code",
   "execution_count": 93,
   "metadata": {
    "colab": {
     "base_uri": "https://localhost:8080/",
     "height": 204
    },
    "colab_type": "code",
    "id": "qwWX3IwqXZB8",
    "outputId": "b54dd44d-c40f-4406-a1d0-9bdb647cd05a"
   },
   "outputs": [
    {
     "data": {
      "text/html": [
       "<div>\n",
       "<style scoped>\n",
       "    .dataframe tbody tr th:only-of-type {\n",
       "        vertical-align: middle;\n",
       "    }\n",
       "\n",
       "    .dataframe tbody tr th {\n",
       "        vertical-align: top;\n",
       "    }\n",
       "\n",
       "    .dataframe thead th {\n",
       "        text-align: right;\n",
       "    }\n",
       "</style>\n",
       "<table border=\"1\" class=\"dataframe\">\n",
       "  <thead>\n",
       "    <tr style=\"text-align: right;\">\n",
       "      <th></th>\n",
       "      <th>Pclass</th>\n",
       "      <th>Sex</th>\n",
       "      <th>Age</th>\n",
       "      <th>SibSp</th>\n",
       "      <th>Parch</th>\n",
       "      <th>Fare</th>\n",
       "      <th>Embarked</th>\n",
       "      <th>family_size</th>\n",
       "      <th>title</th>\n",
       "      <th>Survived</th>\n",
       "    </tr>\n",
       "  </thead>\n",
       "  <tbody>\n",
       "    <tr>\n",
       "      <th>0</th>\n",
       "      <td>3</td>\n",
       "      <td>0</td>\n",
       "      <td>34.5</td>\n",
       "      <td>0</td>\n",
       "      <td>0</td>\n",
       "      <td>7.8292</td>\n",
       "      <td>1</td>\n",
       "      <td>0</td>\n",
       "      <td>0</td>\n",
       "      <td>0</td>\n",
       "    </tr>\n",
       "    <tr>\n",
       "      <th>1</th>\n",
       "      <td>3</td>\n",
       "      <td>1</td>\n",
       "      <td>47.0</td>\n",
       "      <td>1</td>\n",
       "      <td>0</td>\n",
       "      <td>7.0000</td>\n",
       "      <td>2</td>\n",
       "      <td>1</td>\n",
       "      <td>1</td>\n",
       "      <td>0</td>\n",
       "    </tr>\n",
       "    <tr>\n",
       "      <th>2</th>\n",
       "      <td>2</td>\n",
       "      <td>0</td>\n",
       "      <td>62.0</td>\n",
       "      <td>0</td>\n",
       "      <td>0</td>\n",
       "      <td>9.6875</td>\n",
       "      <td>1</td>\n",
       "      <td>0</td>\n",
       "      <td>0</td>\n",
       "      <td>0</td>\n",
       "    </tr>\n",
       "    <tr>\n",
       "      <th>3</th>\n",
       "      <td>3</td>\n",
       "      <td>0</td>\n",
       "      <td>27.0</td>\n",
       "      <td>0</td>\n",
       "      <td>0</td>\n",
       "      <td>8.6625</td>\n",
       "      <td>2</td>\n",
       "      <td>0</td>\n",
       "      <td>0</td>\n",
       "      <td>0</td>\n",
       "    </tr>\n",
       "    <tr>\n",
       "      <th>4</th>\n",
       "      <td>3</td>\n",
       "      <td>1</td>\n",
       "      <td>22.0</td>\n",
       "      <td>1</td>\n",
       "      <td>1</td>\n",
       "      <td>12.2875</td>\n",
       "      <td>2</td>\n",
       "      <td>2</td>\n",
       "      <td>1</td>\n",
       "      <td>0</td>\n",
       "    </tr>\n",
       "  </tbody>\n",
       "</table>\n",
       "</div>"
      ],
      "text/plain": [
       "   Pclass  Sex   Age  SibSp  Parch     Fare  Embarked  family_size  title  \\\n",
       "0       3    0  34.5      0      0   7.8292         1            0      0   \n",
       "1       3    1  47.0      1      0   7.0000         2            1      1   \n",
       "2       2    0  62.0      0      0   9.6875         1            0      0   \n",
       "3       3    0  27.0      0      0   8.6625         2            0      0   \n",
       "4       3    1  22.0      1      1  12.2875         2            2      1   \n",
       "\n",
       "   Survived  \n",
       "0         0  \n",
       "1         0  \n",
       "2         0  \n",
       "3         0  \n",
       "4         0  "
      ]
     },
     "execution_count": 93,
     "metadata": {},
     "output_type": "execute_result"
    }
   ],
   "source": [
    "test_df.head()"
   ]
  },
  {
   "cell_type": "markdown",
   "metadata": {},
   "source": [
    "## Kaggle submission file"
   ]
  },
  {
   "cell_type": "code",
   "execution_count": null,
   "metadata": {
    "colab": {},
    "colab_type": "code",
    "id": "mRB2yOe8YK2O"
   },
   "outputs": [],
   "source": [
    "test_df['PassengerId'] = passender_id"
   ]
  },
  {
   "cell_type": "code",
   "execution_count": null,
   "metadata": {
    "colab": {},
    "colab_type": "code",
    "id": "wPRI02kHYWIj"
   },
   "outputs": [],
   "source": [
    "submission = test_df.drop(columns = ['Pclass','Sex','Age','SibSp','Parch','Fare','Embarked','family_size','title'])"
   ]
  },
  {
   "cell_type": "code",
   "execution_count": null,
   "metadata": {
    "colab": {},
    "colab_type": "code",
    "id": "eGJwzqe_Yjud"
   },
   "outputs": [],
   "source": [
    "submission = submission[['PassengerId','Survived']]\n",
    "submission.set_index('PassengerId',drop = True,inplace = True)"
   ]
  },
  {
   "cell_type": "markdown",
   "metadata": {
    "colab": {},
    "colab_type": "code",
    "id": "Aa97spEeY_9J"
   },
   "source": [
    "## Pickling logistic regression model"
   ]
  },
  {
   "cell_type": "code",
   "execution_count": 112,
   "metadata": {},
   "outputs": [],
   "source": [
    "with open('model.pkl','wb') as file:\n",
    "    pickle.dump(lr,file)"
   ]
  },
  {
   "cell_type": "code",
   "execution_count": null,
   "metadata": {},
   "outputs": [],
   "source": []
  }
 ],
 "metadata": {
  "colab": {
   "collapsed_sections": [],
   "name": "Titanic.ipynb",
   "provenance": []
  },
  "kernelspec": {
   "display_name": "Python 3",
   "language": "python",
   "name": "python3"
  },
  "language_info": {
   "codemirror_mode": {
    "name": "ipython",
    "version": 3
   },
   "file_extension": ".py",
   "mimetype": "text/x-python",
   "name": "python",
   "nbconvert_exporter": "python",
   "pygments_lexer": "ipython3",
   "version": "3.8.3"
  }
 },
 "nbformat": 4,
 "nbformat_minor": 1
}
